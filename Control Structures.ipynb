{
 "cells": [
  {
   "cell_type": "code",
   "execution_count": null,
   "id": "a90aef18",
   "metadata": {},
   "outputs": [],
   "source": [
    "# This study file was prepared to study and revise Python based on \n",
    "# what I've learnt from Satyajit Patnik, owner of the Data Analytics / Data Science Masters courses."
   ]
  },
  {
   "cell_type": "code",
   "execution_count": null,
   "id": "0677bcca",
   "metadata": {},
   "outputs": [],
   "source": [
    "# Control structures are the blocks that analyze variables and choose directions in which to go based on given parameters\n",
    "# Binary operators : Works with 2 operands, operand can be a + b -->  a and b are two operands\n",
    "# a + 3 --> a is operand and 3 is constant variable\n",
    "#Relational Operators : Type of binary operator, compares values on the either side of the operator and returns a boolean value\n",
    "#like True or False"
   ]
  },
  {
   "cell_type": "code",
   "execution_count": 1,
   "id": "cb782249",
   "metadata": {},
   "outputs": [],
   "source": [
    "# =, + , - , *, **,  /, //, %, <, <=, >, >=, ==, != , <>, and (&), or (|), not are the operators "
   ]
  },
  {
   "cell_type": "code",
   "execution_count": 2,
   "id": "a5f3e962",
   "metadata": {},
   "outputs": [],
   "source": [
    "a = [1,2,30]"
   ]
  },
  {
   "cell_type": "code",
   "execution_count": 3,
   "id": "03db3adc",
   "metadata": {},
   "outputs": [
    {
     "data": {
      "text/plain": [
       "list"
      ]
     },
     "execution_count": 3,
     "metadata": {},
     "output_type": "execute_result"
    }
   ],
   "source": [
    "type(a)"
   ]
  },
  {
   "cell_type": "code",
   "execution_count": 4,
   "id": "a9d2da76",
   "metadata": {},
   "outputs": [
    {
     "name": "stdout",
     "output_type": "stream",
     "text": [
      "[1, 2, 30]\n"
     ]
    }
   ],
   "source": [
    "print(a)"
   ]
  },
  {
   "cell_type": "code",
   "execution_count": 5,
   "id": "8d09b717",
   "metadata": {},
   "outputs": [
    {
     "data": {
      "text/plain": [
       "3"
      ]
     },
     "execution_count": 5,
     "metadata": {},
     "output_type": "execute_result"
    }
   ],
   "source": [
    "len(a)"
   ]
  },
  {
   "cell_type": "markdown",
   "id": "17dd3d3f",
   "metadata": {},
   "source": [
    "# equals to operator"
   ]
  },
  {
   "cell_type": "code",
   "execution_count": 6,
   "id": "7599a2be",
   "metadata": {},
   "outputs": [
    {
     "data": {
      "text/plain": [
       "True"
      ]
     },
     "execution_count": 6,
     "metadata": {},
     "output_type": "execute_result"
    }
   ],
   "source": [
    "12 == 12"
   ]
  },
  {
   "cell_type": "code",
   "execution_count": 7,
   "id": "6a345c0d",
   "metadata": {},
   "outputs": [
    {
     "data": {
      "text/plain": [
       "False"
      ]
     },
     "execution_count": 7,
     "metadata": {},
     "output_type": "execute_result"
    }
   ],
   "source": [
    "12 == 13"
   ]
  },
  {
   "cell_type": "code",
   "execution_count": 8,
   "id": "1dac69dc",
   "metadata": {},
   "outputs": [
    {
     "data": {
      "text/plain": [
       "False"
      ]
     },
     "execution_count": 8,
     "metadata": {},
     "output_type": "execute_result"
    }
   ],
   "source": [
    "10 == 5"
   ]
  },
  {
   "cell_type": "code",
   "execution_count": null,
   "id": "20d57be4",
   "metadata": {},
   "outputs": [],
   "source": [
    "# Note: = is an assignment operator but == checks if the values on the either side of it are the same or not "
   ]
  },
  {
   "cell_type": "markdown",
   "id": "d4b96b3f",
   "metadata": {},
   "source": [
    "# not equal to operator"
   ]
  },
  {
   "cell_type": "code",
   "execution_count": 9,
   "id": "3055b6f4",
   "metadata": {},
   "outputs": [
    {
     "data": {
      "text/plain": [
       "True"
      ]
     },
     "execution_count": 9,
     "metadata": {},
     "output_type": "execute_result"
    }
   ],
   "source": [
    "10 != 5"
   ]
  },
  {
   "cell_type": "code",
   "execution_count": 10,
   "id": "24e5a510",
   "metadata": {},
   "outputs": [
    {
     "data": {
      "text/plain": [
       "False"
      ]
     },
     "execution_count": 10,
     "metadata": {},
     "output_type": "execute_result"
    }
   ],
   "source": [
    "5 != 5"
   ]
  },
  {
   "cell_type": "code",
   "execution_count": 12,
   "id": "0bfccf8b",
   "metadata": {},
   "outputs": [
    {
     "data": {
      "text/plain": [
       "True"
      ]
     },
     "execution_count": 12,
     "metadata": {},
     "output_type": "execute_result"
    }
   ],
   "source": [
    "11 != 13"
   ]
  },
  {
   "cell_type": "markdown",
   "id": "41f1cc72",
   "metadata": {},
   "source": [
    "# > , >=, <, <= operators"
   ]
  },
  {
   "cell_type": "code",
   "execution_count": 13,
   "id": "e3f48572",
   "metadata": {},
   "outputs": [
    {
     "data": {
      "text/plain": [
       "False"
      ]
     },
     "execution_count": 13,
     "metadata": {},
     "output_type": "execute_result"
    }
   ],
   "source": [
    "1 > 2"
   ]
  },
  {
   "cell_type": "code",
   "execution_count": 14,
   "id": "551bb856",
   "metadata": {},
   "outputs": [
    {
     "data": {
      "text/plain": [
       "True"
      ]
     },
     "execution_count": 14,
     "metadata": {},
     "output_type": "execute_result"
    }
   ],
   "source": [
    "2 > 1"
   ]
  },
  {
   "cell_type": "code",
   "execution_count": 15,
   "id": "53cfce74",
   "metadata": {},
   "outputs": [
    {
     "data": {
      "text/plain": [
       "True"
      ]
     },
     "execution_count": 15,
     "metadata": {},
     "output_type": "execute_result"
    }
   ],
   "source": [
    "2 >= 1"
   ]
  },
  {
   "cell_type": "code",
   "execution_count": 16,
   "id": "3515d463",
   "metadata": {},
   "outputs": [
    {
     "data": {
      "text/plain": [
       "True"
      ]
     },
     "execution_count": 16,
     "metadata": {},
     "output_type": "execute_result"
    }
   ],
   "source": [
    "1 <= 2"
   ]
  },
  {
   "cell_type": "code",
   "execution_count": 17,
   "id": "0fe762b7",
   "metadata": {},
   "outputs": [
    {
     "data": {
      "text/plain": [
       "False"
      ]
     },
     "execution_count": 17,
     "metadata": {},
     "output_type": "execute_result"
    }
   ],
   "source": [
    "2 <= 1"
   ]
  },
  {
   "cell_type": "code",
   "execution_count": 18,
   "id": "af0108eb",
   "metadata": {},
   "outputs": [
    {
     "data": {
      "text/plain": [
       "True"
      ]
     },
     "execution_count": 18,
     "metadata": {},
     "output_type": "execute_result"
    }
   ],
   "source": [
    "5 >= 5"
   ]
  },
  {
   "cell_type": "code",
   "execution_count": 19,
   "id": "641a553c",
   "metadata": {},
   "outputs": [
    {
     "data": {
      "text/plain": [
       "True"
      ]
     },
     "execution_count": 19,
     "metadata": {},
     "output_type": "execute_result"
    }
   ],
   "source": [
    "4 <= 4"
   ]
  },
  {
   "cell_type": "markdown",
   "id": "bb65b5e1",
   "metadata": {},
   "source": [
    "# Decision Making with if, elif and else"
   ]
  },
  {
   "cell_type": "code",
   "execution_count": 23,
   "id": "13f1749d",
   "metadata": {},
   "outputs": [],
   "source": [
    "age = 58"
   ]
  },
  {
   "cell_type": "code",
   "execution_count": 24,
   "id": "cb73aa2c",
   "metadata": {},
   "outputs": [
    {
     "name": "stdout",
     "output_type": "stream",
     "text": [
      "Adult\n"
     ]
    }
   ],
   "source": [
    "if (age < 50):\n",
    "    print(\"Young\")\n",
    "else:\n",
    "    print(\"Adult\")"
   ]
  },
  {
   "cell_type": "code",
   "execution_count": 35,
   "id": "d524f313",
   "metadata": {},
   "outputs": [],
   "source": [
    "age_of_mine = 26"
   ]
  },
  {
   "cell_type": "code",
   "execution_count": 36,
   "id": "6ed59f3f",
   "metadata": {},
   "outputs": [
    {
     "name": "stdout",
     "output_type": "stream",
     "text": [
      "Middle Age\n"
     ]
    }
   ],
   "source": [
    "if (age_of_mine < 20):\n",
    "    print(\"Young\")\n",
    "elif (age_of_mine < 30):\n",
    "    print(\"Middle Age\")\n",
    "else:\n",
    "    print(\"Adult\")"
   ]
  },
  {
   "cell_type": "code",
   "execution_count": 37,
   "id": "e3526a45",
   "metadata": {},
   "outputs": [],
   "source": [
    "# if-else or if-elif-elif-.....-else"
   ]
  },
  {
   "cell_type": "code",
   "execution_count": 43,
   "id": "c5a56376",
   "metadata": {},
   "outputs": [],
   "source": [
    "x = 6"
   ]
  },
  {
   "cell_type": "code",
   "execution_count": 44,
   "id": "fb51aa04",
   "metadata": {},
   "outputs": [
    {
     "name": "stdout",
     "output_type": "stream",
     "text": [
      "X is even. X is : 6\n"
     ]
    }
   ],
   "source": [
    "if (x % 2 == 0):\n",
    "    print(\"X is even. X is :\", x)\n",
    "else:\n",
    "    print(\"X is odd. X is :\", x)"
   ]
  },
  {
   "cell_type": "code",
   "execution_count": 49,
   "id": "5b3d2c9e",
   "metadata": {},
   "outputs": [
    {
     "name": "stdout",
     "output_type": "stream",
     "text": [
      "Please enter your age: 20\n",
      "You're not invited to the PM's party. Your age is : 20\n"
     ]
    }
   ],
   "source": [
    "# Nested If Example\n",
    "age = int(input(\"Please enter your age: \"))\n",
    "\n",
    "if (age <= 0):\n",
    "    print(\"Please enter a proper value bigger than 0\")\n",
    "else:\n",
    "    if (age <= 18) or (age >= 60):\n",
    "        print(\"You're invited to the PM's party. Your age is : \", age)\n",
    "    else:\n",
    "        print(\"You're not invited to the PM's party. Your age is :\", age)"
   ]
  },
  {
   "cell_type": "code",
   "execution_count": null,
   "id": "094ff056",
   "metadata": {},
   "outputs": [],
   "source": [
    "    "
   ]
  }
 ],
 "metadata": {
  "kernelspec": {
   "display_name": "Python 3 (ipykernel)",
   "language": "python",
   "name": "python3"
  },
  "language_info": {
   "codemirror_mode": {
    "name": "ipython",
    "version": 3
   },
   "file_extension": ".py",
   "mimetype": "text/x-python",
   "name": "python",
   "nbconvert_exporter": "python",
   "pygments_lexer": "ipython3",
   "version": "3.11.5"
  }
 },
 "nbformat": 4,
 "nbformat_minor": 5
}
