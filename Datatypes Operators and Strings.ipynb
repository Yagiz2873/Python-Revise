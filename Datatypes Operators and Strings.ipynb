{
 "cells": [
  {
   "cell_type": "code",
   "execution_count": 1,
   "id": "7962d162",
   "metadata": {},
   "outputs": [],
   "source": [
    "# Data types\n",
    "# 1-) Numeric : Integer , Float , Complex Numbers\n",
    "# 2-) Dictionary : Keys and Values\n",
    "# 3-) Boolean : True , False\n",
    "# 4-) Set\n",
    "# 5-) Sequence : Strings, Tuples, Lists\n",
    "# Variables hold values of different data types\n",
    "# You can check the values' data types with type() function\n",
    "\n",
    "# Operands and Operators\n",
    "# 1-) Operand : a quantity to which an operator is applied\n",
    "# 2-) Operator : +, -, /, //, *, **, % ....\n",
    "# 3-) Order of the Precedence : PEMDAS (1-)Paranthesis 2-)Exponentiation \n",
    "#                               3-)Multiplication and Division 4-)Addition and Subtraction) (Left to right) "
   ]
  },
  {
   "cell_type": "code",
   "execution_count": 2,
   "id": "f5562eb1",
   "metadata": {},
   "outputs": [
    {
     "name": "stdout",
     "output_type": "stream",
     "text": [
      "Yağız\n"
     ]
    }
   ],
   "source": [
    "name = 'Yağız'\n",
    "print(name)"
   ]
  },
  {
   "cell_type": "code",
   "execution_count": 3,
   "id": "08ca6439",
   "metadata": {},
   "outputs": [
    {
     "data": {
      "text/plain": [
       "str"
      ]
     },
     "execution_count": 3,
     "metadata": {},
     "output_type": "execute_result"
    }
   ],
   "source": [
    "type(name)"
   ]
  },
  {
   "cell_type": "code",
   "execution_count": 4,
   "id": "a6fe8999",
   "metadata": {},
   "outputs": [
    {
     "name": "stdout",
     "output_type": "stream",
     "text": [
      "Please enter your name: Yağız Esmerligil\n",
      "Welcome,  Yağız Esmerligil\n"
     ]
    }
   ],
   "source": [
    "name = input(\"Please enter your name: \")\n",
    "print(\"Welcome, \", name)"
   ]
  },
  {
   "cell_type": "code",
   "execution_count": 5,
   "id": "a406d3c5",
   "metadata": {},
   "outputs": [
    {
     "data": {
      "text/plain": [
       "'Yağız Esmerligil'"
      ]
     },
     "execution_count": 5,
     "metadata": {},
     "output_type": "execute_result"
    }
   ],
   "source": [
    "name"
   ]
  },
  {
   "cell_type": "code",
   "execution_count": 6,
   "id": "018b6df7",
   "metadata": {},
   "outputs": [
    {
     "data": {
      "text/plain": [
       "str"
      ]
     },
     "execution_count": 6,
     "metadata": {},
     "output_type": "execute_result"
    }
   ],
   "source": [
    "type(name)"
   ]
  },
  {
   "cell_type": "code",
   "execution_count": 7,
   "id": "05577fac",
   "metadata": {},
   "outputs": [
    {
     "name": "stdout",
     "output_type": "stream",
     "text": [
      "<class 'bool'>\n",
      "<class 'str'>\n"
     ]
    }
   ],
   "source": [
    "a = True\n",
    "b = \"True\"\n",
    "print(type(a))\n",
    "print(type(b))\n"
   ]
  },
  {
   "cell_type": "markdown",
   "id": "0733a97d",
   "metadata": {},
   "source": [
    "## Typecasting"
   ]
  },
  {
   "cell_type": "code",
   "execution_count": 8,
   "id": "c182ec70",
   "metadata": {},
   "outputs": [],
   "source": [
    "# int(), float(), str()"
   ]
  },
  {
   "cell_type": "code",
   "execution_count": 9,
   "id": "2ae383b0",
   "metadata": {},
   "outputs": [
    {
     "name": "stdout",
     "output_type": "stream",
     "text": [
      "<class 'float'>\n",
      "91.2\n"
     ]
    }
   ],
   "source": [
    "acc = 91.2\n",
    "print(type(acc))\n",
    "print(acc)"
   ]
  },
  {
   "cell_type": "code",
   "execution_count": 10,
   "id": "b0f07244",
   "metadata": {},
   "outputs": [
    {
     "name": "stdout",
     "output_type": "stream",
     "text": [
      "<class 'int'>\n",
      "91\n"
     ]
    }
   ],
   "source": [
    "int_acc = int(acc)\n",
    "print(type(int_acc))\n",
    "print(int_acc)"
   ]
  },
  {
   "cell_type": "code",
   "execution_count": 11,
   "id": "ca2480ec",
   "metadata": {},
   "outputs": [
    {
     "name": "stdout",
     "output_type": "stream",
     "text": [
      "<class 'int'>\n",
      "5\n"
     ]
    }
   ],
   "source": [
    "number = 5\n",
    "print(type(number))\n",
    "print(number)"
   ]
  },
  {
   "cell_type": "code",
   "execution_count": 12,
   "id": "47227a16",
   "metadata": {},
   "outputs": [
    {
     "name": "stdout",
     "output_type": "stream",
     "text": [
      "<class 'float'>\n",
      "5.0\n"
     ]
    }
   ],
   "source": [
    "float_number = float(number)\n",
    "print(type(float_number))\n",
    "print(float_number)"
   ]
  },
  {
   "cell_type": "code",
   "execution_count": 13,
   "id": "1cd0aedb",
   "metadata": {},
   "outputs": [
    {
     "name": "stdout",
     "output_type": "stream",
     "text": [
      "<class 'str'>\n",
      "2\n"
     ]
    }
   ],
   "source": [
    "var = 2\n",
    "str_var = str(var)\n",
    "print(type(str_var))\n",
    "print(str_var)"
   ]
  },
  {
   "cell_type": "code",
   "execution_count": 14,
   "id": "c2f8f911",
   "metadata": {},
   "outputs": [
    {
     "name": "stdout",
     "output_type": "stream",
     "text": [
      "<class 'int'>\n",
      "2\n"
     ]
    }
   ],
   "source": [
    "var = \"2\"\n",
    "int_var = int(var)\n",
    "print(type(int_var))\n",
    "print(int_var)"
   ]
  },
  {
   "cell_type": "code",
   "execution_count": 15,
   "id": "2af3baee",
   "metadata": {},
   "outputs": [
    {
     "ename": "ValueError",
     "evalue": "invalid literal for int() with base 10: '2.5'",
     "output_type": "error",
     "traceback": [
      "\u001b[1;31m---------------------------------------------------------------------------\u001b[0m",
      "\u001b[1;31mValueError\u001b[0m                                Traceback (most recent call last)",
      "Cell \u001b[1;32mIn[15], line 2\u001b[0m\n\u001b[0;32m      1\u001b[0m var \u001b[38;5;241m=\u001b[39m \u001b[38;5;124m\"\u001b[39m\u001b[38;5;124m2.5\u001b[39m\u001b[38;5;124m\"\u001b[39m\n\u001b[1;32m----> 2\u001b[0m int_var \u001b[38;5;241m=\u001b[39m \u001b[38;5;28mint\u001b[39m(var)\n\u001b[0;32m      3\u001b[0m \u001b[38;5;28mprint\u001b[39m(\u001b[38;5;28mtype\u001b[39m(int_var))\n\u001b[0;32m      4\u001b[0m \u001b[38;5;28mprint\u001b[39m(int_var)\n",
      "\u001b[1;31mValueError\u001b[0m: invalid literal for int() with base 10: '2.5'"
     ]
    }
   ],
   "source": [
    "var = \"2.5\"\n",
    "int_var = int(var)\n",
    "print(type(int_var))\n",
    "print(int_var)"
   ]
  },
  {
   "cell_type": "code",
   "execution_count": 16,
   "id": "6b116c01",
   "metadata": {},
   "outputs": [
    {
     "name": "stdout",
     "output_type": "stream",
     "text": [
      "<class 'float'>\n",
      "2.5\n",
      "<class 'int'>\n",
      "2\n"
     ]
    }
   ],
   "source": [
    "var = \"2.5\"\n",
    "float_var = float(var)\n",
    "print(type(float_var))\n",
    "print(float_var)\n",
    "int_var = int(float_var)\n",
    "print(type(int_var))\n",
    "print(int_var)"
   ]
  },
  {
   "cell_type": "markdown",
   "id": "a26d28e3",
   "metadata": {},
   "source": [
    "## Strings"
   ]
  },
  {
   "cell_type": "code",
   "execution_count": 17,
   "id": "e31b2274",
   "metadata": {},
   "outputs": [],
   "source": [
    "str1 = \"HELLO\""
   ]
  },
  {
   "cell_type": "code",
   "execution_count": 18,
   "id": "26eb777f",
   "metadata": {},
   "outputs": [],
   "source": [
    "# H --> 0th index   -5. index\n",
    "# E --> 1st index   -4. index\n",
    "# L --> 2nd index   -3. index\n",
    "# L --> 3rd index   -2. index\n",
    "# 0 --> 4th index   -1. index"
   ]
  },
  {
   "cell_type": "code",
   "execution_count": 19,
   "id": "25f49c38",
   "metadata": {},
   "outputs": [],
   "source": [
    "# You can access the string's elements but you can not change them indiviually. Strings are immutable, just like tuples\n",
    "# Create strings with new values instead.  "
   ]
  },
  {
   "cell_type": "code",
   "execution_count": 20,
   "id": "87157d76",
   "metadata": {},
   "outputs": [
    {
     "data": {
      "text/plain": [
       "'H'"
      ]
     },
     "execution_count": 20,
     "metadata": {},
     "output_type": "execute_result"
    }
   ],
   "source": [
    "str1[0]"
   ]
  },
  {
   "cell_type": "code",
   "execution_count": 21,
   "id": "3a88b202",
   "metadata": {},
   "outputs": [
    {
     "data": {
      "text/plain": [
       "'E'"
      ]
     },
     "execution_count": 21,
     "metadata": {},
     "output_type": "execute_result"
    }
   ],
   "source": [
    "str1[1]"
   ]
  },
  {
   "cell_type": "code",
   "execution_count": 22,
   "id": "774fb743",
   "metadata": {},
   "outputs": [
    {
     "data": {
      "text/plain": [
       "'O'"
      ]
     },
     "execution_count": 22,
     "metadata": {},
     "output_type": "execute_result"
    }
   ],
   "source": [
    "str1[-1]"
   ]
  },
  {
   "cell_type": "code",
   "execution_count": 23,
   "id": "0565113e",
   "metadata": {},
   "outputs": [
    {
     "data": {
      "text/plain": [
       "'H'"
      ]
     },
     "execution_count": 23,
     "metadata": {},
     "output_type": "execute_result"
    }
   ],
   "source": [
    "str1[-5]"
   ]
  },
  {
   "cell_type": "code",
   "execution_count": 24,
   "id": "d7ff070e",
   "metadata": {},
   "outputs": [
    {
     "name": "stdout",
     "output_type": "stream",
     "text": [
      "H\n",
      "E\n",
      "L\n",
      "L\n",
      "O\n"
     ]
    }
   ],
   "source": [
    "for ele in str1:\n",
    "    print(ele)"
   ]
  },
  {
   "cell_type": "code",
   "execution_count": 25,
   "id": "72b7b5c2",
   "metadata": {},
   "outputs": [
    {
     "ename": "TypeError",
     "evalue": "'str' object does not support item assignment",
     "output_type": "error",
     "traceback": [
      "\u001b[1;31m---------------------------------------------------------------------------\u001b[0m",
      "\u001b[1;31mTypeError\u001b[0m                                 Traceback (most recent call last)",
      "Cell \u001b[1;32mIn[25], line 1\u001b[0m\n\u001b[1;32m----> 1\u001b[0m str1[\u001b[38;5;241m0\u001b[39m] \u001b[38;5;241m=\u001b[39m \u001b[38;5;124m\"\u001b[39m\u001b[38;5;124mY\u001b[39m\u001b[38;5;124m\"\u001b[39m\n",
      "\u001b[1;31mTypeError\u001b[0m: 'str' object does not support item assignment"
     ]
    }
   ],
   "source": [
    "str1[0] = \"Y\""
   ]
  },
  {
   "cell_type": "code",
   "execution_count": 26,
   "id": "1eb7f549",
   "metadata": {},
   "outputs": [
    {
     "name": "stdout",
     "output_type": "stream",
     "text": [
      "YELLO\n"
     ]
    }
   ],
   "source": [
    "str1= \"YELLO\"\n",
    "print(str1)"
   ]
  },
  {
   "cell_type": "markdown",
   "id": "8fdbf10f",
   "metadata": {},
   "source": [
    "## Arithmetic Operations and Operators and Operands"
   ]
  },
  {
   "cell_type": "code",
   "execution_count": 27,
   "id": "3e070a57",
   "metadata": {},
   "outputs": [],
   "source": [
    "# +, - , *, **, /, //, %"
   ]
  },
  {
   "cell_type": "code",
   "execution_count": 28,
   "id": "27b53fd3",
   "metadata": {},
   "outputs": [],
   "source": [
    "a = 10\n",
    "b = 2"
   ]
  },
  {
   "cell_type": "code",
   "execution_count": 29,
   "id": "36862cd6",
   "metadata": {},
   "outputs": [
    {
     "data": {
      "text/plain": [
       "12"
      ]
     },
     "execution_count": 29,
     "metadata": {},
     "output_type": "execute_result"
    }
   ],
   "source": [
    "a + b "
   ]
  },
  {
   "cell_type": "code",
   "execution_count": 30,
   "id": "954136e0",
   "metadata": {},
   "outputs": [
    {
     "data": {
      "text/plain": [
       "8"
      ]
     },
     "execution_count": 30,
     "metadata": {},
     "output_type": "execute_result"
    }
   ],
   "source": [
    "a - b"
   ]
  },
  {
   "cell_type": "code",
   "execution_count": 31,
   "id": "f887ea11",
   "metadata": {},
   "outputs": [
    {
     "data": {
      "text/plain": [
       "20"
      ]
     },
     "execution_count": 31,
     "metadata": {},
     "output_type": "execute_result"
    }
   ],
   "source": [
    "a * b"
   ]
  },
  {
   "cell_type": "code",
   "execution_count": 32,
   "id": "8c5ad21c",
   "metadata": {},
   "outputs": [
    {
     "data": {
      "text/plain": [
       "5.0"
      ]
     },
     "execution_count": 32,
     "metadata": {},
     "output_type": "execute_result"
    }
   ],
   "source": [
    "a / b"
   ]
  },
  {
   "cell_type": "code",
   "execution_count": 33,
   "id": "5cc54340",
   "metadata": {},
   "outputs": [
    {
     "data": {
      "text/plain": [
       "5"
      ]
     },
     "execution_count": 33,
     "metadata": {},
     "output_type": "execute_result"
    }
   ],
   "source": [
    "a // b"
   ]
  },
  {
   "cell_type": "code",
   "execution_count": 34,
   "id": "f32a44c9",
   "metadata": {},
   "outputs": [
    {
     "data": {
      "text/plain": [
       "0"
      ]
     },
     "execution_count": 34,
     "metadata": {},
     "output_type": "execute_result"
    }
   ],
   "source": [
    "a % b"
   ]
  },
  {
   "cell_type": "code",
   "execution_count": 35,
   "id": "6fa34e82",
   "metadata": {},
   "outputs": [
    {
     "data": {
      "text/plain": [
       "100"
      ]
     },
     "execution_count": 35,
     "metadata": {},
     "output_type": "execute_result"
    }
   ],
   "source": [
    "a ** b"
   ]
  },
  {
   "cell_type": "code",
   "execution_count": 36,
   "id": "13f33b53",
   "metadata": {},
   "outputs": [],
   "source": [
    "# Order of Precedence : PEMDAS"
   ]
  },
  {
   "cell_type": "code",
   "execution_count": 38,
   "id": "74dc0e4b",
   "metadata": {},
   "outputs": [
    {
     "name": "stdout",
     "output_type": "stream",
     "text": [
      "11.857142857142858\n"
     ]
    }
   ],
   "source": [
    "print( (4 * 5 ) - 9 + 6 / 7 )"
   ]
  },
  {
   "cell_type": "code",
   "execution_count": 39,
   "id": "d9b2defd",
   "metadata": {},
   "outputs": [
    {
     "name": "stdout",
     "output_type": "stream",
     "text": [
      "-2\n"
     ]
    }
   ],
   "source": [
    "print(4 % ( 1 + 9 ) ** 2 - 60 // ( 7 + 2 ))"
   ]
  },
  {
   "cell_type": "code",
   "execution_count": null,
   "id": "65fa9c01",
   "metadata": {},
   "outputs": [],
   "source": [
    "  "
   ]
  }
 ],
 "metadata": {
  "kernelspec": {
   "display_name": "Python 3 (ipykernel)",
   "language": "python",
   "name": "python3"
  },
  "language_info": {
   "codemirror_mode": {
    "name": "ipython",
    "version": 3
   },
   "file_extension": ".py",
   "mimetype": "text/x-python",
   "name": "python",
   "nbconvert_exporter": "python",
   "pygments_lexer": "ipython3",
   "version": "3.11.5"
  }
 },
 "nbformat": 4,
 "nbformat_minor": 5
}
