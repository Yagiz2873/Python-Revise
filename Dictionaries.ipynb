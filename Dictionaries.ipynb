{
 "cells": [
  {
   "cell_type": "code",
   "execution_count": 1,
   "id": "5334ff64",
   "metadata": {},
   "outputs": [],
   "source": [
    "# This study file was prepared to study and revise Python based on \n",
    "# what I've learnt from Satyajit Patnik, owner of the Data Analytics / Data Science Masters courses.  "
   ]
  },
  {
   "cell_type": "code",
   "execution_count": 2,
   "id": "84ab41a0",
   "metadata": {},
   "outputs": [],
   "source": [
    "# Dictionaries are the unordered collection of data.\n",
    "# Data in dictionary is stored as a key : value pair.\n",
    "# Keys are immutable, they are unique and like an index (keys in dictionaries, strings, tuples are immutable) and values can be any of types.\n",
    "# Values are objects that contains information. Values are accessed using their keys. Values can be mutable, immutable & duplicates.\n",
    "# Dict = {\"name\" : \"John\" , 'age' : 10}\n",
    "# Keys = name and age ,  Values = John and 10"
   ]
  },
  {
   "cell_type": "code",
   "execution_count": 3,
   "id": "3866892f",
   "metadata": {},
   "outputs": [
    {
     "data": {
      "text/plain": [
       "dict"
      ]
     },
     "execution_count": 3,
     "metadata": {},
     "output_type": "execute_result"
    }
   ],
   "source": [
    "Dict = {\"name\" : \"John\" , 'age' : 10}\n",
    "type(Dict)"
   ]
  },
  {
   "cell_type": "code",
   "execution_count": 4,
   "id": "ccc7e227",
   "metadata": {},
   "outputs": [],
   "source": [
    "d1 = {\"India\" : \"INR\", \"USA\": \"USD\" , \"Hong Kong\" : \"HKD\"}"
   ]
  },
  {
   "cell_type": "code",
   "execution_count": 5,
   "id": "8c732b43",
   "metadata": {},
   "outputs": [
    {
     "data": {
      "text/plain": [
       "dict"
      ]
     },
     "execution_count": 5,
     "metadata": {},
     "output_type": "execute_result"
    }
   ],
   "source": [
    "type(d1)"
   ]
  },
  {
   "cell_type": "code",
   "execution_count": 6,
   "id": "8fbc0a31",
   "metadata": {},
   "outputs": [
    {
     "data": {
      "text/plain": [
       "3"
      ]
     },
     "execution_count": 6,
     "metadata": {},
     "output_type": "execute_result"
    }
   ],
   "source": [
    "len(d1)"
   ]
  },
  {
   "cell_type": "code",
   "execution_count": 7,
   "id": "53fa7086",
   "metadata": {},
   "outputs": [
    {
     "data": {
      "text/plain": [
       "{'India': 'INR', 'USA': 'USD', 'Hong Kong': 'HK$'}"
      ]
     },
     "execution_count": 7,
     "metadata": {},
     "output_type": "execute_result"
    }
   ],
   "source": [
    "# Replacing value\n",
    "d1[\"Hong Kong\"] = \"HK$\"\n",
    "d1"
   ]
  },
  {
   "cell_type": "code",
   "execution_count": 8,
   "id": "c8162592",
   "metadata": {},
   "outputs": [
    {
     "data": {
      "text/plain": [
       "{'India': 'INR', 'USA': 'USD', 'Hong Kong': 'HK$', 'Japan': 'YEN'}"
      ]
     },
     "execution_count": 8,
     "metadata": {},
     "output_type": "execute_result"
    }
   ],
   "source": [
    "# Inserting new entity\n",
    "d1[\"Japan\"] = \"YEN\"\n",
    "d1"
   ]
  },
  {
   "cell_type": "code",
   "execution_count": 9,
   "id": "3adc06ca",
   "metadata": {},
   "outputs": [
    {
     "data": {
      "text/plain": [
       "4"
      ]
     },
     "execution_count": 9,
     "metadata": {},
     "output_type": "execute_result"
    }
   ],
   "source": [
    "len(d1)"
   ]
  },
  {
   "cell_type": "code",
   "execution_count": 10,
   "id": "4e9a4f66",
   "metadata": {},
   "outputs": [
    {
     "data": {
      "text/plain": [
       "{'India': 'INR', 'USA': 'USD', 'Hong Kong': 'HK$'}"
      ]
     },
     "execution_count": 10,
     "metadata": {},
     "output_type": "execute_result"
    }
   ],
   "source": [
    "# Deleting element\n",
    "del d1[\"Japan\"]\n",
    "d1"
   ]
  },
  {
   "cell_type": "code",
   "execution_count": 11,
   "id": "27262ed4",
   "metadata": {},
   "outputs": [
    {
     "data": {
      "text/plain": [
       "['Hong Kong', 'India', 'USA']"
      ]
     },
     "execution_count": 11,
     "metadata": {},
     "output_type": "execute_result"
    }
   ],
   "source": [
    "# Sorting elements\n",
    "sorted(d1)"
   ]
  },
  {
   "cell_type": "code",
   "execution_count": 12,
   "id": "4ac24d92",
   "metadata": {},
   "outputs": [
    {
     "ename": "KeyError",
     "evalue": "'Germany'",
     "output_type": "error",
     "traceback": [
      "\u001b[1;31m---------------------------------------------------------------------------\u001b[0m",
      "\u001b[1;31mKeyError\u001b[0m                                  Traceback (most recent call last)",
      "Cell \u001b[1;32mIn[12], line 1\u001b[0m\n\u001b[1;32m----> 1\u001b[0m d1[\u001b[38;5;124m\"\u001b[39m\u001b[38;5;124mGermany\u001b[39m\u001b[38;5;124m\"\u001b[39m]\n",
      "\u001b[1;31mKeyError\u001b[0m: 'Germany'"
     ]
    }
   ],
   "source": [
    "d1[\"Germany\"]"
   ]
  },
  {
   "cell_type": "code",
   "execution_count": 13,
   "id": "308910e5",
   "metadata": {},
   "outputs": [
    {
     "data": {
      "text/plain": [
       "{'India': 'INR', 'USA': 'USD', 'Hong Kong': 'HK$'}"
      ]
     },
     "execution_count": 13,
     "metadata": {},
     "output_type": "execute_result"
    }
   ],
   "source": [
    "# Methods\n",
    "d1"
   ]
  },
  {
   "cell_type": "code",
   "execution_count": 14,
   "id": "aa2c9980",
   "metadata": {},
   "outputs": [
    {
     "data": {
      "text/plain": [
       "dict_values(['INR', 'USD', 'HK$'])"
      ]
     },
     "execution_count": 14,
     "metadata": {},
     "output_type": "execute_result"
    }
   ],
   "source": [
    "d1.values()"
   ]
  },
  {
   "cell_type": "code",
   "execution_count": 15,
   "id": "ad34bd6f",
   "metadata": {},
   "outputs": [
    {
     "data": {
      "text/plain": [
       "dict_keys(['India', 'USA', 'Hong Kong'])"
      ]
     },
     "execution_count": 15,
     "metadata": {},
     "output_type": "execute_result"
    }
   ],
   "source": [
    "d1.keys()"
   ]
  },
  {
   "cell_type": "code",
   "execution_count": 19,
   "id": "864a1600",
   "metadata": {},
   "outputs": [
    {
     "data": {
      "text/plain": [
       "'INR'"
      ]
     },
     "execution_count": 19,
     "metadata": {},
     "output_type": "execute_result"
    }
   ],
   "source": [
    "d1.get('India')\n",
    "# d1['India']"
   ]
  },
  {
   "cell_type": "code",
   "execution_count": 20,
   "id": "684b94d8",
   "metadata": {},
   "outputs": [
    {
     "data": {
      "text/plain": [
       "'USD'"
      ]
     },
     "execution_count": 20,
     "metadata": {},
     "output_type": "execute_result"
    }
   ],
   "source": [
    "d1.get('USA')"
   ]
  },
  {
   "cell_type": "code",
   "execution_count": 21,
   "id": "1bee5b83",
   "metadata": {},
   "outputs": [
    {
     "data": {
      "text/plain": [
       "'HK$'"
      ]
     },
     "execution_count": 21,
     "metadata": {},
     "output_type": "execute_result"
    }
   ],
   "source": [
    "d1.get('Hong Kong')"
   ]
  },
  {
   "cell_type": "code",
   "execution_count": 22,
   "id": "8f11abbd",
   "metadata": {},
   "outputs": [
    {
     "data": {
      "text/plain": [
       "'INR'"
      ]
     },
     "execution_count": 22,
     "metadata": {},
     "output_type": "execute_result"
    }
   ],
   "source": [
    "d1['India']"
   ]
  },
  {
   "cell_type": "code",
   "execution_count": 23,
   "id": "af8bf282",
   "metadata": {},
   "outputs": [
    {
     "data": {
      "text/plain": [
       "{'India': 'INR', 'USA': 'USD', 'Hong Kong': 'HK$'}"
      ]
     },
     "execution_count": 23,
     "metadata": {},
     "output_type": "execute_result"
    }
   ],
   "source": [
    "d1"
   ]
  },
  {
   "cell_type": "code",
   "execution_count": 24,
   "id": "b4c8dd0e",
   "metadata": {},
   "outputs": [],
   "source": [
    "d1.update({'India':'Rs'})"
   ]
  },
  {
   "cell_type": "code",
   "execution_count": 25,
   "id": "759f49bf",
   "metadata": {},
   "outputs": [
    {
     "data": {
      "text/plain": [
       "{'India': 'Rs', 'USA': 'USD', 'Hong Kong': 'HK$'}"
      ]
     },
     "execution_count": 25,
     "metadata": {},
     "output_type": "execute_result"
    }
   ],
   "source": [
    "d1"
   ]
  },
  {
   "cell_type": "code",
   "execution_count": 27,
   "id": "559f639d",
   "metadata": {},
   "outputs": [
    {
     "data": {
      "text/plain": [
       "{'India': 'INR', 'USA': 'USD', 'Hong Kong': 'HK$'}"
      ]
     },
     "execution_count": 27,
     "metadata": {},
     "output_type": "execute_result"
    }
   ],
   "source": [
    "d1['India'] = 'INR'\n",
    "d1"
   ]
  },
  {
   "cell_type": "code",
   "execution_count": 29,
   "id": "8265fc0b",
   "metadata": {},
   "outputs": [],
   "source": [
    "d1.update({'Hong Kong': 'HKD'})"
   ]
  },
  {
   "cell_type": "code",
   "execution_count": 30,
   "id": "2520a57f",
   "metadata": {},
   "outputs": [
    {
     "data": {
      "text/plain": [
       "{'India': 'INR', 'USA': 'USD', 'Hong Kong': 'HKD'}"
      ]
     },
     "execution_count": 30,
     "metadata": {},
     "output_type": "execute_result"
    }
   ],
   "source": [
    "d1"
   ]
  },
  {
   "cell_type": "code",
   "execution_count": 32,
   "id": "38f3d112",
   "metadata": {},
   "outputs": [],
   "source": [
    "# .keys(), values(), .get(), .update() are the methods of dictonaries"
   ]
  },
  {
   "cell_type": "code",
   "execution_count": 33,
   "id": "08ff2c62",
   "metadata": {},
   "outputs": [],
   "source": [
    "# Question 1\n",
    "Employee_data = {101 : ['Shiva',24,'Content Strategist'], \n",
    "                 102 : ['Udit',25,'Content Strategist'], \n",
    "                 103 : ['Sonam',28,'Sr Manager'], \n",
    "                 104 : ['Ansari',29,'Product Lead'], \n",
    "                 105 : ['Huzefa',32,'Project Manager'] }"
   ]
  },
  {
   "cell_type": "code",
   "execution_count": 34,
   "id": "fc67efef",
   "metadata": {},
   "outputs": [
    {
     "name": "stdout",
     "output_type": "stream",
     "text": [
      "Product Lead\n"
     ]
    }
   ],
   "source": [
    "print(Employee_data[104][-1])"
   ]
  },
  {
   "cell_type": "code",
   "execution_count": 35,
   "id": "94877462",
   "metadata": {},
   "outputs": [],
   "source": [
    "def find_profession(id):\n",
    "    return Employee_data[id][-1]\n"
   ]
  },
  {
   "cell_type": "code",
   "execution_count": 41,
   "id": "f2b20b09",
   "metadata": {},
   "outputs": [
    {
     "name": "stdout",
     "output_type": "stream",
     "text": [
      "Please enter the staff id: 105\n",
      "Project Manager\n"
     ]
    }
   ],
   "source": [
    "id = int(input(\"Please enter the staff id: \"))\n",
    "print(find_profession(id))"
   ]
  },
  {
   "cell_type": "code",
   "execution_count": null,
   "id": "87d54d0d",
   "metadata": {},
   "outputs": [],
   "source": []
  },
  {
   "cell_type": "code",
   "execution_count": null,
   "id": "cf189fd5",
   "metadata": {},
   "outputs": [],
   "source": [
    "# Question 2"
   ]
  },
  {
   "cell_type": "code",
   "execution_count": 42,
   "id": "be410a51",
   "metadata": {},
   "outputs": [],
   "source": [
    "dict_1 = {\"Python\" : 40 , \"R\" : 45}"
   ]
  },
  {
   "cell_type": "code",
   "execution_count": 43,
   "id": "009aee84",
   "metadata": {},
   "outputs": [
    {
     "data": {
      "text/plain": [
       "{'Python': 40}"
      ]
     },
     "execution_count": 43,
     "metadata": {},
     "output_type": "execute_result"
    }
   ],
   "source": [
    "del dict_1[\"R\"]\n",
    "dict_1"
   ]
  },
  {
   "cell_type": "code",
   "execution_count": null,
   "id": "a6282e85",
   "metadata": {},
   "outputs": [],
   "source": [
    "# del is used in this question"
   ]
  },
  {
   "cell_type": "code",
   "execution_count": null,
   "id": "b607698e",
   "metadata": {},
   "outputs": [],
   "source": []
  },
  {
   "cell_type": "code",
   "execution_count": 44,
   "id": "f533d67e",
   "metadata": {},
   "outputs": [],
   "source": [
    "# Question 3"
   ]
  },
  {
   "cell_type": "code",
   "execution_count": 45,
   "id": "1060542d",
   "metadata": {},
   "outputs": [],
   "source": [
    "d = {\"Python\" : 40 , \"R\": 45}"
   ]
  },
  {
   "cell_type": "code",
   "execution_count": 47,
   "id": "4cb26c4b",
   "metadata": {},
   "outputs": [
    {
     "name": "stdout",
     "output_type": "stream",
     "text": [
      "dict_keys(['Python', 'R'])\n",
      "<class 'dict_keys'>\n",
      "['Python', 'R']\n"
     ]
    }
   ],
   "source": [
    "print(d.keys())\n",
    "print(type(d.keys()))\n",
    "print(list(d.keys()))"
   ]
  },
  {
   "cell_type": "code",
   "execution_count": 48,
   "id": "409c54a4",
   "metadata": {},
   "outputs": [
    {
     "name": "stdout",
     "output_type": "stream",
     "text": [
      "dict_values([40, 45])\n",
      "<class 'dict_values'>\n",
      "[40, 45]\n"
     ]
    }
   ],
   "source": [
    "print(d.values())\n",
    "print(type(d.values()))\n",
    "print(list(d.values()))"
   ]
  },
  {
   "cell_type": "code",
   "execution_count": null,
   "id": "4a03e329",
   "metadata": {},
   "outputs": [],
   "source": [
    "# .keys() and .values() methods are used in this question"
   ]
  },
  {
   "cell_type": "code",
   "execution_count": null,
   "id": "ec650b17",
   "metadata": {},
   "outputs": [],
   "source": []
  },
  {
   "cell_type": "code",
   "execution_count": 49,
   "id": "f8fb3118",
   "metadata": {},
   "outputs": [],
   "source": [
    "# Question 4"
   ]
  },
  {
   "cell_type": "code",
   "execution_count": 50,
   "id": "70aebd68",
   "metadata": {},
   "outputs": [],
   "source": [
    "input_dict = {\"Name\" : \"Monty\" , \"Profession\" : \"Singer\"}"
   ]
  },
  {
   "cell_type": "code",
   "execution_count": 57,
   "id": "042b5482",
   "metadata": {},
   "outputs": [
    {
     "name": "stdout",
     "output_type": "stream",
     "text": [
      "NA\n"
     ]
    }
   ],
   "source": [
    "if 'Label' in input_dict.keys() :\n",
    "    print(input_dict[\"Label\"])\n",
    "else:\n",
    "    print(\"NA\")"
   ]
  },
  {
   "cell_type": "code",
   "execution_count": 59,
   "id": "b2dfe7ae",
   "metadata": {},
   "outputs": [],
   "source": [
    "def find_values(label):\n",
    "    if label in input_dict.keys() :\n",
    "        print(input_dict[label])\n",
    "    else:\n",
    "        print(\"NA\")"
   ]
  },
  {
   "cell_type": "code",
   "execution_count": 73,
   "id": "6aaf2937",
   "metadata": {},
   "outputs": [
    {
     "name": "stdout",
     "output_type": "stream",
     "text": [
      "Please enter your item: input_dict[\"Label\"]\n",
      "Label\n",
      "NA\n"
     ]
    }
   ],
   "source": [
    "entity = input(\"Please enter your item to be researched: \")\n",
    "key = entity[12:-2] # Slicing in string\n",
    "print(key)\n",
    "find_values(key)"
   ]
  },
  {
   "cell_type": "code",
   "execution_count": 74,
   "id": "bfa0bb52",
   "metadata": {},
   "outputs": [],
   "source": [
    "# String Slicing, in, user-defined function, input(), if-else are used in this question"
   ]
  },
  {
   "cell_type": "code",
   "execution_count": null,
   "id": "cce23b18",
   "metadata": {},
   "outputs": [],
   "source": []
  },
  {
   "cell_type": "code",
   "execution_count": null,
   "id": "f654ce9b",
   "metadata": {},
   "outputs": [],
   "source": []
  },
  {
   "cell_type": "code",
   "execution_count": 75,
   "id": "23c28242",
   "metadata": {},
   "outputs": [],
   "source": [
    "# Question 5"
   ]
  },
  {
   "cell_type": "code",
   "execution_count": 76,
   "id": "21b05a9b",
   "metadata": {},
   "outputs": [],
   "source": [
    "input_dict = {'Jack Dorsey' : 'Twitter', 'Tim Cook' : 'Apple', 'Jeff Bezos' : 'Amazon', 'Mukesh Ambani' : 'RJIO'}"
   ]
  },
  {
   "cell_type": "code",
   "execution_count": 77,
   "id": "f6317e45",
   "metadata": {},
   "outputs": [
    {
     "name": "stdout",
     "output_type": "stream",
     "text": [
      "['Amazon', 'Apple', 'RJIO', 'Twitter']\n"
     ]
    }
   ],
   "source": [
    "print(sorted(input_dict.values()))"
   ]
  },
  {
   "cell_type": "code",
   "execution_count": null,
   "id": "ec656b35",
   "metadata": {},
   "outputs": [],
   "source": [
    "# sorted() function is used in this question    "
   ]
  }
 ],
 "metadata": {
  "kernelspec": {
   "display_name": "Python 3 (ipykernel)",
   "language": "python",
   "name": "python3"
  },
  "language_info": {
   "codemirror_mode": {
    "name": "ipython",
    "version": 3
   },
   "file_extension": ".py",
   "mimetype": "text/x-python",
   "name": "python",
   "nbconvert_exporter": "python",
   "pygments_lexer": "ipython3",
   "version": "3.11.5"
  }
 },
 "nbformat": 4,
 "nbformat_minor": 5
}
