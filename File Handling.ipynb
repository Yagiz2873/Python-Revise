{
 "cells": [
  {
   "cell_type": "code",
   "execution_count": 1,
   "id": "e9a15408",
   "metadata": {},
   "outputs": [],
   "source": [
    "# This study file was prepared to study and revise Python based on \n",
    "# what I've learnt from Satyajit Patnik, owner of the Data Analytics / Data Science Masters courses. "
   ]
  },
  {
   "cell_type": "code",
   "execution_count": 2,
   "id": "519c3a11",
   "metadata": {},
   "outputs": [],
   "source": [
    "# File handling is an important part of web applications\n",
    "# Creating, Reading, Writing, Updating, Deleting are the operations of handling a file."
   ]
  },
  {
   "cell_type": "code",
   "execution_count": 3,
   "id": "1687524b",
   "metadata": {},
   "outputs": [],
   "source": [
    "# Basic functions and methods\n",
    "# open(), .read(), .close(), .write() "
   ]
  },
  {
   "cell_type": "code",
   "execution_count": 4,
   "id": "eae32c0f",
   "metadata": {},
   "outputs": [],
   "source": [
    "# file_object = open(file_name,[,access_mode][,buffering]) \n",
    "# Fileopen = open(\"filename\",\"r\") to open a file in read mode\n",
    "# Fileopen.close() to close a file\n",
    "# Fileopen.read()  to read all the file\n",
    "# Fileopen.readline() //Returns one line from a file\n",
    "# Fileopen.write(\"Welcome to the class\") to write something to a file or append something to a file\n",
    "# \"r\" for reading, \"w\" for writing/overwriting, \"a\" or \"a+\" for adding something to a file that has already something in it"
   ]
  },
  {
   "cell_type": "markdown",
   "id": "4bef9d36",
   "metadata": {},
   "source": [
    "#### Reading a file"
   ]
  },
  {
   "cell_type": "code",
   "execution_count": 5,
   "id": "74bb93e6",
   "metadata": {},
   "outputs": [],
   "source": [
    "file = open(\"files.txt\",\"r\")"
   ]
  },
  {
   "cell_type": "code",
   "execution_count": 6,
   "id": "5a401488",
   "metadata": {},
   "outputs": [
    {
     "name": "stdout",
     "output_type": "stream",
     "text": [
      "This is a writing operationThanks for joining to meThis is a write operation\n"
     ]
    }
   ],
   "source": [
    "for line in file:\n",
    "    print(line)"
   ]
  },
  {
   "cell_type": "code",
   "execution_count": 7,
   "id": "7429cbec",
   "metadata": {},
   "outputs": [
    {
     "ename": "TypeError",
     "evalue": "'_io.TextIOWrapper' object is not subscriptable",
     "output_type": "error",
     "traceback": [
      "\u001b[1;31m---------------------------------------------------------------------------\u001b[0m",
      "\u001b[1;31mTypeError\u001b[0m                                 Traceback (most recent call last)",
      "Cell \u001b[1;32mIn[7], line 1\u001b[0m\n\u001b[1;32m----> 1\u001b[0m \u001b[38;5;28mprint\u001b[39m(file[\u001b[38;5;241m0\u001b[39m])\n",
      "\u001b[1;31mTypeError\u001b[0m: '_io.TextIOWrapper' object is not subscriptable"
     ]
    }
   ],
   "source": [
    "print(file[0])"
   ]
  },
  {
   "cell_type": "code",
   "execution_count": 8,
   "id": "cb506131",
   "metadata": {},
   "outputs": [
    {
     "name": "stdout",
     "output_type": "stream",
     "text": [
      "This is a writing operationThanks for joining to meThis is a write operation\n"
     ]
    }
   ],
   "source": [
    "file = open(\"files.txt\",\"r\")\n",
    "print(file.read())"
   ]
  },
  {
   "cell_type": "code",
   "execution_count": 9,
   "id": "96a55109",
   "metadata": {},
   "outputs": [
    {
     "name": "stdout",
     "output_type": "stream",
     "text": [
      "This is a writing operationThanks for joining to m\n"
     ]
    }
   ],
   "source": [
    "file = open(\"files.txt\",\"r\")\n",
    "print(file.read(50)) # read(50) returns 50 characters for the entire file "
   ]
  },
  {
   "cell_type": "code",
   "execution_count": 10,
   "id": "273d3638",
   "metadata": {},
   "outputs": [
    {
     "name": "stdout",
     "output_type": "stream",
     "text": [
      "This is a writing operationThanks for joining to meThis is a write operation\n"
     ]
    }
   ],
   "source": [
    "file = open(\"files.txt\",\"r\")\n",
    "print(file.readline())"
   ]
  },
  {
   "cell_type": "code",
   "execution_count": 11,
   "id": "35cc50a8",
   "metadata": {},
   "outputs": [
    {
     "name": "stdout",
     "output_type": "stream",
     "text": [
      "This is a writing operationThanks for joining to m\n"
     ]
    }
   ],
   "source": [
    "file = open(\"files.txt\",\"r\")\n",
    "print(file.readline(50))"
   ]
  },
  {
   "cell_type": "code",
   "execution_count": 12,
   "id": "9d43017c",
   "metadata": {},
   "outputs": [
    {
     "name": "stdout",
     "output_type": "stream",
     "text": [
      "This \n"
     ]
    }
   ],
   "source": [
    "file = open(\"files.txt\",\"r\")\n",
    "print(file.readline(5)) # readline(5) returns 5 characters for the first line only. "
   ]
  },
  {
   "cell_type": "markdown",
   "id": "cbe3401a",
   "metadata": {},
   "source": [
    "#### Writing a file"
   ]
  },
  {
   "cell_type": "code",
   "execution_count": 13,
   "id": "2071a433",
   "metadata": {},
   "outputs": [],
   "source": [
    "file = open(\"files.txt\",\"w\")\n",
    "file.write(\"This is a writing operation\")\n",
    "file.write(\"Thanks for joining to me\")\n",
    "file.close()"
   ]
  },
  {
   "cell_type": "code",
   "execution_count": 14,
   "id": "3a5d5191",
   "metadata": {},
   "outputs": [
    {
     "name": "stdout",
     "output_type": "stream",
     "text": [
      "This is a writing operationThanks for joining to me\n"
     ]
    }
   ],
   "source": [
    "file = open(\"files.txt\",\"r\")\n",
    "print(file.read())"
   ]
  },
  {
   "cell_type": "markdown",
   "id": "a36ae847",
   "metadata": {},
   "source": [
    "#### Appending a file"
   ]
  },
  {
   "cell_type": "code",
   "execution_count": 15,
   "id": "fd5d8c25",
   "metadata": {},
   "outputs": [],
   "source": [
    "# with open(\"test.txt\",\"a\") as file:\n",
    "    # file.write(\"This is a write operation\")\n",
    "    \n",
    "# file = open(\"test.txt\",\"r\")\n",
    "# for line in file:\n",
    "    # print(line)"
   ]
  },
  {
   "cell_type": "code",
   "execution_count": 16,
   "id": "ff69b15f",
   "metadata": {},
   "outputs": [],
   "source": [
    "file = open(\"files.txt\",\"a\")\n",
    "file.write(\"This is a write operation\")\n",
    "file.close()"
   ]
  },
  {
   "cell_type": "code",
   "execution_count": 17,
   "id": "c3c7318a",
   "metadata": {},
   "outputs": [
    {
     "name": "stdout",
     "output_type": "stream",
     "text": [
      "This is a writing operationThanks for joining to meThis is a write operation\n"
     ]
    }
   ],
   "source": [
    "file = open(\"files.txt\",\"r\")\n",
    "print(file.read())"
   ]
  },
  {
   "cell_type": "code",
   "execution_count": 18,
   "id": "46610b14",
   "metadata": {},
   "outputs": [],
   "source": [
    "# open the file to write or append. Finish your job and close the file. After that, open the file as read mode,r, to read it and print"
   ]
  },
  {
   "cell_type": "markdown",
   "id": "087c4b8d",
   "metadata": {},
   "source": [
    "#### \\n operation"
   ]
  },
  {
   "cell_type": "code",
   "execution_count": 20,
   "id": "04b94588",
   "metadata": {},
   "outputs": [
    {
     "name": "stdout",
     "output_type": "stream",
     "text": [
      "This is a writing operationThanks for joining to meThis is a write operation\n"
     ]
    }
   ],
   "source": [
    "file = open(\"files.txt\",\"r\")\n",
    "print(file.read())\n",
    "file.close()"
   ]
  },
  {
   "cell_type": "code",
   "execution_count": 25,
   "id": "54bd6570",
   "metadata": {},
   "outputs": [],
   "source": [
    "file = open(\"files.txt\",\"w\")\n",
    "file.write(\"Hello. My name is Yagiz Esmerligil\")\n",
    "file.write(\"Thank you for joining me\")\n",
    "file.close()"
   ]
  },
  {
   "cell_type": "code",
   "execution_count": 26,
   "id": "5ad6062e",
   "metadata": {},
   "outputs": [
    {
     "name": "stdout",
     "output_type": "stream",
     "text": [
      "Hello. My name is Yagiz EsmerligilThank you for joining me\n"
     ]
    }
   ],
   "source": [
    "file = open(\"files.txt\",\"r\")\n",
    "print(file.read())"
   ]
  },
  {
   "cell_type": "code",
   "execution_count": 27,
   "id": "25698424",
   "metadata": {},
   "outputs": [],
   "source": [
    "file = open(\"files.txt\",\"w\")\n",
    "file.write(\"Hello. My name is Yagiz Esmerligil\")\n",
    "file.write(\"\\n\")\n",
    "file.write(\"Thank you for joining me\")\n",
    "file.close()"
   ]
  },
  {
   "cell_type": "code",
   "execution_count": 28,
   "id": "c9f3ab42",
   "metadata": {},
   "outputs": [
    {
     "name": "stdout",
     "output_type": "stream",
     "text": [
      "Hello. My name is Yagiz Esmerligil\n",
      "Thank you for joining me\n"
     ]
    }
   ],
   "source": [
    "with open(\"files.txt\",\"r\") as file :\n",
    "    print(file.read())"
   ]
  },
  {
   "cell_type": "code",
   "execution_count": 29,
   "id": "734a9810",
   "metadata": {},
   "outputs": [],
   "source": [
    "with open(\"files.txt\",\"a+\") as file:\n",
    "    file.write(\"\\n\")\n",
    "    file.write(\"Goodbye\")"
   ]
  },
  {
   "cell_type": "code",
   "execution_count": 30,
   "id": "d7cd120b",
   "metadata": {},
   "outputs": [
    {
     "name": "stdout",
     "output_type": "stream",
     "text": [
      "Hello. My name is Yagiz Esmerligil\n",
      "Thank you for joining me\n",
      "Goodbye\n"
     ]
    }
   ],
   "source": [
    "file = open(\"files.txt\",\"r\")\n",
    "print(file.read())\n",
    "file.close()"
   ]
  },
  {
   "cell_type": "code",
   "execution_count": null,
   "id": "58d1486e",
   "metadata": {},
   "outputs": [],
   "source": [
    " "
   ]
  }
 ],
 "metadata": {
  "kernelspec": {
   "display_name": "Python 3 (ipykernel)",
   "language": "python",
   "name": "python3"
  },
  "language_info": {
   "codemirror_mode": {
    "name": "ipython",
    "version": 3
   },
   "file_extension": ".py",
   "mimetype": "text/x-python",
   "name": "python",
   "nbconvert_exporter": "python",
   "pygments_lexer": "ipython3",
   "version": "3.11.5"
  }
 },
 "nbformat": 4,
 "nbformat_minor": 5
}
