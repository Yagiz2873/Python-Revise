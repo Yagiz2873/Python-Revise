{
 "cells": [
  {
   "cell_type": "code",
   "execution_count": 1,
   "id": "0d456145",
   "metadata": {},
   "outputs": [],
   "source": [
    "# This study file was prepared to study and revise Python based on \n",
    "# what I've learnt from Satyajit Patnik, owner of the Data Analytics / Data Science Masters courses. "
   ]
  },
  {
   "cell_type": "code",
   "execution_count": 2,
   "id": "2879519d",
   "metadata": {},
   "outputs": [],
   "source": [
    "# Predefined (built-in) functions, (type(), print(), int() -> type conversion function)\n",
    "# methods of data types (str.startswith())\n",
    "# user defined functions (def something(): )\n",
    "# Functions are named sequence of events statements that performs some operations\n",
    "# function name and arguments"
   ]
  },
  {
   "cell_type": "code",
   "execution_count": 3,
   "id": "29ad64c1",
   "metadata": {},
   "outputs": [],
   "source": [
    "# User defined functions are the functions that are created by users or developers who are dealing codes\n",
    "# User defined functions are unique block of codes that are only executed when called to perform a specific task."
   ]
  },
  {
   "cell_type": "code",
   "execution_count": 4,
   "id": "62cd3a82",
   "metadata": {},
   "outputs": [],
   "source": [
    "# def function_name(argument_1,argument_2,...):\n",
    "# arguments are optional, arguments can also have default values\n",
    "# \"\"\" \n",
    "# Docstring- this section explains your function (optional)\n",
    "# \"\"\"\n",
    "# operation with arguments, the code inside a function is\n",
    "# default a tab or 4 whitespace indentation\n",
    "# object = argument1 + argument2\n",
    "# return object\n",
    "\n",
    "# use function_name to call the function\n",
    "# function_name(argument_1,argument_2)"
   ]
  },
  {
   "cell_type": "code",
   "execution_count": 5,
   "id": "a050b5c2",
   "metadata": {},
   "outputs": [],
   "source": [
    "# Lambda Function:\n",
    "# Small anonymous function to make a developer's life easier.\n",
    "# Can take any number of arguments, but can only have one expression\n",
    "# Syntax\n",
    "# Lambda arguments : expression\n",
    "# This expression is executed and the result is returned."
   ]
  },
  {
   "cell_type": "code",
   "execution_count": 12,
   "id": "a4b8d102",
   "metadata": {},
   "outputs": [],
   "source": [
    "function_1 = lambda x,y,z,t : (x+y) * (z+t)"
   ]
  },
  {
   "cell_type": "code",
   "execution_count": 13,
   "id": "ba9ca42b",
   "metadata": {},
   "outputs": [
    {
     "data": {
      "text/plain": [
       "21"
      ]
     },
     "execution_count": 13,
     "metadata": {},
     "output_type": "execute_result"
    }
   ],
   "source": [
    "function_1(1,2,3,4)"
   ]
  },
  {
   "cell_type": "markdown",
   "id": "60e55600",
   "metadata": {},
   "source": [
    "### Even or Odd"
   ]
  },
  {
   "cell_type": "code",
   "execution_count": 18,
   "id": "c0fa34f9",
   "metadata": {},
   "outputs": [],
   "source": [
    "# even or odd function\n",
    "def findEvenOrOdd(number):\n",
    "    if(number % 2 == 0):\n",
    "        print(\"The number {} is even\" .format(number))\n",
    "    else:\n",
    "        print(\"The number {} is odd\" .format(number))\n",
    "        "
   ]
  },
  {
   "cell_type": "code",
   "execution_count": 22,
   "id": "0db82d9b",
   "metadata": {},
   "outputs": [
    {
     "name": "stdout",
     "output_type": "stream",
     "text": [
      "Please enter your number: 101\n",
      "The number 101 is odd\n"
     ]
    }
   ],
   "source": [
    "number = int(input(\"Please enter your number: \"))\n",
    "findEvenOrOdd(number)"
   ]
  },
  {
   "cell_type": "markdown",
   "id": "15a487a8",
   "metadata": {},
   "source": [
    "### Factorial"
   ]
  },
  {
   "cell_type": "code",
   "execution_count": 39,
   "id": "fbf27aca",
   "metadata": {},
   "outputs": [],
   "source": [
    "def findFactorial(num):\n",
    "    result = 1\n",
    "    if(num == 0 or num == 1):\n",
    "        print(\"The factorial of {} is 1\".format(num))\n",
    "    elif(num < 0):\n",
    "        print(\"Negative numbers don't have factorials. Please enter a number that are greater than or equals to 0\")\n",
    "    else:\n",
    "        for num in range(1,num+1):\n",
    "            result = result * num\n",
    "        return \"\"\" The factorial of {} is {} \"\"\".format(num,result)"
   ]
  },
  {
   "cell_type": "code",
   "execution_count": 47,
   "id": "b3097ada",
   "metadata": {},
   "outputs": [
    {
     "name": "stdout",
     "output_type": "stream",
     "text": [
      "Please enter the number: 10\n"
     ]
    },
    {
     "data": {
      "text/plain": [
       "' The factorial of 10 is 3628800 '"
      ]
     },
     "execution_count": 47,
     "metadata": {},
     "output_type": "execute_result"
    }
   ],
   "source": [
    "number = int(input(\"Please enter the number: \"))\n",
    "findFactorial(number)"
   ]
  },
  {
   "cell_type": "markdown",
   "id": "562c1212",
   "metadata": {},
   "source": [
    "### Sum of the all natural numbers till the number provided"
   ]
  },
  {
   "cell_type": "code",
   "execution_count": 86,
   "id": "e95f5a22",
   "metadata": {},
   "outputs": [],
   "source": [
    "def sumAllTheNaturalNumbers(num):\n",
    "    sum = 0\n",
    "    if(num < 0):\n",
    "        print(\"Please enter a natural number that is greater than or equals to 0\")\n",
    "    elif(num == 0):\n",
    "        print(\"The result for {} will be 0\".format(num))\n",
    "    else:\n",
    "        for value in range(1,num+1):\n",
    "            sum = sum + value\n",
    "    return sum"
   ]
  },
  {
   "cell_type": "code",
   "execution_count": 95,
   "id": "0e62e940",
   "metadata": {},
   "outputs": [
    {
     "name": "stdout",
     "output_type": "stream",
     "text": [
      "Please enter your number: 4\n"
     ]
    },
    {
     "data": {
      "text/plain": [
       "10"
      ]
     },
     "execution_count": 95,
     "metadata": {},
     "output_type": "execute_result"
    }
   ],
   "source": [
    "num = int(input(\"Please enter your number: \"))\n",
    "sumAllTheNaturalNumbers(num)"
   ]
  },
  {
   "cell_type": "markdown",
   "id": "cb310276",
   "metadata": {},
   "source": [
    "### Default argument values in functions"
   ]
  },
  {
   "cell_type": "code",
   "execution_count": 96,
   "id": "d2262253",
   "metadata": {},
   "outputs": [],
   "source": [
    "def func_1(name,age):\n",
    "    print(\"Name: \",name)\n",
    "    print(\"Age: \",age)\n",
    "    "
   ]
  },
  {
   "cell_type": "code",
   "execution_count": 97,
   "id": "a9a93d8d",
   "metadata": {},
   "outputs": [
    {
     "name": "stdout",
     "output_type": "stream",
     "text": [
      "Name:  Yağız\n",
      "Age:  25\n"
     ]
    }
   ],
   "source": [
    "func_1(\"Yağız\",25)"
   ]
  },
  {
   "cell_type": "code",
   "execution_count": 98,
   "id": "bea46034",
   "metadata": {},
   "outputs": [
    {
     "ename": "TypeError",
     "evalue": "func_1() missing 1 required positional argument: 'age'",
     "output_type": "error",
     "traceback": [
      "\u001b[1;31m---------------------------------------------------------------------------\u001b[0m",
      "\u001b[1;31mTypeError\u001b[0m                                 Traceback (most recent call last)",
      "Cell \u001b[1;32mIn[98], line 1\u001b[0m\n\u001b[1;32m----> 1\u001b[0m func_1(\u001b[38;5;124m\"\u001b[39m\u001b[38;5;124mYağız\u001b[39m\u001b[38;5;124m\"\u001b[39m)\n",
      "\u001b[1;31mTypeError\u001b[0m: func_1() missing 1 required positional argument: 'age'"
     ]
    }
   ],
   "source": [
    "func_1(\"Yağız\")"
   ]
  },
  {
   "cell_type": "code",
   "execution_count": 99,
   "id": "f3caadba",
   "metadata": {},
   "outputs": [],
   "source": [
    "def func_2(name,age=27):\n",
    "    print(\"Name: \",name)\n",
    "    print(\"Age: \",age)"
   ]
  },
  {
   "cell_type": "code",
   "execution_count": 100,
   "id": "8c7c4145",
   "metadata": {},
   "outputs": [
    {
     "name": "stdout",
     "output_type": "stream",
     "text": [
      "Name:  Yağız\n",
      "Age:  25\n"
     ]
    }
   ],
   "source": [
    "func_2(\"Yağız\",25)"
   ]
  },
  {
   "cell_type": "code",
   "execution_count": 101,
   "id": "df1d465d",
   "metadata": {},
   "outputs": [
    {
     "name": "stdout",
     "output_type": "stream",
     "text": [
      "Name:  Yağız\n",
      "Age:  27\n"
     ]
    }
   ],
   "source": [
    "func_2(\"Yağız\")"
   ]
  },
  {
   "cell_type": "markdown",
   "id": "8036f838",
   "metadata": {},
   "source": [
    "### Lambda Functions"
   ]
  },
  {
   "cell_type": "markdown",
   "id": "a7b577f0",
   "metadata": {},
   "source": [
    "### create a lambda function that adds 10 to the number passed as an argument, and print the result."
   ]
  },
  {
   "cell_type": "code",
   "execution_count": 122,
   "id": "0bf9b6d3",
   "metadata": {},
   "outputs": [],
   "source": [
    "addTen = lambda num : num + 10"
   ]
  },
  {
   "cell_type": "code",
   "execution_count": 123,
   "id": "56b836ef",
   "metadata": {},
   "outputs": [
    {
     "data": {
      "text/plain": [
       "30"
      ]
     },
     "execution_count": 123,
     "metadata": {},
     "output_type": "execute_result"
    }
   ],
   "source": [
    "addTen(20)"
   ]
  },
  {
   "cell_type": "code",
   "execution_count": 124,
   "id": "7bd47564",
   "metadata": {},
   "outputs": [
    {
     "data": {
      "text/plain": [
       "100"
      ]
     },
     "execution_count": 124,
     "metadata": {},
     "output_type": "execute_result"
    }
   ],
   "source": [
    "addTen(90)"
   ]
  },
  {
   "cell_type": "code",
   "execution_count": 125,
   "id": "f7fe23c7",
   "metadata": {},
   "outputs": [
    {
     "data": {
      "text/plain": [
       "15"
      ]
     },
     "execution_count": 125,
     "metadata": {},
     "output_type": "execute_result"
    }
   ],
   "source": [
    "addTen(5)"
   ]
  },
  {
   "cell_type": "code",
   "execution_count": 126,
   "id": "9baa97e7",
   "metadata": {},
   "outputs": [
    {
     "name": "stdout",
     "output_type": "stream",
     "text": [
      "120\n"
     ]
    }
   ],
   "source": [
    "print(addTen(110))"
   ]
  },
  {
   "cell_type": "markdown",
   "id": "e27eb097",
   "metadata": {},
   "source": [
    "### Create a lambda function that checks a number is even or odd"
   ]
  },
  {
   "cell_type": "code",
   "execution_count": 112,
   "id": "7cf1b244",
   "metadata": {},
   "outputs": [],
   "source": [
    "findEvenOdd = lambda num : \"Even\" if num % 2 == 0 else \"Odd\""
   ]
  },
  {
   "cell_type": "code",
   "execution_count": 113,
   "id": "b3e15cf8",
   "metadata": {},
   "outputs": [
    {
     "name": "stdout",
     "output_type": "stream",
     "text": [
      "Even\n"
     ]
    }
   ],
   "source": [
    "print(findEvenOdd(10))"
   ]
  },
  {
   "cell_type": "code",
   "execution_count": 114,
   "id": "cc97a49b",
   "metadata": {},
   "outputs": [
    {
     "name": "stdout",
     "output_type": "stream",
     "text": [
      "Odd\n"
     ]
    }
   ],
   "source": [
    "print(findEvenOdd(11))"
   ]
  },
  {
   "cell_type": "markdown",
   "id": "872e90a3",
   "metadata": {},
   "source": [
    "### Create a lambda function that adds two integers"
   ]
  },
  {
   "cell_type": "code",
   "execution_count": 119,
   "id": "bdffdb30",
   "metadata": {},
   "outputs": [],
   "source": [
    "addNumbers = lambda x,y : x + y"
   ]
  },
  {
   "cell_type": "code",
   "execution_count": 120,
   "id": "24f66d9a",
   "metadata": {},
   "outputs": [
    {
     "data": {
      "text/plain": [
       "21"
      ]
     },
     "execution_count": 120,
     "metadata": {},
     "output_type": "execute_result"
    }
   ],
   "source": [
    "addNumbers(10,11)"
   ]
  },
  {
   "cell_type": "code",
   "execution_count": 121,
   "id": "ef356b14",
   "metadata": {},
   "outputs": [
    {
     "name": "stdout",
     "output_type": "stream",
     "text": [
      "40\n"
     ]
    }
   ],
   "source": [
    "print(addNumbers(15,25))"
   ]
  },
  {
   "cell_type": "code",
   "execution_count": 127,
   "id": "62c714ca",
   "metadata": {},
   "outputs": [],
   "source": [
    "multiplyNumbers = lambda x,y : x*y"
   ]
  },
  {
   "cell_type": "code",
   "execution_count": 128,
   "id": "c5786eb2",
   "metadata": {},
   "outputs": [
    {
     "name": "stdout",
     "output_type": "stream",
     "text": [
      "20\n"
     ]
    }
   ],
   "source": [
    "print(multiplyNumbers(4,5))"
   ]
  },
  {
   "cell_type": "code",
   "execution_count": 129,
   "id": "92f482dc",
   "metadata": {},
   "outputs": [
    {
     "name": "stdout",
     "output_type": "stream",
     "text": [
      "500\n"
     ]
    }
   ],
   "source": [
    "print(multiplyNumbers(5,100))"
   ]
  },
  {
   "cell_type": "code",
   "execution_count": 130,
   "id": "6e84d139",
   "metadata": {},
   "outputs": [
    {
     "name": "stdout",
     "output_type": "stream",
     "text": [
      "10000\n"
     ]
    }
   ],
   "source": [
    "print(multiplyNumbers(100,100))"
   ]
  },
  {
   "cell_type": "code",
   "execution_count": 131,
   "id": "c99fd7cd",
   "metadata": {},
   "outputs": [
    {
     "name": "stdout",
     "output_type": "stream",
     "text": [
      "<class 'function'>\n"
     ]
    }
   ],
   "source": [
    "print(type(multiplyNumbers))"
   ]
  },
  {
   "cell_type": "code",
   "execution_count": 132,
   "id": "7e311d7f",
   "metadata": {},
   "outputs": [
    {
     "name": "stdout",
     "output_type": "stream",
     "text": [
      "<class 'function'>\n"
     ]
    }
   ],
   "source": [
    "print(type(addNumbers))"
   ]
  },
  {
   "cell_type": "code",
   "execution_count": 133,
   "id": "92af6711",
   "metadata": {},
   "outputs": [
    {
     "name": "stdout",
     "output_type": "stream",
     "text": [
      "<class 'function'>\n"
     ]
    }
   ],
   "source": [
    "print(type(findEvenOdd))"
   ]
  },
  {
   "cell_type": "code",
   "execution_count": 134,
   "id": "1821450a",
   "metadata": {},
   "outputs": [
    {
     "name": "stdout",
     "output_type": "stream",
     "text": [
      "<class 'function'>\n"
     ]
    }
   ],
   "source": [
    "print(type(addTen))"
   ]
  },
  {
   "cell_type": "code",
   "execution_count": 137,
   "id": "cb67cf12",
   "metadata": {},
   "outputs": [],
   "source": [
    "findNumberBiggerThanFifty = lambda num : \"Bigger than 50\" if num > 50 else \"Smaller than 50\" "
   ]
  },
  {
   "cell_type": "code",
   "execution_count": 138,
   "id": "155ca84f",
   "metadata": {},
   "outputs": [
    {
     "name": "stdout",
     "output_type": "stream",
     "text": [
      "<class 'function'>\n"
     ]
    }
   ],
   "source": [
    "print(type(findNumberBiggerThanFifty))"
   ]
  },
  {
   "cell_type": "code",
   "execution_count": 139,
   "id": "bed69130",
   "metadata": {},
   "outputs": [
    {
     "name": "stdout",
     "output_type": "stream",
     "text": [
      "Smaller than 50\n"
     ]
    }
   ],
   "source": [
    "print(findNumberBiggerThanFifty(15))"
   ]
  },
  {
   "cell_type": "code",
   "execution_count": 140,
   "id": "82c857a7",
   "metadata": {},
   "outputs": [
    {
     "name": "stdout",
     "output_type": "stream",
     "text": [
      "Bigger than 50\n"
     ]
    }
   ],
   "source": [
    "print(findNumberBiggerThanFifty(100))"
   ]
  },
  {
   "cell_type": "code",
   "execution_count": null,
   "id": "733421b4",
   "metadata": {},
   "outputs": [],
   "source": []
  }
 ],
 "metadata": {
  "kernelspec": {
   "display_name": "Python 3 (ipykernel)",
   "language": "python",
   "name": "python3"
  },
  "language_info": {
   "codemirror_mode": {
    "name": "ipython",
    "version": 3
   },
   "file_extension": ".py",
   "mimetype": "text/x-python",
   "name": "python",
   "nbconvert_exporter": "python",
   "pygments_lexer": "ipython3",
   "version": "3.11.5"
  }
 },
 "nbformat": 4,
 "nbformat_minor": 5
}
