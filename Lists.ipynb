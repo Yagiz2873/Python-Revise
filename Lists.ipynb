{
 "cells": [
  {
   "cell_type": "code",
   "execution_count": 4,
   "id": "39386544",
   "metadata": {},
   "outputs": [],
   "source": [
    "# This study file was prepared to study and revise Python based on \n",
    "# what I've learnt from Satyajit Patnik, owner of the Data Analytics / Data Science Masters courses.   "
   ]
  },
  {
   "cell_type": "code",
   "execution_count": 5,
   "id": "f19c599f",
   "metadata": {},
   "outputs": [
    {
     "data": {
      "text/plain": [
       "'\\n\\n                Lists\\n\\n 1.Items surrounded in square brackets []\\n 2. Lists are mutable in nature\\n 3. There are more than 40 available methods \\nin Lists.\\n 4. If content is not fixed, and keeps on \\nchanging then we should go for lists.\\n 5. List objects cannot be used as keys for \\ndictionaries because keys should be Hash \\ntable and immutable.\\n\\n\\n                Tuples\\n                \\n\\n 1. Items surrounded in round brackets ()\\n 2. Tuples are immutable in nature (Like strings and keys in dictionaries)\\n 3. There are almost 30-35 available methods \\nin Tuples.\\n 4. If content is fixed, and never changes then \\nwe should go for Tuples.\\n 5. Tuple objects can be used as keys for \\ndictionaries because keys should be Hash \\ntable and immutable.\\n\\n\\n\\n'"
      ]
     },
     "execution_count": 5,
     "metadata": {},
     "output_type": "execute_result"
    }
   ],
   "source": [
    "\"\"\"\n",
    "\n",
    "                Lists\n",
    "                \n",
    "● List is a sequence of values of any type. Lists are ordered sequence of mixed data types\n",
    "● Values in lists are called as elements or items.\n",
    " [10, 20, ‘Class’]\n",
    " ● A list within another list is nested.\n",
    " ● Lists are mutable.\n",
    " ● It has variable length.\n",
    " ● Lists are accessed similarly like arrays. First element will be stored at 0th index.\n",
    " ● Let’s discuss function used in lists.              \n",
    "                \n",
    "                \n",
    "\n",
    " 1.Items surrounded in square brackets []\n",
    " 2. Lists are mutable in nature\n",
    " 3. There are more than 40 available methods \n",
    "in Lists.\n",
    " 4. If content is not fixed, and keeps on \n",
    "changing then we should go for lists.\n",
    " 5. List objects cannot be used as keys for \n",
    "dictionaries because keys should be Hash \n",
    "table and immutable.\n",
    "\n",
    "\n",
    "                Tuples\n",
    "                \n",
    " ● Tuples are similar like lists, having a sequence of values of any type and enclosed within parentheses.\n",
    " ● Tuples are immutable.\n",
    " ● It has fixed length.\n",
    " ● tup_1 = (‘a’, 1, ‘df’, ‘b’)\n",
    " ● Let’s discuss about the functions of tuples.               \n",
    "                \n",
    "                \n",
    "\n",
    " 1. Items surrounded in round brackets ()\n",
    " 2. Tuples are immutable in nature (Like strings and keys in dictionaries)\n",
    " 3. There are almost 30-35 available methods \n",
    "in Tuples.\n",
    " 4. If content is fixed, and never changes then \n",
    "we should go for Tuples.\n",
    " 5. Tuple objects can be used as keys for \n",
    "dictionaries because keys should be Hash \n",
    "table and immutable. \n",
    "\n",
    "\n",
    "\n",
    "\"\"\""
   ]
  },
  {
   "cell_type": "code",
   "execution_count": 8,
   "id": "0f801c4d",
   "metadata": {},
   "outputs": [],
   "source": [
    "cust_info = [\"Yağız\",27,\"Ankara\",0,20000]"
   ]
  },
  {
   "cell_type": "code",
   "execution_count": 9,
   "id": "3a041b8a",
   "metadata": {},
   "outputs": [],
   "source": [
    "cust_info_new = (\"Yağız\",27,\"Ankara\",0,20000)"
   ]
  },
  {
   "cell_type": "code",
   "execution_count": 11,
   "id": "ccb5d7cb",
   "metadata": {},
   "outputs": [
    {
     "name": "stdout",
     "output_type": "stream",
     "text": [
      "<class 'list'>\n",
      "<class 'tuple'>\n"
     ]
    }
   ],
   "source": [
    "print(type(cust_info))\n",
    "print(type(cust_info_new))"
   ]
  },
  {
   "cell_type": "code",
   "execution_count": 12,
   "id": "19f9618c",
   "metadata": {},
   "outputs": [
    {
     "name": "stdout",
     "output_type": "stream",
     "text": [
      "3\n",
      "<class 'list'>\n"
     ]
    }
   ],
   "source": [
    "list1 = [\"India\",5,\"Delhi\"]\n",
    "print(len(list1))\n",
    "print(type(list1))"
   ]
  },
  {
   "cell_type": "code",
   "execution_count": 13,
   "id": "4e622ebd",
   "metadata": {},
   "outputs": [],
   "source": [
    "# Nested Lists\n",
    "list2 = [\"India\", \"Delhi\", 5 , 10 , [\"Rajkot\",\"Chennai\"] ]"
   ]
  },
  {
   "cell_type": "code",
   "execution_count": 14,
   "id": "4c087fbc",
   "metadata": {},
   "outputs": [
    {
     "name": "stdout",
     "output_type": "stream",
     "text": [
      "<class 'str'>\n",
      "<class 'str'>\n",
      "<class 'int'>\n",
      "<class 'int'>\n",
      "<class 'list'>\n"
     ]
    }
   ],
   "source": [
    "print(type(list2[0]))\n",
    "print(type(list2[1]))\n",
    "print(type(list2[2]))\n",
    "print(type(list2[3]))\n",
    "print(type(list2[4]))\n"
   ]
  },
  {
   "cell_type": "code",
   "execution_count": 15,
   "id": "793678f6",
   "metadata": {},
   "outputs": [
    {
     "data": {
      "text/plain": [
       "'Rajkot'"
      ]
     },
     "execution_count": 15,
     "metadata": {},
     "output_type": "execute_result"
    }
   ],
   "source": [
    "list2[4][0]"
   ]
  },
  {
   "cell_type": "code",
   "execution_count": 16,
   "id": "cf92620d",
   "metadata": {},
   "outputs": [
    {
     "data": {
      "text/plain": [
       "'Rajkot'"
      ]
     },
     "execution_count": 16,
     "metadata": {},
     "output_type": "execute_result"
    }
   ],
   "source": [
    "list2[-1][0]"
   ]
  },
  {
   "cell_type": "code",
   "execution_count": 17,
   "id": "f268577b",
   "metadata": {},
   "outputs": [
    {
     "data": {
      "text/plain": [
       "'Rajkot'"
      ]
     },
     "execution_count": 17,
     "metadata": {},
     "output_type": "execute_result"
    }
   ],
   "source": [
    "list2[-1][-2]"
   ]
  },
  {
   "cell_type": "code",
   "execution_count": 18,
   "id": "420d3a25",
   "metadata": {},
   "outputs": [
    {
     "data": {
      "text/plain": [
       "'Rajkot'"
      ]
     },
     "execution_count": 18,
     "metadata": {},
     "output_type": "execute_result"
    }
   ],
   "source": [
    "list2[4][-2]"
   ]
  },
  {
   "cell_type": "code",
   "execution_count": 19,
   "id": "216c65cf",
   "metadata": {},
   "outputs": [
    {
     "data": {
      "text/plain": [
       "'India'"
      ]
     },
     "execution_count": 19,
     "metadata": {},
     "output_type": "execute_result"
    }
   ],
   "source": [
    "list2[0]"
   ]
  },
  {
   "cell_type": "code",
   "execution_count": 20,
   "id": "5fc3f5c0",
   "metadata": {},
   "outputs": [],
   "source": [
    "# Indexing and Slicing"
   ]
  },
  {
   "cell_type": "code",
   "execution_count": 21,
   "id": "f56363c9",
   "metadata": {},
   "outputs": [],
   "source": [
    "# List and String Concatanation"
   ]
  },
  {
   "cell_type": "code",
   "execution_count": 22,
   "id": "1d597d15",
   "metadata": {},
   "outputs": [
    {
     "name": "stdout",
     "output_type": "stream",
     "text": [
      "Hello World\n"
     ]
    }
   ],
   "source": [
    "string1 = \"Hello\"\n",
    "string2 = \"World\"\n",
    "print(string1 + \" \" + string2)"
   ]
  },
  {
   "cell_type": "code",
   "execution_count": 23,
   "id": "6d2811d2",
   "metadata": {},
   "outputs": [
    {
     "name": "stdout",
     "output_type": "stream",
     "text": [
      "[1, 2, 3, 4, 5, 6, 7, 8]\n"
     ]
    }
   ],
   "source": [
    "list1 = [1,2,3,4]\n",
    "list2 = [5,6,7,8]\n",
    "new_list = list1 + list2\n",
    "print(new_list) # Appending, not summing"
   ]
  },
  {
   "cell_type": "code",
   "execution_count": 24,
   "id": "792980e5",
   "metadata": {},
   "outputs": [
    {
     "name": "stdout",
     "output_type": "stream",
     "text": [
      "<class 'list'>\n",
      "<class 'tuple'>\n"
     ]
    }
   ],
   "source": [
    "# Membership in Lists and Tuples (in)\n",
    "\n",
    "list1 = [1,2,3,4]\n",
    "tuple1 = (1,2,3,4)\n",
    "\n",
    "print(type(list1))\n",
    "print(type(tuple1))\n"
   ]
  },
  {
   "cell_type": "code",
   "execution_count": 25,
   "id": "eeafc99f",
   "metadata": {},
   "outputs": [
    {
     "name": "stdout",
     "output_type": "stream",
     "text": [
      "True\n",
      "False\n",
      "True\n",
      "False\n"
     ]
    }
   ],
   "source": [
    "print(1 in list1)\n",
    "print(5 in list1)\n",
    "print(1 in tuple1)\n",
    "print(5 in tuple1) # \"in\" keyword is important for finding membership or not in a data structure."
   ]
  },
  {
   "cell_type": "code",
   "execution_count": 26,
   "id": "5904aeae",
   "metadata": {},
   "outputs": [],
   "source": [
    "# Mutability"
   ]
  },
  {
   "cell_type": "code",
   "execution_count": 27,
   "id": "20b86747",
   "metadata": {},
   "outputs": [],
   "source": [
    "list1 = [\"Math\",\"Physics\",\"Chemistry\",\"Biology\"]"
   ]
  },
  {
   "cell_type": "code",
   "execution_count": 28,
   "id": "cb5421a6",
   "metadata": {},
   "outputs": [
    {
     "data": {
      "text/plain": [
       "'Biology'"
      ]
     },
     "execution_count": 28,
     "metadata": {},
     "output_type": "execute_result"
    }
   ],
   "source": [
    "list1[3]"
   ]
  },
  {
   "cell_type": "code",
   "execution_count": 29,
   "id": "0840ba44",
   "metadata": {},
   "outputs": [
    {
     "data": {
      "text/plain": [
       "'Biology'"
      ]
     },
     "execution_count": 29,
     "metadata": {},
     "output_type": "execute_result"
    }
   ],
   "source": [
    "list1[-1]"
   ]
  },
  {
   "cell_type": "code",
   "execution_count": 30,
   "id": "5f3615d2",
   "metadata": {},
   "outputs": [],
   "source": [
    "list1[-1] = \"Computer Science\""
   ]
  },
  {
   "cell_type": "code",
   "execution_count": 31,
   "id": "315e1c21",
   "metadata": {},
   "outputs": [
    {
     "data": {
      "text/plain": [
       "['Math', 'Physics', 'Chemistry', 'Computer Science']"
      ]
     },
     "execution_count": 31,
     "metadata": {},
     "output_type": "execute_result"
    }
   ],
   "source": [
    "list1"
   ]
  },
  {
   "cell_type": "code",
   "execution_count": 32,
   "id": "cc4a40da",
   "metadata": {},
   "outputs": [],
   "source": [
    "# List methods and attributes"
   ]
  },
  {
   "cell_type": "code",
   "execution_count": 33,
   "id": "cd01e3da",
   "metadata": {},
   "outputs": [],
   "source": [
    "# .extend(),  .append(), del,  .pop() (.pop(2)), .remove()\n",
    "# .pop() and del take index as an input whereas .remove() takes item value as an input\n",
    "# By default (without adding indexes) .pop() removes the last item"
   ]
  },
  {
   "cell_type": "code",
   "execution_count": 34,
   "id": "fd6ceccc",
   "metadata": {},
   "outputs": [
    {
     "data": {
      "text/plain": [
       "[1, 2, 3, 4, 5, 6]"
      ]
     },
     "execution_count": 34,
     "metadata": {},
     "output_type": "execute_result"
    }
   ],
   "source": [
    "list1 =[1,2,3,4]\n",
    "list1.extend([5,6])\n",
    "list1"
   ]
  },
  {
   "cell_type": "code",
   "execution_count": 35,
   "id": "0bcb6914",
   "metadata": {},
   "outputs": [
    {
     "data": {
      "text/plain": [
       "[1, 2, 3, 4, [5, 6]]"
      ]
     },
     "execution_count": 35,
     "metadata": {},
     "output_type": "execute_result"
    }
   ],
   "source": [
    "list1 = [1,2,3,4]\n",
    "list1.append([5,6])\n",
    "list1"
   ]
  },
  {
   "cell_type": "code",
   "execution_count": 37,
   "id": "642acf36",
   "metadata": {},
   "outputs": [
    {
     "data": {
      "text/plain": [
       "[1, 2, 3, 4, 5]"
      ]
     },
     "execution_count": 37,
     "metadata": {},
     "output_type": "execute_result"
    }
   ],
   "source": [
    "list1 = [1,2,3,4]\n",
    "list1.extend([5])\n",
    "list1"
   ]
  },
  {
   "cell_type": "code",
   "execution_count": 38,
   "id": "02516219",
   "metadata": {},
   "outputs": [
    {
     "data": {
      "text/plain": [
       "[1, 2, 3]"
      ]
     },
     "execution_count": 38,
     "metadata": {},
     "output_type": "execute_result"
    }
   ],
   "source": [
    "list1 = [1,2,3,4]\n",
    "del list1[3]\n",
    "list1"
   ]
  },
  {
   "cell_type": "code",
   "execution_count": 39,
   "id": "89b3f48e",
   "metadata": {},
   "outputs": [
    {
     "data": {
      "text/plain": [
       "[1, 2, 3]"
      ]
     },
     "execution_count": 39,
     "metadata": {},
     "output_type": "execute_result"
    }
   ],
   "source": [
    "list1 = [1,2,3,4]\n",
    "list1.pop()\n",
    "list1"
   ]
  },
  {
   "cell_type": "code",
   "execution_count": 40,
   "id": "c1834625",
   "metadata": {},
   "outputs": [
    {
     "data": {
      "text/plain": [
       "[1, 3, 4]"
      ]
     },
     "execution_count": 40,
     "metadata": {},
     "output_type": "execute_result"
    }
   ],
   "source": [
    "list1 = [1,2,3,4]\n",
    "list1.pop(1)\n",
    "list1"
   ]
  },
  {
   "cell_type": "code",
   "execution_count": 41,
   "id": "d4b98ce0",
   "metadata": {},
   "outputs": [
    {
     "data": {
      "text/plain": [
       "[11, 22, 33, 44, 55, 77]"
      ]
     },
     "execution_count": 41,
     "metadata": {},
     "output_type": "execute_result"
    }
   ],
   "source": [
    "list1 = [11,22,33,44,55,66,77]\n",
    "list1.remove(66)\n",
    "list1"
   ]
  },
  {
   "cell_type": "code",
   "execution_count": 42,
   "id": "4804d2ad",
   "metadata": {},
   "outputs": [],
   "source": [
    "# .sort(reverse = True) and sorted()"
   ]
  },
  {
   "cell_type": "code",
   "execution_count": 49,
   "id": "2775cdf7",
   "metadata": {},
   "outputs": [],
   "source": [
    "A = [1,5,2,10,144,9]\n",
    "A.sort()"
   ]
  },
  {
   "cell_type": "code",
   "execution_count": 50,
   "id": "4bf10c81",
   "metadata": {},
   "outputs": [
    {
     "name": "stdout",
     "output_type": "stream",
     "text": [
      "[1, 2, 5, 9, 10, 144]\n"
     ]
    }
   ],
   "source": [
    "print(A)"
   ]
  },
  {
   "cell_type": "code",
   "execution_count": 51,
   "id": "9d3bfbb1",
   "metadata": {},
   "outputs": [
    {
     "data": {
      "text/plain": [
       "[1, 2, 5, 9, 10, 144]"
      ]
     },
     "execution_count": 51,
     "metadata": {},
     "output_type": "execute_result"
    }
   ],
   "source": [
    "A = [1,5,2,10,144,9]\n",
    "sorted(A)"
   ]
  },
  {
   "cell_type": "code",
   "execution_count": 52,
   "id": "c488137d",
   "metadata": {},
   "outputs": [
    {
     "data": {
      "text/plain": [
       "[144, 10, 9, 5, 2, 1]"
      ]
     },
     "execution_count": 52,
     "metadata": {},
     "output_type": "execute_result"
    }
   ],
   "source": [
    "A = [1,5,2,10,144,9]\n",
    "A.sort(reverse = True)\n",
    "A"
   ]
  },
  {
   "cell_type": "code",
   "execution_count": 53,
   "id": "3735ba03",
   "metadata": {},
   "outputs": [
    {
     "name": "stdout",
     "output_type": "stream",
     "text": [
      "[1, 2, 5, 9, 10, 144]\n",
      "None\n"
     ]
    }
   ],
   "source": [
    "A = [1,5,2,10,144,9]\n",
    "B = A.sort()\n",
    "print(A)\n",
    "print(B)\n"
   ]
  },
  {
   "cell_type": "code",
   "execution_count": 54,
   "id": "e41122fa",
   "metadata": {},
   "outputs": [
    {
     "name": "stdout",
     "output_type": "stream",
     "text": [
      "[1, 5, 2, 10, 144, 9]\n",
      "[1, 2, 5, 9, 10, 144]\n"
     ]
    }
   ],
   "source": [
    "A = [1,5,2,10,144,9]\n",
    "B = sorted(A)\n",
    "print(A)\n",
    "print(B)"
   ]
  },
  {
   "cell_type": "code",
   "execution_count": 56,
   "id": "618dfaa6",
   "metadata": {},
   "outputs": [
    {
     "name": "stdout",
     "output_type": "stream",
     "text": [
      "[1, 2, 5, 9, 10, 144]\n",
      "[1, 2, 5, 9, 10, 144]\n"
     ]
    }
   ],
   "source": [
    "A = [1,5,2,10,144,9]\n",
    "A.sort()\n",
    "B = sorted(A)\n",
    "print(A)\n",
    "print(B)"
   ]
  },
  {
   "cell_type": "code",
   "execution_count": 57,
   "id": "454cb24b",
   "metadata": {},
   "outputs": [],
   "source": [
    "# Shallow Copy\n"
   ]
  },
  {
   "cell_type": "code",
   "execution_count": 58,
   "id": "38983494",
   "metadata": {},
   "outputs": [],
   "source": [
    "A = [1,2,3,4,5]\n",
    "B = A"
   ]
  },
  {
   "cell_type": "code",
   "execution_count": 59,
   "id": "08de3c00",
   "metadata": {},
   "outputs": [
    {
     "name": "stdout",
     "output_type": "stream",
     "text": [
      "[1, 2, 3, 4, 5]\n",
      "[1, 2, 3, 4, 5]\n"
     ]
    }
   ],
   "source": [
    "print(A)\n",
    "print(B)"
   ]
  },
  {
   "cell_type": "code",
   "execution_count": 60,
   "id": "370e4d58",
   "metadata": {},
   "outputs": [
    {
     "data": {
      "text/plain": [
       "5"
      ]
     },
     "execution_count": 60,
     "metadata": {},
     "output_type": "execute_result"
    }
   ],
   "source": [
    "A.pop()"
   ]
  },
  {
   "cell_type": "code",
   "execution_count": 61,
   "id": "e5345e3f",
   "metadata": {},
   "outputs": [
    {
     "name": "stdout",
     "output_type": "stream",
     "text": [
      "[1, 2, 3, 4]\n",
      "[1, 2, 3, 4]\n"
     ]
    }
   ],
   "source": [
    "print(A)\n",
    "print(B)"
   ]
  },
  {
   "cell_type": "code",
   "execution_count": 62,
   "id": "3ff49f91",
   "metadata": {},
   "outputs": [
    {
     "name": "stdout",
     "output_type": "stream",
     "text": [
      "[1, 2, 3, 4, 5]\n",
      "[1, 2, 3, 4, 5]\n"
     ]
    }
   ],
   "source": [
    "A = [1,2,3,4,5]\n",
    "B = list(A)\n",
    "print(A)\n",
    "print(B)"
   ]
  },
  {
   "cell_type": "code",
   "execution_count": 63,
   "id": "3f5aa1ad",
   "metadata": {},
   "outputs": [
    {
     "data": {
      "text/plain": [
       "5"
      ]
     },
     "execution_count": 63,
     "metadata": {},
     "output_type": "execute_result"
    }
   ],
   "source": [
    "A.pop()"
   ]
  },
  {
   "cell_type": "code",
   "execution_count": 64,
   "id": "4362f07c",
   "metadata": {},
   "outputs": [
    {
     "name": "stdout",
     "output_type": "stream",
     "text": [
      "[1, 2, 3, 4]\n",
      "[1, 2, 3, 4, 5]\n"
     ]
    }
   ],
   "source": [
    "print(A)\n",
    "print(B)"
   ]
  },
  {
   "cell_type": "code",
   "execution_count": 65,
   "id": "52e7cbd4",
   "metadata": {},
   "outputs": [
    {
     "name": "stdout",
     "output_type": "stream",
     "text": [
      "[1, 2, 3, 4]\n",
      "[1, 2, 3, 4]\n"
     ]
    }
   ],
   "source": [
    "A = [1,2,3,4]\n",
    "B = A[0:4]\n",
    "print(A)\n",
    "print(B)"
   ]
  },
  {
   "cell_type": "code",
   "execution_count": 66,
   "id": "2be8a026",
   "metadata": {},
   "outputs": [
    {
     "data": {
      "text/plain": [
       "4"
      ]
     },
     "execution_count": 66,
     "metadata": {},
     "output_type": "execute_result"
    }
   ],
   "source": [
    "A.pop()"
   ]
  },
  {
   "cell_type": "code",
   "execution_count": 67,
   "id": "a9656c00",
   "metadata": {},
   "outputs": [
    {
     "name": "stdout",
     "output_type": "stream",
     "text": [
      "[1, 2, 3]\n",
      "[1, 2, 3, 4]\n"
     ]
    }
   ],
   "source": [
    "print(A)\n",
    "print(B)"
   ]
  },
  {
   "cell_type": "code",
   "execution_count": 68,
   "id": "b1d91050",
   "metadata": {},
   "outputs": [],
   "source": [
    "A = [\"Oranges\",\"Strawberries\",\"Mangos\",\"Bananas\"]"
   ]
  },
  {
   "cell_type": "code",
   "execution_count": 69,
   "id": "8609c256",
   "metadata": {},
   "outputs": [],
   "source": [
    "A.sort()"
   ]
  },
  {
   "cell_type": "code",
   "execution_count": 70,
   "id": "badc0cc8",
   "metadata": {},
   "outputs": [
    {
     "name": "stdout",
     "output_type": "stream",
     "text": [
      "['Bananas', 'Mangos', 'Oranges', 'Strawberries']\n"
     ]
    }
   ],
   "source": [
    "print(A)"
   ]
  },
  {
   "cell_type": "code",
   "execution_count": 71,
   "id": "640e61ba",
   "metadata": {},
   "outputs": [],
   "source": [
    "A.sort(reverse = True)"
   ]
  },
  {
   "cell_type": "code",
   "execution_count": 72,
   "id": "137ff54b",
   "metadata": {},
   "outputs": [
    {
     "name": "stdout",
     "output_type": "stream",
     "text": [
      "['Strawberries', 'Oranges', 'Mangos', 'Bananas']\n"
     ]
    }
   ],
   "source": [
    "print(A)"
   ]
  },
  {
   "cell_type": "code",
   "execution_count": null,
   "id": "7cbfb30d",
   "metadata": {},
   "outputs": [],
   "source": []
  },
  {
   "cell_type": "code",
   "execution_count": null,
   "id": "3e2f9b1e",
   "metadata": {},
   "outputs": [],
   "source": []
  },
  {
   "cell_type": "code",
   "execution_count": 73,
   "id": "63c3b685",
   "metadata": {},
   "outputs": [],
   "source": [
    "# Questions"
   ]
  },
  {
   "cell_type": "code",
   "execution_count": 74,
   "id": "3637b811",
   "metadata": {},
   "outputs": [],
   "source": [
    "input_str = \"Kumar_Ravi_003\""
   ]
  },
  {
   "cell_type": "code",
   "execution_count": 79,
   "id": "87c1d545",
   "metadata": {},
   "outputs": [],
   "source": [
    "second_name = input_str[0:5]\n",
    "first_name = input_str[6:10]\n",
    "customer_code = input_str[11:]\n",
    "customer_code_2 = input_str[-3:]"
   ]
  },
  {
   "cell_type": "code",
   "execution_count": 80,
   "id": "2049bb44",
   "metadata": {},
   "outputs": [
    {
     "name": "stdout",
     "output_type": "stream",
     "text": [
      "Kumar\n",
      "Ravi\n",
      "003\n",
      "003\n"
     ]
    }
   ],
   "source": [
    "print(second_name)\n",
    "print(first_name)\n",
    "print(customer_code)\n",
    "print(customer_code_2)\n",
    "\n",
    "# You can do this index slicing in strings and lists"
   ]
  },
  {
   "cell_type": "code",
   "execution_count": 81,
   "id": "54ab502d",
   "metadata": {},
   "outputs": [
    {
     "data": {
      "text/plain": [
       "'Kumar_Ravi_003'"
      ]
     },
     "execution_count": 81,
     "metadata": {},
     "output_type": "execute_result"
    }
   ],
   "source": [
    "input_str"
   ]
  },
  {
   "cell_type": "code",
   "execution_count": 87,
   "id": "73c2b12f",
   "metadata": {},
   "outputs": [],
   "source": [
    "list1 = input_str.split('_') # .split() method is used to split string based on a character / symbol. After that, it can assign splitted elements as a list into a new variable. "
   ]
  },
  {
   "cell_type": "code",
   "execution_count": 88,
   "id": "cc4417da",
   "metadata": {},
   "outputs": [
    {
     "data": {
      "text/plain": [
       "['Kumar', 'Ravi', '003']"
      ]
     },
     "execution_count": 88,
     "metadata": {},
     "output_type": "execute_result"
    }
   ],
   "source": [
    "list1 "
   ]
  },
  {
   "cell_type": "code",
   "execution_count": null,
   "id": "9b3b4f39",
   "metadata": {},
   "outputs": [],
   "source": [
    "  "
   ]
  }
 ],
 "metadata": {
  "kernelspec": {
   "display_name": "Python 3 (ipykernel)",
   "language": "python",
   "name": "python3"
  },
  "language_info": {
   "codemirror_mode": {
    "name": "ipython",
    "version": 3
   },
   "file_extension": ".py",
   "mimetype": "text/x-python",
   "name": "python",
   "nbconvert_exporter": "python",
   "pygments_lexer": "ipython3",
   "version": "3.11.5"
  }
 },
 "nbformat": 4,
 "nbformat_minor": 5
}
