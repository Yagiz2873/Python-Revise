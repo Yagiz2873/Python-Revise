{
 "cells": [
  {
   "cell_type": "code",
   "execution_count": 1,
   "id": "d519431a",
   "metadata": {},
   "outputs": [],
   "source": [
    "# This study file was prepared to study and revise Python based on \n",
    "# what I've learnt from Satyajit Patnik, owner of the Data Analytics / Data Science Masters courses.   "
   ]
  },
  {
   "cell_type": "code",
   "execution_count": 2,
   "id": "a921923b",
   "metadata": {},
   "outputs": [],
   "source": [
    "# Loops are used for repitition - iterating over an iterable\n",
    "# Iterable : an object that can be iterated over (Lists,tuples,dictionaries,sets,strings)\n",
    "# Iterator : variable that goes through each element in the iterable.\n",
    "# 2 types of loops: For and While"
   ]
  },
  {
   "cell_type": "code",
   "execution_count": null,
   "id": "f893c1ff",
   "metadata": {},
   "outputs": [],
   "source": [
    "# for loops, while loops, range, "
   ]
  },
  {
   "cell_type": "markdown",
   "id": "c6f50da6",
   "metadata": {},
   "source": [
    "#### Even number odd number"
   ]
  },
  {
   "cell_type": "code",
   "execution_count": 6,
   "id": "c1fbfea6",
   "metadata": {},
   "outputs": [
    {
     "name": "stdout",
     "output_type": "stream",
     "text": [
      "1 is odd\n",
      "2 is even\n",
      "3 is odd\n",
      "4 is even\n",
      "5 is odd\n",
      "6 is even\n",
      "7 is odd\n",
      "8 is even\n",
      "9 is odd\n",
      "10 is even\n"
     ]
    }
   ],
   "source": [
    "for var in range(1,11):\n",
    "    if(var % 2 == 0):\n",
    "        print(var , \"is even\")\n",
    "    else:\n",
    "        print(var ,\"is odd\")\n",
    "        "
   ]
  },
  {
   "cell_type": "code",
   "execution_count": 8,
   "id": "d77c4667",
   "metadata": {},
   "outputs": [
    {
     "name": "stdout",
     "output_type": "stream",
     "text": [
      "Please enter your number: 20\n",
      "1 is odd\n",
      "2 is even\n",
      "3 is odd\n",
      "4 is even\n",
      "5 is odd\n",
      "6 is even\n",
      "7 is odd\n",
      "8 is even\n",
      "9 is odd\n",
      "10 is even\n",
      "11 is odd\n",
      "12 is even\n",
      "13 is odd\n",
      "14 is even\n",
      "15 is odd\n",
      "16 is even\n",
      "17 is odd\n",
      "18 is even\n",
      "19 is odd\n",
      "20 is even\n"
     ]
    }
   ],
   "source": [
    "number = int(input(\"Please enter your number: \"))\n",
    "\n",
    "for var in range(1,number+1):\n",
    "    if(var % 2 == 0):\n",
    "        print(var , \"is even\")\n",
    "    else:\n",
    "        print(var ,\"is odd\")"
   ]
  },
  {
   "cell_type": "markdown",
   "id": "63cc07d6",
   "metadata": {},
   "source": [
    "#### Joining Party according to the ages"
   ]
  },
  {
   "cell_type": "code",
   "execution_count": 9,
   "id": "d2aec42c",
   "metadata": {},
   "outputs": [
    {
     "name": "stdout",
     "output_type": "stream",
     "text": [
      "You can not join the party. Your age is:  5\n",
      "You can not join the party. Your age is:  10\n",
      "You can join the party. Your age is:  18\n",
      "You can not join the party. Your age is:  15\n",
      "You can not join the party. Your age is:  17\n",
      "You can join the party. Your age is:  20\n",
      "You can join the party. Your age is:  30\n",
      "You can join the party. Your age is:  35\n",
      "You can join the party. Your age is:  40\n",
      "You can join the party. Your age is:  50\n",
      "You can not join the party. Your age is:  55\n",
      "You can not join the party. Your age is:  60\n",
      "You can not join the party. Your age is:  70\n",
      "You can not join the party. Your age is:  80\n",
      "You can not join the party. Your age is:  90\n",
      "You can not join the party. Your age is:  100\n"
     ]
    }
   ],
   "source": [
    "age_list = [5,10,18,15,17,20,30,35,40,50,55,60,70,80,90,100]\n",
    "for age in age_list:\n",
    "    if (age >= 18) and (age<=50):\n",
    "        print(\"You can join the party. Your age is: \", age)\n",
    "    else:\n",
    "        print(\"You can not join the party. Your age is: \", age)\n",
    "        "
   ]
  },
  {
   "cell_type": "code",
   "execution_count": 12,
   "id": "50e74473",
   "metadata": {},
   "outputs": [
    {
     "name": "stdout",
     "output_type": "stream",
     "text": [
      "Please enter your age: 10\n",
      "Please enter your age: 18\n",
      "Please enter your age: 28\n",
      "Please enter your age: 55\n",
      "Please enter your age: 60\n",
      "\n",
      "\n",
      "You can not join the party. Your age is:  10\n",
      "You can join the party. Your age is:  18\n",
      "You can join the party. Your age is:  28\n",
      "You can not join the party. Your age is:  55\n",
      "You can not join the party. Your age is:  60\n"
     ]
    }
   ],
   "source": [
    "age_list = []\n",
    "\n",
    "for i in range(1,6):\n",
    "    age = int(input(\"Please enter your age: \"))\n",
    "    age_list.append(age)\n",
    "\n",
    "print(\"\\n\")\n",
    "    \n",
    "for age in age_list:\n",
    "    if (age >= 18) and (age<=50):\n",
    "        print(\"You can join the party. Your age is: \", age)\n",
    "    else:\n",
    "        print(\"You can not join the party. Your age is: \", age)"
   ]
  },
  {
   "cell_type": "markdown",
   "id": "1d4efca3",
   "metadata": {},
   "source": [
    "#### Program to provide discounts/offers"
   ]
  },
  {
   "cell_type": "code",
   "execution_count": 15,
   "id": "b88ade73",
   "metadata": {},
   "outputs": [
    {
     "name": "stdout",
     "output_type": "stream",
     "text": [
      "Please enter your total price from shopping: 5500\n",
      "Please enter your total price from shopping: 5000\n",
      "Please enter your total price from shopping: 4500\n",
      "Please enter your total price from shopping: 4000\n",
      "Please enter your total price from shopping: 3500\n",
      "Please enter your total price from shopping: 3000\n",
      "Please enter your total price from shopping: 2500\n",
      "Please enter your total price from shopping: 2000\n",
      "Please enter your total price from shopping: 1500\n",
      "Please enter your total price from shopping: 1000\n",
      "\n",
      "\n",
      "Prices:  [5500, 5000, 4500, 4000, 3500, 3000, 2500, 2000, 1500, 1000]\n",
      "\n",
      "\n",
      "You got 1000$ as voucher. Your price is  5500\n",
      "You got 1000$ as voucher. Your price is  5000\n",
      "You got 500$ as voucher. Your price is  4500\n",
      "You got 500$ as voucher. Your price is  4000\n",
      "You got 500$ as voucher. Your price is  3500\n",
      "You got 500$ as voucher. Your price is  3000\n",
      "You got 500$ as voucher. Your price is  2500\n",
      "Sorry. You didn't get any voucher. Your price is  2000\n",
      "Sorry. You didn't get any voucher. Your price is  1500\n",
      "Sorry. You didn't get any voucher. Your price is  1000\n"
     ]
    }
   ],
   "source": [
    "price_list = []\n",
    "\n",
    "for var in range(1,11):\n",
    "    price = int(input(\"Please enter your total price from shopping: \"))\n",
    "    price_list.append(price)\n",
    "\n",
    "print(\"\\n\")\n",
    "\n",
    "print(\"Prices: \",price_list)\n",
    "\n",
    "print(\"\\n\")\n",
    "    \n",
    "for price in price_list:\n",
    "    if(price >= 5000):\n",
    "        print(\"You got 1000$ as voucher. Your price is \",price)\n",
    "    elif(price >= 2500 and price < 5000 ):\n",
    "        print(\"You got 500$ as voucher. Your price is \",price)\n",
    "    else:\n",
    "        print(\"Sorry. You didn't get any voucher. Your price is \",price)\n",
    "        "
   ]
  },
  {
   "cell_type": "markdown",
   "id": "5625e7e5",
   "metadata": {},
   "source": [
    "#### Iterations"
   ]
  },
  {
   "cell_type": "markdown",
   "id": "c1168985",
   "metadata": {},
   "source": [
    "##### Iterate over a list of integers"
   ]
  },
  {
   "cell_type": "code",
   "execution_count": 16,
   "id": "bcce6301",
   "metadata": {},
   "outputs": [
    {
     "name": "stdout",
     "output_type": "stream",
     "text": [
      "10\n",
      "20\n",
      "30\n",
      "40\n",
      "50\n"
     ]
    }
   ],
   "source": [
    "integer_list = [10,20,30,40,50]\n",
    "for num in integer_list:\n",
    "    print(num)"
   ]
  },
  {
   "cell_type": "markdown",
   "id": "c085fe9d",
   "metadata": {},
   "source": [
    "##### Iterate over a string"
   ]
  },
  {
   "cell_type": "code",
   "execution_count": 17,
   "id": "ad039bc8",
   "metadata": {},
   "outputs": [
    {
     "name": "stdout",
     "output_type": "stream",
     "text": [
      "Y\n",
      "a\n",
      "ğ\n",
      "ı\n",
      "z\n",
      " \n",
      "E\n",
      "s\n",
      "m\n",
      "e\n",
      "r\n",
      "l\n",
      "i\n",
      "g\n",
      "i\n",
      "l\n"
     ]
    }
   ],
   "source": [
    "full_name = \"Yağız Esmerligil\"\n",
    "for char in full_name:\n",
    "    print(char)"
   ]
  },
  {
   "cell_type": "markdown",
   "id": "6f7065ed",
   "metadata": {},
   "source": [
    "##### Iterate over a dictionary"
   ]
  },
  {
   "cell_type": "code",
   "execution_count": 18,
   "id": "ff67f58b",
   "metadata": {},
   "outputs": [],
   "source": [
    "people_data = {1: [\"Yağız\",27], 2 : [\"Dağhan\",21], 3: [\"Erhan\",60], 4: [\"Meral\",60], 5: [\"Kemal\",27] }"
   ]
  },
  {
   "cell_type": "code",
   "execution_count": 29,
   "id": "47305c21",
   "metadata": {},
   "outputs": [
    {
     "name": "stdout",
     "output_type": "stream",
     "text": [
      "1\n",
      "2\n",
      "3\n",
      "4\n",
      "5\n"
     ]
    }
   ],
   "source": [
    "for person in people_data:\n",
    "    print(person)"
   ]
  },
  {
   "cell_type": "code",
   "execution_count": 28,
   "id": "1c58d8aa",
   "metadata": {},
   "outputs": [
    {
     "name": "stdout",
     "output_type": "stream",
     "text": [
      "['Yağız', 27]\n",
      "['Dağhan', 21]\n",
      "['Erhan', 60]\n",
      "['Meral', 60]\n",
      "['Kemal', 27]\n"
     ]
    }
   ],
   "source": [
    "for person in people_data:\n",
    "    print(people_data[person])"
   ]
  },
  {
   "cell_type": "code",
   "execution_count": 27,
   "id": "c58d24c9",
   "metadata": {},
   "outputs": [
    {
     "name": "stdout",
     "output_type": "stream",
     "text": [
      "Yağız 27\n",
      "Dağhan 21\n",
      "Erhan 60\n",
      "Meral 60\n",
      "Kemal 27\n"
     ]
    }
   ],
   "source": [
    "for person in people_data:\n",
    "    print(people_data[person][0] , people_data[person][1])"
   ]
  },
  {
   "cell_type": "code",
   "execution_count": 30,
   "id": "9063e125",
   "metadata": {},
   "outputs": [
    {
     "name": "stdout",
     "output_type": "stream",
     "text": [
      "(1, ['Yağız', 27])\n",
      "(2, ['Dağhan', 21])\n",
      "(3, ['Erhan', 60])\n",
      "(4, ['Meral', 60])\n",
      "(5, ['Kemal', 27])\n"
     ]
    }
   ],
   "source": [
    "for person in people_data.items():\n",
    "    print(person)"
   ]
  },
  {
   "cell_type": "code",
   "execution_count": 31,
   "id": "3fea87da",
   "metadata": {},
   "outputs": [
    {
     "name": "stdout",
     "output_type": "stream",
     "text": [
      "1\n",
      "2\n",
      "3\n",
      "4\n",
      "5\n"
     ]
    }
   ],
   "source": [
    "for person in people_data.keys():\n",
    "    print(person)"
   ]
  },
  {
   "cell_type": "code",
   "execution_count": 32,
   "id": "b0ca8fe9",
   "metadata": {},
   "outputs": [
    {
     "name": "stdout",
     "output_type": "stream",
     "text": [
      "['Yağız', 27]\n",
      "['Dağhan', 21]\n",
      "['Erhan', 60]\n",
      "['Meral', 60]\n",
      "['Kemal', 27]\n"
     ]
    }
   ],
   "source": [
    "for person in people_data.values():\n",
    "    print(person)"
   ]
  },
  {
   "cell_type": "code",
   "execution_count": 34,
   "id": "09f59827",
   "metadata": {},
   "outputs": [
    {
     "name": "stdout",
     "output_type": "stream",
     "text": [
      "1\n",
      "2\n",
      "3\n",
      "4\n",
      "5\n"
     ]
    }
   ],
   "source": [
    "for i,j in people_data.items():\n",
    "    print(i)"
   ]
  },
  {
   "cell_type": "code",
   "execution_count": 35,
   "id": "728ccdf2",
   "metadata": {},
   "outputs": [
    {
     "name": "stdout",
     "output_type": "stream",
     "text": [
      "['Yağız', 27]\n",
      "['Dağhan', 21]\n",
      "['Erhan', 60]\n",
      "['Meral', 60]\n",
      "['Kemal', 27]\n"
     ]
    }
   ],
   "source": [
    "for i,j in people_data.items():\n",
    "    print(j)"
   ]
  },
  {
   "cell_type": "markdown",
   "id": "e749818a",
   "metadata": {},
   "source": [
    "##### Iterate over a range of values"
   ]
  },
  {
   "cell_type": "code",
   "execution_count": 36,
   "id": "e594d04c",
   "metadata": {},
   "outputs": [],
   "source": [
    "number_list = range(1,101,3)"
   ]
  },
  {
   "cell_type": "code",
   "execution_count": 37,
   "id": "02ef6f67",
   "metadata": {},
   "outputs": [
    {
     "name": "stdout",
     "output_type": "stream",
     "text": [
      "4\n",
      "13\n",
      "22\n",
      "31\n",
      "40\n",
      "49\n",
      "58\n",
      "67\n",
      "76\n",
      "85\n",
      "94\n",
      "103\n",
      "112\n",
      "121\n",
      "130\n",
      "139\n",
      "148\n",
      "157\n",
      "166\n",
      "175\n",
      "184\n",
      "193\n",
      "202\n",
      "211\n",
      "220\n",
      "229\n",
      "238\n",
      "247\n",
      "256\n",
      "265\n",
      "274\n",
      "283\n",
      "292\n",
      "301\n"
     ]
    }
   ],
   "source": [
    "for num in number_list:\n",
    "    print(num*3 + 1)"
   ]
  },
  {
   "cell_type": "markdown",
   "id": "633b49dd",
   "metadata": {},
   "source": [
    "## Comprehensions"
   ]
  },
  {
   "cell_type": "code",
   "execution_count": 38,
   "id": "d257a851",
   "metadata": {},
   "outputs": [],
   "source": [
    "brand_names = [\"Burger King\",\"Mac Donalds\",\"Arbys\",\"KFC\"]"
   ]
  },
  {
   "cell_type": "code",
   "execution_count": 40,
   "id": "e4ddaf88",
   "metadata": {},
   "outputs": [
    {
     "name": "stdout",
     "output_type": "stream",
     "text": [
      "['Burger King', 'Mac Donalds', 'Arbys', 'KFC']\n"
     ]
    }
   ],
   "source": [
    "brand_names_2 = []\n",
    "\n",
    "for brand in brand_names:\n",
    "    brand_names_2.append(brand)\n",
    "    \n",
    "print(brand_names_2)"
   ]
  },
  {
   "cell_type": "code",
   "execution_count": 45,
   "id": "b6427c54",
   "metadata": {},
   "outputs": [
    {
     "name": "stdout",
     "output_type": "stream",
     "text": [
      "['Burger King', 'Mac Donalds', 'Arbys', 'KFC']\n"
     ]
    }
   ],
   "source": [
    "brand_names_2 = [brand for brand in brand_names]\n",
    "print(brand_names_2)"
   ]
  },
  {
   "cell_type": "code",
   "execution_count": 47,
   "id": "6fd1d45a",
   "metadata": {},
   "outputs": [
    {
     "name": "stdout",
     "output_type": "stream",
     "text": [
      "[11, 11, 5, 3]\n"
     ]
    }
   ],
   "source": [
    "len_of_brands = []\n",
    "\n",
    "for brand in brand_names:\n",
    "    len_of_brands.append(len(brand))\n",
    "\n",
    "print(len_of_brands)"
   ]
  },
  {
   "cell_type": "code",
   "execution_count": 48,
   "id": "f37a9931",
   "metadata": {},
   "outputs": [
    {
     "name": "stdout",
     "output_type": "stream",
     "text": [
      "[11, 11, 5, 3]\n"
     ]
    }
   ],
   "source": [
    "len_of_brands = [len(brand) for brand in brand_names]\n",
    "\n",
    "print(len_of_brands)"
   ]
  },
  {
   "cell_type": "code",
   "execution_count": 49,
   "id": "6eb741b6",
   "metadata": {},
   "outputs": [
    {
     "name": "stdout",
     "output_type": "stream",
     "text": [
      "{'Burger King': 11, 'Mac Donalds': 11, 'Arbys': 5, 'KFC': 3}\n"
     ]
    }
   ],
   "source": [
    "length_dict = {}\n",
    "\n",
    "for brand in brand_names:\n",
    "    length_dict[brand] = len(brand)\n",
    "    \n",
    "print(length_dict)"
   ]
  },
  {
   "cell_type": "code",
   "execution_count": 51,
   "id": "363bd1c6",
   "metadata": {},
   "outputs": [],
   "source": [
    "length_dict_2 = {brand : len(brand) for brand in brand_names}"
   ]
  },
  {
   "cell_type": "code",
   "execution_count": 52,
   "id": "bb54ca2c",
   "metadata": {},
   "outputs": [
    {
     "name": "stdout",
     "output_type": "stream",
     "text": [
      "{'Burger King': 11, 'Mac Donalds': 11, 'Arbys': 5, 'KFC': 3}\n"
     ]
    }
   ],
   "source": [
    "print(length_dict_2)"
   ]
  },
  {
   "cell_type": "code",
   "execution_count": 66,
   "id": "4ccb9452",
   "metadata": {},
   "outputs": [],
   "source": [
    "number_tuples = (11,22,33,44,55)\n",
    "\n",
    "number_tuples_2 = (number for number in number_tuples)"
   ]
  },
  {
   "cell_type": "code",
   "execution_count": 68,
   "id": "ca0edbb8",
   "metadata": {},
   "outputs": [
    {
     "name": "stdout",
     "output_type": "stream",
     "text": [
      "<generator object <genexpr> at 0x000001D3A808AF60>\n"
     ]
    }
   ],
   "source": [
    "print(number_tuples_2) # It didn't work on tuples"
   ]
  },
  {
   "cell_type": "code",
   "execution_count": 69,
   "id": "5f461ba6",
   "metadata": {},
   "outputs": [
    {
     "name": "stdout",
     "output_type": "stream",
     "text": [
      "{33, 11, 44, 22, 55}\n"
     ]
    }
   ],
   "source": [
    "number_sets = {11,22,33,44,55}\n",
    "\n",
    "number_sets_2 = {number for number in number_tuples}\n",
    "\n",
    "print(number_sets_2)"
   ]
  },
  {
   "cell_type": "code",
   "execution_count": 70,
   "id": "eff29c0f",
   "metadata": {},
   "outputs": [
    {
     "name": "stdout",
     "output_type": "stream",
     "text": [
      "<generator object <genexpr> at 0x000001D3A83A4380>\n"
     ]
    }
   ],
   "source": [
    "str1 = \"Aa\"\n",
    "str2 = str(char*2 for char in str1)\n",
    "print(str2) #It didn't work on strings"
   ]
  },
  {
   "cell_type": "code",
   "execution_count": null,
   "id": "d27ac98f",
   "metadata": {},
   "outputs": [],
   "source": [
    "    "
   ]
  }
 ],
 "metadata": {
  "kernelspec": {
   "display_name": "Python 3 (ipykernel)",
   "language": "python",
   "name": "python3"
  },
  "language_info": {
   "codemirror_mode": {
    "name": "ipython",
    "version": 3
   },
   "file_extension": ".py",
   "mimetype": "text/x-python",
   "name": "python",
   "nbconvert_exporter": "python",
   "pygments_lexer": "ipython3",
   "version": "3.11.5"
  }
 },
 "nbformat": 4,
 "nbformat_minor": 5
}
