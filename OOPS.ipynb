{
 "cells": [
  {
   "cell_type": "code",
   "execution_count": 1,
   "id": "80da908b",
   "metadata": {},
   "outputs": [],
   "source": [
    "# This study file was prepared to study and revise Python based on \n",
    "# what I've learnt from Satyajit Patnik, owner of the Data Analytics / Data Science Masters courses. "
   ]
  },
  {
   "cell_type": "code",
   "execution_count": 2,
   "id": "d4b1bc27",
   "metadata": {},
   "outputs": [
    {
     "data": {
      "text/plain": [
       "'\\nIn Python, object-oriented programming (OOPS) is a programming paradigm that uses objects and classes in the programming. It\\naims to implement real-world entities like inheritance, polymorphisms and encapsulation etc. in the programming. The main concept\\nof OOPs is to bind the data and the functions that work on that together as a single unit so that no other part of the code can\\naccess the data (security)\\n\\nMain Concepts of OOPs (Object-Oriented Programming)\\n1-) Classes\\n2-) Objects\\n3-) Polymorphism\\n4-) Encapsulation\\n5-) Inheritance\\n\\n'"
      ]
     },
     "execution_count": 2,
     "metadata": {},
     "output_type": "execute_result"
    }
   ],
   "source": [
    "\"\"\"\n",
    "In Python, object-oriented programming (OOPS) is a programming paradigm that uses objects and classes in the programming. It\n",
    "aims to implement real-world entities like inheritance, polymorphisms and encapsulation etc. in the programming. The main concept\n",
    "of OOPs is to bind the data and the functions that work on that together as a single unit so that no other part of the code can\n",
    "access the data (security)\n",
    "\n",
    "Main Concepts of OOPs (Object-Oriented Programming)\n",
    "1-) Classes\n",
    "2-) Objects\n",
    "3-) Polymorphism\n",
    "4-) Encapsulation\n",
    "5-) Inheritance\n",
    "\n",
    "\"\"\""
   ]
  },
  {
   "cell_type": "code",
   "execution_count": 3,
   "id": "b78e8234",
   "metadata": {},
   "outputs": [
    {
     "data": {
      "text/plain": [
       "'\\nAn object-oriented programming method enables us to think like we are working with real life entities or objects and makes our\\ncode more secure.\\n'"
      ]
     },
     "execution_count": 3,
     "metadata": {},
     "output_type": "execute_result"
    }
   ],
   "source": [
    "\"\"\"\n",
    "An object-oriented programming method enables us to think like we are working with real life entities or objects and makes our\n",
    "code more secure.\n",
    "\"\"\""
   ]
  },
  {
   "cell_type": "markdown",
   "id": "69ffd4ed",
   "metadata": {},
   "source": [
    "#### Defining a class"
   ]
  },
  {
   "cell_type": "code",
   "execution_count": 4,
   "id": "ed8f7d9d",
   "metadata": {},
   "outputs": [],
   "source": [
    "class Rectangle:\n",
    "    def __init__(self):\n",
    "        self.length = 10\n",
    "        self.breadth = 15"
   ]
  },
  {
   "cell_type": "code",
   "execution_count": 5,
   "id": "ccbd5b59",
   "metadata": {},
   "outputs": [
    {
     "data": {
      "text/plain": [
       "'\\n\\n1-) length and breadth are the attributes\\n2-) init() is the constructor of the class\\n3-) The init function will be created by default when you create an instance (object) from the class. \\n4-) self parameter = refers to newly created instance of the class\\n5-)attributes length and breadth are associated with self keyword (self.length, self.breadth) to identify them as instance variables\\n6-)create the object by calling the name of the class followed by paranthesis\\n7- print the values using dot operator\\n8-) A constructor is a speacial kind of method/function that Python calls by default when it creates/instantiates an object using\\nthe definitions found in your class.\\n\\n'"
      ]
     },
     "execution_count": 5,
     "metadata": {},
     "output_type": "execute_result"
    }
   ],
   "source": [
    "\"\"\"\n",
    "\n",
    "1-) length and breadth are the attributes\n",
    "2-) init() is the constructor of the class\n",
    "3-) The init function will be created by default when you create an instance (object) from the class. \n",
    "4-) self parameter = refers to newly created instance of the class\n",
    "5-)attributes length and breadth are associated with self keyword (self.length, self.breadth) to identify them as instance variables\n",
    "6-)create the object by calling the name of the class followed by paranthesis\n",
    "7- print the values using dot operator\n",
    "8-) A constructor is a speacial kind of method/function that Python calls by default when it creates/instantiates an object using\n",
    "the definitions found in your class.\n",
    "\n",
    "\"\"\""
   ]
  },
  {
   "cell_type": "markdown",
   "id": "b87d56ed",
   "metadata": {},
   "source": [
    "#### Creating / Instantiating the object from the class and use its attributes"
   ]
  },
  {
   "cell_type": "code",
   "execution_count": 6,
   "id": "2fbdece5",
   "metadata": {},
   "outputs": [
    {
     "name": "stdout",
     "output_type": "stream",
     "text": [
      "10\n"
     ]
    }
   ],
   "source": [
    "rect = Rectangle()\n",
    "print(rect.length)"
   ]
  },
  {
   "cell_type": "code",
   "execution_count": 7,
   "id": "d58c00e5",
   "metadata": {},
   "outputs": [
    {
     "name": "stdout",
     "output_type": "stream",
     "text": [
      "15\n"
     ]
    }
   ],
   "source": [
    "rect = Rectangle()\n",
    "print(rect.breadth)"
   ]
  },
  {
   "cell_type": "code",
   "execution_count": 8,
   "id": "f6a8b51c",
   "metadata": {},
   "outputs": [
    {
     "name": "stdout",
     "output_type": "stream",
     "text": [
      "Length: 10 \n",
      "Breadth: 15 \n"
     ]
    }
   ],
   "source": [
    "rect = Rectangle()\n",
    "print(\"Length: {} \\nBreadth: {} \".format(rect.length,rect.breadth))"
   ]
  },
  {
   "cell_type": "markdown",
   "id": "d8492ae3",
   "metadata": {},
   "source": [
    "#### Parametrised Constructor"
   ]
  },
  {
   "cell_type": "code",
   "execution_count": 9,
   "id": "31ec702d",
   "metadata": {},
   "outputs": [],
   "source": [
    "# parametrised constructor - dynamically assign the attribute values during the object creation"
   ]
  },
  {
   "cell_type": "code",
   "execution_count": 10,
   "id": "58a82b59",
   "metadata": {},
   "outputs": [],
   "source": [
    "class Rectangle:\n",
    "    def __init__(self):\n",
    "        self.length = 10\n",
    "        self.breadth = 15\n",
    "# This is a class with default constructor"
   ]
  },
  {
   "cell_type": "code",
   "execution_count": 11,
   "id": "09559dc1",
   "metadata": {},
   "outputs": [],
   "source": [
    "class Rectangle:\n",
    "    def __init__(self,length,breadth):\n",
    "        self.length = length\n",
    "        self.breadth = breadth\n",
    "# This is a class with parametrised constructor. It took 2 more variables rather than self, breadth and length. By writing like \n",
    "# that, now our class can take length and breadth values as input from the user when she creates an object from the class."
   ]
  },
  {
   "cell_type": "code",
   "execution_count": 12,
   "id": "0b5e8f7f",
   "metadata": {},
   "outputs": [],
   "source": [
    "rect = Rectangle(20,50)"
   ]
  },
  {
   "cell_type": "code",
   "execution_count": 13,
   "id": "b034471f",
   "metadata": {},
   "outputs": [
    {
     "data": {
      "text/plain": [
       "20"
      ]
     },
     "execution_count": 13,
     "metadata": {},
     "output_type": "execute_result"
    }
   ],
   "source": [
    "rect.length"
   ]
  },
  {
   "cell_type": "code",
   "execution_count": 14,
   "id": "aec5c932",
   "metadata": {},
   "outputs": [
    {
     "data": {
      "text/plain": [
       "50"
      ]
     },
     "execution_count": 14,
     "metadata": {},
     "output_type": "execute_result"
    }
   ],
   "source": [
    "rect.breadth"
   ]
  },
  {
   "cell_type": "markdown",
   "id": "06f5a782",
   "metadata": {},
   "source": [
    " ## Class Variables and Instance Variables"
   ]
  },
  {
   "cell_type": "code",
   "execution_count": 15,
   "id": "979bad27",
   "metadata": {},
   "outputs": [],
   "source": [
    "class Circle: # class = keyword, Circle = class name\n",
    "    pi = 3.14 # pi = class variable or constant variable\n",
    "    def __init__(self,radius): # __init__ = constructor function, radius = parameter, attribute and self refers to newly created instance\n",
    "        self.radius = radius # self.radius = instance variable"
   ]
  },
  {
   "cell_type": "code",
   "execution_count": 16,
   "id": "7f970f42",
   "metadata": {},
   "outputs": [],
   "source": [
    "circle_1 = Circle(5)"
   ]
  },
  {
   "cell_type": "code",
   "execution_count": 17,
   "id": "87e001bc",
   "metadata": {},
   "outputs": [
    {
     "data": {
      "text/plain": [
       "3.14"
      ]
     },
     "execution_count": 17,
     "metadata": {},
     "output_type": "execute_result"
    }
   ],
   "source": [
    "circle_1.pi"
   ]
  },
  {
   "cell_type": "code",
   "execution_count": 18,
   "id": "3385dfa7",
   "metadata": {},
   "outputs": [
    {
     "data": {
      "text/plain": [
       "5"
      ]
     },
     "execution_count": 18,
     "metadata": {},
     "output_type": "execute_result"
    }
   ],
   "source": [
    "circle_1.radius"
   ]
  },
  {
   "cell_type": "code",
   "execution_count": 19,
   "id": "0b9ee324",
   "metadata": {},
   "outputs": [
    {
     "name": "stdout",
     "output_type": "stream",
     "text": [
      "Radius: 6 \t Pi: 3.14 \n",
      "Radius: 7 \t Pi: 3.14 \n"
     ]
    }
   ],
   "source": [
    "circle_1 = Circle(6)\n",
    "circle_2 = Circle(7)\n",
    "\n",
    "print(\"Radius: {} \\t Pi: {} \".format(circle_1.radius,circle_1.pi))\n",
    "print(\"Radius: {} \\t Pi: {} \".format(circle_2.radius,circle_2.pi))"
   ]
  },
  {
   "cell_type": "code",
   "execution_count": 20,
   "id": "46610b73",
   "metadata": {},
   "outputs": [],
   "source": [
    "# You can change the class variables' / constant variables' values by accessing them on objects directly."
   ]
  },
  {
   "cell_type": "code",
   "execution_count": 21,
   "id": "1e4ebcd6",
   "metadata": {},
   "outputs": [],
   "source": [
    "circle_3 = Circle(10)"
   ]
  },
  {
   "cell_type": "code",
   "execution_count": 22,
   "id": "3d4cc7a1",
   "metadata": {},
   "outputs": [
    {
     "data": {
      "text/plain": [
       "3.14"
      ]
     },
     "execution_count": 22,
     "metadata": {},
     "output_type": "execute_result"
    }
   ],
   "source": [
    "circle_3.pi"
   ]
  },
  {
   "cell_type": "code",
   "execution_count": 23,
   "id": "e835f337",
   "metadata": {},
   "outputs": [],
   "source": [
    "circle_3.pi = 3.1456"
   ]
  },
  {
   "cell_type": "code",
   "execution_count": 24,
   "id": "00cd1464",
   "metadata": {},
   "outputs": [
    {
     "data": {
      "text/plain": [
       "3.1456"
      ]
     },
     "execution_count": 24,
     "metadata": {},
     "output_type": "execute_result"
    }
   ],
   "source": [
    "circle_3.pi"
   ]
  },
  {
   "cell_type": "code",
   "execution_count": 25,
   "id": "61a24fe1",
   "metadata": {},
   "outputs": [],
   "source": [
    "circle_4 = Circle(11)\n",
    "circle_5 = Circle(12)"
   ]
  },
  {
   "cell_type": "code",
   "execution_count": 26,
   "id": "7e07715d",
   "metadata": {},
   "outputs": [],
   "source": [
    "circle_4.pi = 3.1456\n",
    "circle_5.pi = 3.1"
   ]
  },
  {
   "cell_type": "code",
   "execution_count": 27,
   "id": "dc3e2b0b",
   "metadata": {},
   "outputs": [
    {
     "name": "stdout",
     "output_type": "stream",
     "text": [
      "Radius: 11 \t Pi: 3.1456 \n",
      "Radius: 12 \t Pi: 3.1 \n"
     ]
    }
   ],
   "source": [
    "print(\"Radius: {} \\t Pi: {} \".format(circle_4.radius,circle_4.pi))\n",
    "print(\"Radius: {} \\t Pi: {} \".format(circle_5.radius,circle_5.pi))\n"
   ]
  },
  {
   "cell_type": "markdown",
   "id": "1f611c91",
   "metadata": {},
   "source": [
    "## Adding a method to the class"
   ]
  },
  {
   "cell_type": "code",
   "execution_count": 28,
   "id": "0b741c73",
   "metadata": {},
   "outputs": [],
   "source": [
    "#### calculateArea() : returns the product of length and breadth\n",
    "#### the self parameter value in the function (calculateArea) identifies the association with the instance.\n",
    "#### self must be written in all functions (__init__, others) to identify the association with the instance"
   ]
  },
  {
   "cell_type": "code",
   "execution_count": 29,
   "id": "8d148511",
   "metadata": {},
   "outputs": [],
   "source": [
    "class Rectangle:\n",
    "    def __init__(self,length,breadth):\n",
    "        self.length = length\n",
    "        self.breadth = breadth\n",
    "    \n",
    "    def calculateArea(self):\n",
    "        return self.length * self.breadth"
   ]
  },
  {
   "cell_type": "code",
   "execution_count": 30,
   "id": "b056eaa3",
   "metadata": {},
   "outputs": [],
   "source": [
    "rect_1 = Rectangle(5,6) "
   ]
  },
  {
   "cell_type": "code",
   "execution_count": 31,
   "id": "62a6e2e5",
   "metadata": {},
   "outputs": [
    {
     "data": {
      "text/plain": [
       "5"
      ]
     },
     "execution_count": 31,
     "metadata": {},
     "output_type": "execute_result"
    }
   ],
   "source": [
    "rect_1.length"
   ]
  },
  {
   "cell_type": "code",
   "execution_count": 32,
   "id": "2f079614",
   "metadata": {},
   "outputs": [
    {
     "data": {
      "text/plain": [
       "6"
      ]
     },
     "execution_count": 32,
     "metadata": {},
     "output_type": "execute_result"
    }
   ],
   "source": [
    "rect_1.breadth"
   ]
  },
  {
   "cell_type": "code",
   "execution_count": 33,
   "id": "525c4d00",
   "metadata": {},
   "outputs": [
    {
     "data": {
      "text/plain": [
       "30"
      ]
     },
     "execution_count": 33,
     "metadata": {},
     "output_type": "execute_result"
    }
   ],
   "source": [
    "rect_1.calculateArea()"
   ]
  },
  {
   "cell_type": "code",
   "execution_count": 34,
   "id": "01ff99e4",
   "metadata": {},
   "outputs": [],
   "source": [
    "import math"
   ]
  },
  {
   "cell_type": "code",
   "execution_count": 35,
   "id": "f29b89ec",
   "metadata": {},
   "outputs": [],
   "source": [
    "class Circle:\n",
    "    pi = 3.1456\n",
    "    \n",
    "    def __init__(self,radius):\n",
    "        self.radius = radius\n",
    "        \n",
    "    def calculateArea(self):\n",
    "        return round((self.pi*math.pow(self.radius,2)),2)"
   ]
  },
  {
   "cell_type": "code",
   "execution_count": 36,
   "id": "3571a15d",
   "metadata": {},
   "outputs": [],
   "source": [
    "circle_1 = Circle(1)"
   ]
  },
  {
   "cell_type": "code",
   "execution_count": 37,
   "id": "449121e0",
   "metadata": {},
   "outputs": [
    {
     "data": {
      "text/plain": [
       "1"
      ]
     },
     "execution_count": 37,
     "metadata": {},
     "output_type": "execute_result"
    }
   ],
   "source": [
    "circle_1.radius"
   ]
  },
  {
   "cell_type": "code",
   "execution_count": 38,
   "id": "11a3846d",
   "metadata": {},
   "outputs": [
    {
     "data": {
      "text/plain": [
       "3.1456"
      ]
     },
     "execution_count": 38,
     "metadata": {},
     "output_type": "execute_result"
    }
   ],
   "source": [
    "circle_1.pi"
   ]
  },
  {
   "cell_type": "code",
   "execution_count": 39,
   "id": "092806a6",
   "metadata": {},
   "outputs": [
    {
     "data": {
      "text/plain": [
       "3.15"
      ]
     },
     "execution_count": 39,
     "metadata": {},
     "output_type": "execute_result"
    }
   ],
   "source": [
    "circle_1.calculateArea()"
   ]
  },
  {
   "cell_type": "markdown",
   "id": "40fafa25",
   "metadata": {},
   "source": [
    "# Significance of Self"
   ]
  },
  {
   "cell_type": "markdown",
   "id": "ef240eab",
   "metadata": {},
   "source": [
    "### Our attributes, length and breadth in Rectangle Class, are associated with instance\n",
    "### self makes sure that each instance refers to its own copy of attributes"
   ]
  },
  {
   "cell_type": "code",
   "execution_count": 40,
   "id": "64e120fe",
   "metadata": {},
   "outputs": [],
   "source": [
    "rect_1 = Rectangle(15,8)\n",
    "rect_2 = Rectangle(10,10)"
   ]
  },
  {
   "cell_type": "code",
   "execution_count": 41,
   "id": "bcaf5022",
   "metadata": {},
   "outputs": [
    {
     "name": "stdout",
     "output_type": "stream",
     "text": [
      "Length: 15 \n",
      "Breadth: 8 \n",
      "Area: 120 \n",
      "Length: 10 \n",
      "Breadth: 10 \n",
      "Area: 100 \n"
     ]
    }
   ],
   "source": [
    "print(\"Length: {} \\nBreadth: {} \\nArea: {} \".format(rect_1.length,rect_1.breadth,rect_1.calculateArea()))\n",
    "print(\"Length: {} \\nBreadth: {} \\nArea: {} \".format(rect_2.length,rect_2.breadth,rect_2.calculateArea()))\n"
   ]
  },
  {
   "cell_type": "code",
   "execution_count": 42,
   "id": "3fa0e8f3",
   "metadata": {},
   "outputs": [],
   "source": [
    "class Triangle:\n",
    "    constant = 2\n",
    "    \n",
    "    def __init__(self,side1,side2,base,height):\n",
    "        self.side1 = side1\n",
    "        self.side2 = side2\n",
    "        self.base = base\n",
    "        self.height = height\n",
    "        \n",
    "    def calculatePerimeter(self):\n",
    "        return self.side1 + self.side2 + self.base\n",
    "    \n",
    "    def calculateArea(self):\n",
    "        return (self.base*self.height) / self.constant\n",
    "        \n",
    "        "
   ]
  },
  {
   "cell_type": "code",
   "execution_count": 43,
   "id": "2862e4b7",
   "metadata": {},
   "outputs": [],
   "source": [
    "tri1 = Triangle(3,4,5,6)\n",
    "tri2 = Triangle(7,8,9,10) "
   ]
  },
  {
   "cell_type": "code",
   "execution_count": 44,
   "id": "610e4b20",
   "metadata": {},
   "outputs": [
    {
     "name": "stdout",
     "output_type": "stream",
     "text": [
      "Side1 : 3 \n",
      "Side2 : 4 \n",
      "Base : 5 \n",
      "Height : 6 \n",
      "Perimeter : 12 \n",
      "Area : 15.0 \n",
      "*******************************************************\n",
      "Side1 : 7 \n",
      "Side2 : 8 \n",
      "Base : 9 \n",
      "Height : 10 \n",
      "Perimeter : 24 \n",
      "Area : 45.0 \n"
     ]
    }
   ],
   "source": [
    "print(\"Side1 : {} \\nSide2 : {} \\nBase : {} \\nHeight : {} \\nPerimeter : {} \\nArea : {} \".format(tri1.side1,tri1.side2,tri1.base,tri1.height,tri1.calculatePerimeter(),tri1.calculateArea()))\n",
    "print(\"*******************************************************\")\n",
    "print(\"Side1 : {} \\nSide2 : {} \\nBase : {} \\nHeight : {} \\nPerimeter : {} \\nArea : {} \".format(tri2.side1,tri2.side2,tri2.base,tri2.height,tri2.calculatePerimeter(),tri2.calculateArea()))"
   ]
  },
  {
   "cell_type": "markdown",
   "id": "8e0be5c7",
   "metadata": {},
   "source": [
    "### Other Concepts"
   ]
  },
  {
   "cell_type": "markdown",
   "id": "7d4c0db0",
   "metadata": {},
   "source": [
    "## Inheritance and Overriding"
   ]
  },
  {
   "cell_type": "code",
   "execution_count": 45,
   "id": "6e5b9bf3",
   "metadata": {},
   "outputs": [],
   "source": [
    "class Employee:\n",
    "    def function1(self):\n",
    "        print(\"Hello World\")\n",
    "\n",
    "class Department(Employee):\n",
    "    pass"
   ]
  },
  {
   "cell_type": "code",
   "execution_count": 47,
   "id": "fce7dd4c",
   "metadata": {},
   "outputs": [
    {
     "name": "stdout",
     "output_type": "stream",
     "text": [
      "Hello World\n"
     ]
    }
   ],
   "source": [
    "emp = Employee()\n",
    "emp.function1()"
   ]
  },
  {
   "cell_type": "code",
   "execution_count": 48,
   "id": "eeacea27",
   "metadata": {},
   "outputs": [
    {
     "name": "stdout",
     "output_type": "stream",
     "text": [
      "Hello World\n"
     ]
    }
   ],
   "source": [
    "dep = Department()\n",
    "dep.function1()"
   ]
  },
  {
   "cell_type": "code",
   "execution_count": 49,
   "id": "84b53093",
   "metadata": {},
   "outputs": [
    {
     "data": {
      "text/plain": [
       "\"\\n1-) Department class doesn't have anything but we are still able to use function1() method in Department instance, \\nbecause of the inheritance.\\n\\n2-) Department class took the Employee class as argument and inherited its variables and methods. \\n    Employee is the parent, Deparment is the child class.\\n\\n3-) pass keyword is used as a placeholder in conditions, loops, functions and classes to avoid getting error because of the \\n    empty code in these. When the pass statement is executed, nothing happens, \\n    but you avoid getting an error when empty code is not allowed.\\n    Empty code is not allowed in loops, function definitions, class definitions, or in if statements.\\n\\n\""
      ]
     },
     "execution_count": 49,
     "metadata": {},
     "output_type": "execute_result"
    }
   ],
   "source": [
    " \"\"\"\n",
    " 1-) Department class doesn't have anything but we are still able to use function1() method in Department instance, \n",
    " because of the inheritance.\n",
    " \n",
    " 2-) Department class took the Employee class as argument and inherited all its variables and methods. \n",
    "     Employee is the parent, Deparment is the child class.\n",
    " \n",
    " 3-) pass keyword is used as a placeholder in conditions, loops, functions and classes to avoid getting error because of the \n",
    "     empty code in these. When the pass statement is executed, nothing happens, \n",
    "     but you avoid getting an error when empty code is not allowed.\n",
    "     Empty code is not allowed in loops, function definitions, class definitions, or in if statements.\n",
    " \n",
    " \"\"\"\n"
   ]
  },
  {
   "cell_type": "code",
   "execution_count": 53,
   "id": "2009d29b",
   "metadata": {},
   "outputs": [],
   "source": [
    "class Shape:\n",
    "    def set_color(self,color):\n",
    "        self.color = color\n",
    "    \n",
    "    def calculate_area(self):\n",
    "        pass\n",
    "    \n",
    "    def color_the_shape(self):\n",
    "        color_price= {\"red\" : 10 , \"blue\" : 15 , \"green\" : 5 }\n",
    "        return self.calculate_area() * color_price[self.color]"
   ]
  },
  {
   "cell_type": "code",
   "execution_count": 54,
   "id": "d918b269",
   "metadata": {},
   "outputs": [],
   "source": [
    "class Circle(Shape):\n",
    "    pi = 3.14\n",
    "    \n",
    "    def __init__(self,radius):\n",
    "        self.radius = radius\n",
    "    \n",
    "    def calculate_area(self):\n",
    "        return Circle.pi * self.radius * self.radius"
   ]
  },
  {
   "cell_type": "code",
   "execution_count": 55,
   "id": "84d903d0",
   "metadata": {},
   "outputs": [
    {
     "name": "stdout",
     "output_type": "stream",
     "text": [
      "Circle with radius =  5 when colored with red costs $  785.0\n"
     ]
    }
   ],
   "source": [
    "c = Circle(5)\n",
    "# Accessing the set_color from the parent class, because of the inheritance\n",
    "c.set_color(\"red\")\n",
    "print(\"Circle with radius = \", c.radius, \"when colored with\", c.color, \"costs $ \", c.color_the_shape())"
   ]
  },
  {
   "cell_type": "code",
   "execution_count": 56,
   "id": "6bc43604",
   "metadata": {},
   "outputs": [
    {
     "data": {
      "text/plain": [
       "78.5"
      ]
     },
     "execution_count": 56,
     "metadata": {},
     "output_type": "execute_result"
    }
   ],
   "source": [
    "c.calculate_area()"
   ]
  },
  {
   "cell_type": "code",
   "execution_count": 57,
   "id": "0e0b8fb5",
   "metadata": {},
   "outputs": [
    {
     "data": {
      "text/plain": [
       "\"\\n\\nIn this example, Circle class has inherited the Shape Class and all its attributes and methods. \\nBut since there are 2 calculate_area() methods; Circle class has preferred using its own \\ncalculate_area() method, not Shape's. This is called method overriding. \\nThe calculate_area() method of Shape has been overrided.\\n\\nIn these examples, Shape is the parent class, Circle and Rectangle are the child classes. Because they inherit the Shape class'\\nattributes and methods.\\n\\n\""
      ]
     },
     "execution_count": 57,
     "metadata": {},
     "output_type": "execute_result"
    }
   ],
   "source": [
    "\"\"\"\n",
    "\n",
    "In this example, Circle class has inherited the Shape Class and all its attributes and methods. Any instance from the Circle\n",
    "Class now can use Shape class' methods and attributes \n",
    "\n",
    "But since there are 2 calculate_area() methods; Circle class has preferred using its own \n",
    "calculate_area() method, not Shape's. This is called method overriding. \n",
    "The calculate_area() method of Shape has been overrided.\n",
    "\n",
    "In these examples, Shape is the parent class, Circle and Rectangle are the child classes. Because they inherit the Shape class'\n",
    "attributes and methods and they can use these attributes and methods too.\n",
    "\n",
    "We can override the python's default methods by using this way, too.\n",
    "\n",
    "\"\"\""
   ]
  },
  {
   "cell_type": "code",
   "execution_count": 58,
   "id": "ad2c7baf",
   "metadata": {},
   "outputs": [],
   "source": [
    "class Rectangle(Shape):\n",
    "    \n",
    "    def __init__(self,length,breadth):\n",
    "        self.length = length\n",
    "        self.breadth = breadth\n",
    "    \n",
    "    # overriding the user defined method of Shape\n",
    "    def calculate_area(self):\n",
    "        return self.length * self.breadth\n",
    "    \n",
    "    # overriding the python's default method. __str__() is the default method of Python.\n",
    "    def __str__(self):\n",
    "        return \"area of rectangle = \" + str(self.calculate_area())"
   ]
  },
  {
   "cell_type": "code",
   "execution_count": 59,
   "id": "01d7088d",
   "metadata": {},
   "outputs": [
    {
     "name": "stdout",
     "output_type": "stream",
     "text": [
      "Rectangle with length = 5 , breadth = 10 , colored with blue , the area of it 50 ,  costs $ 750 .\n"
     ]
    }
   ],
   "source": [
    "r = Rectangle(5,10)\n",
    "r.set_color(\"blue\")\n",
    "print(\"Rectangle with length = {} , breadth = {} , colored with {} , the area of it {} ,  costs $ {} .\".format(r.length,r.breadth,r.color,r.calculate_area(),r.color_the_shape()))"
   ]
  },
  {
   "cell_type": "code",
   "execution_count": 60,
   "id": "231b0dc4",
   "metadata": {},
   "outputs": [
    {
     "data": {
      "text/plain": [
       "78.5"
      ]
     },
     "execution_count": 60,
     "metadata": {},
     "output_type": "execute_result"
    }
   ],
   "source": [
    "c.calculate_area()"
   ]
  },
  {
   "cell_type": "code",
   "execution_count": 61,
   "id": "71c79b00",
   "metadata": {},
   "outputs": [],
   "source": [
    "# Creating Classes, Objects, __init__() method as default and parametrised constructor, class variables (constant variables) , \n",
    "# Creating methods, pass keyword, self, Inheritance Concept, Parent and Child classes and Overriding methods in Parent Classes."
   ]
  },
  {
   "cell_type": "code",
   "execution_count": null,
   "id": "0bfe834b",
   "metadata": {},
   "outputs": [],
   "source": []
  }
 ],
 "metadata": {
  "kernelspec": {
   "display_name": "Python 3 (ipykernel)",
   "language": "python",
   "name": "python3"
  },
  "language_info": {
   "codemirror_mode": {
    "name": "ipython",
    "version": 3
   },
   "file_extension": ".py",
   "mimetype": "text/x-python",
   "name": "python",
   "nbconvert_exporter": "python",
   "pygments_lexer": "ipython3",
   "version": "3.11.5"
  }
 },
 "nbformat": 4,
 "nbformat_minor": 5
}
