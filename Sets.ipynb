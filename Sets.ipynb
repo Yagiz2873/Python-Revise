{
 "cells": [
  {
   "cell_type": "code",
   "execution_count": 1,
   "id": "7cbf3310",
   "metadata": {},
   "outputs": [],
   "source": [
    "# This study file was prepared to study and revise Python based on \n",
    "# what I've learnt from Satyajit Patnik, owner of the Data Analytics / Data Science Masters courses. "
   ]
  },
  {
   "cell_type": "code",
   "execution_count": 37,
   "id": "d3f10e75",
   "metadata": {},
   "outputs": [],
   "source": [
    "# Sets are unordered collection of items, storing mixed data\n",
    "# Items of a set can not be duplicated, they can only contain unique values, sets don't allow duplicates\n",
    "# Sets are enclosed within curly brackets and elements are written as comma-seperated\n",
    "# Colors = {'red','green','yellow'}\n",
    "# Checking if a value is present in a set is very quick and can be done using the in keyword\n",
    "# set = set({})\n",
    "# set = set()"
   ]
  },
  {
   "cell_type": "code",
   "execution_count": 3,
   "id": "af1da839",
   "metadata": {},
   "outputs": [],
   "source": [
    "list1 = [1,2,3,4,5,6,7,2,2,2,1,5]"
   ]
  },
  {
   "cell_type": "code",
   "execution_count": 6,
   "id": "7c28e272",
   "metadata": {},
   "outputs": [
    {
     "name": "stdout",
     "output_type": "stream",
     "text": [
      "{1, 2, 3, 4, 5, 6, 7}\n",
      "<class 'set'>\n",
      "12\n",
      "7\n"
     ]
    }
   ],
   "source": [
    "set1 = set(list1)\n",
    "print(set1)\n",
    "print(type(set1))\n",
    "print(len(list1))\n",
    "print(len(set1))"
   ]
  },
  {
   "cell_type": "code",
   "execution_count": 7,
   "id": "06641b0c",
   "metadata": {},
   "outputs": [],
   "source": [
    "list2 = ['A','B','C','D','E','A','B','C','A','B','C','F']"
   ]
  },
  {
   "cell_type": "code",
   "execution_count": 8,
   "id": "ca35a7c2",
   "metadata": {},
   "outputs": [
    {
     "name": "stdout",
     "output_type": "stream",
     "text": [
      "{'B', 'F', 'A', 'D', 'C', 'E'}\n",
      "<class 'set'>\n",
      "12\n",
      "6\n"
     ]
    }
   ],
   "source": [
    "set2 = set(list2)\n",
    "print(set2)\n",
    "print(type(set2))\n",
    "print(len(list2))\n",
    "print(len(set2))"
   ]
  },
  {
   "cell_type": "code",
   "execution_count": 10,
   "id": "e2d3710d",
   "metadata": {},
   "outputs": [
    {
     "name": "stdout",
     "output_type": "stream",
     "text": [
      "<class 'set'>\n"
     ]
    }
   ],
   "source": [
    "set3 = set()\n",
    "print(type(set3))"
   ]
  },
  {
   "cell_type": "code",
   "execution_count": 11,
   "id": "a166c8dc",
   "metadata": {},
   "outputs": [
    {
     "name": "stdout",
     "output_type": "stream",
     "text": [
      "<class 'set'>\n"
     ]
    }
   ],
   "source": [
    "set3 = set({})\n",
    "print(type(set3))"
   ]
  },
  {
   "cell_type": "code",
   "execution_count": 12,
   "id": "e204eb53",
   "metadata": {},
   "outputs": [
    {
     "name": "stdout",
     "output_type": "stream",
     "text": [
      "{'B', 'F', 'A', 'D', 'C', 'E'}\n"
     ]
    }
   ],
   "source": [
    "print(set2)"
   ]
  },
  {
   "cell_type": "code",
   "execution_count": 13,
   "id": "62a90e65",
   "metadata": {},
   "outputs": [
    {
     "name": "stdout",
     "output_type": "stream",
     "text": [
      "{1, 2, 3, 4, 5, 6, 7}\n"
     ]
    }
   ],
   "source": [
    "print(set1)"
   ]
  },
  {
   "cell_type": "code",
   "execution_count": 14,
   "id": "d473a66e",
   "metadata": {},
   "outputs": [
    {
     "data": {
      "text/plain": [
       "True"
      ]
     },
     "execution_count": 14,
     "metadata": {},
     "output_type": "execute_result"
    }
   ],
   "source": [
    "1 in set1"
   ]
  },
  {
   "cell_type": "code",
   "execution_count": 15,
   "id": "e0597390",
   "metadata": {},
   "outputs": [
    {
     "data": {
      "text/plain": [
       "False"
      ]
     },
     "execution_count": 15,
     "metadata": {},
     "output_type": "execute_result"
    }
   ],
   "source": [
    "8 in set1"
   ]
  },
  {
   "cell_type": "markdown",
   "id": "58c88fa0",
   "metadata": {},
   "source": [
    "#### Adding and Removing the elements"
   ]
  },
  {
   "cell_type": "code",
   "execution_count": 20,
   "id": "8c2b3bc1",
   "metadata": {},
   "outputs": [],
   "source": [
    "# .add() and .remove() methods "
   ]
  },
  {
   "cell_type": "code",
   "execution_count": 16,
   "id": "76b2fa30",
   "metadata": {},
   "outputs": [],
   "source": [
    "set_2 = {1,2,3,4,5}"
   ]
  },
  {
   "cell_type": "code",
   "execution_count": 17,
   "id": "cf1ebecd",
   "metadata": {},
   "outputs": [
    {
     "name": "stdout",
     "output_type": "stream",
     "text": [
      "5\n",
      "{1, 2, 3, 4, 5, 'India'}\n",
      "6\n"
     ]
    }
   ],
   "source": [
    "print(len(set_2))\n",
    "\n",
    "set_2.add('India')\n",
    "\n",
    "print(set_2)\n",
    "\n",
    "print(len(set_2))\n"
   ]
  },
  {
   "cell_type": "code",
   "execution_count": 18,
   "id": "94b46e2e",
   "metadata": {},
   "outputs": [
    {
     "data": {
      "text/plain": [
       "{1, 2, 3, 4, 5, 'India'}"
      ]
     },
     "execution_count": 18,
     "metadata": {},
     "output_type": "execute_result"
    }
   ],
   "source": [
    "set_2"
   ]
  },
  {
   "cell_type": "code",
   "execution_count": 19,
   "id": "35db6b5c",
   "metadata": {},
   "outputs": [
    {
     "name": "stdout",
     "output_type": "stream",
     "text": [
      "6\n",
      "{1, 2, 3, 4, 5}\n",
      "5\n"
     ]
    }
   ],
   "source": [
    "print(len(set_2))\n",
    "\n",
    "set_2.remove('India')\n",
    "\n",
    "print(set_2)\n",
    "\n",
    "print(len(set_2))"
   ]
  },
  {
   "cell_type": "markdown",
   "id": "591beb62",
   "metadata": {},
   "source": [
    "#### Set Operations"
   ]
  },
  {
   "cell_type": "code",
   "execution_count": 21,
   "id": "63c7330c",
   "metadata": {},
   "outputs": [],
   "source": [
    "# ( .union() , | ) , ( .intersection() , & ) , (.difference() , - ), ( ^ ---> Symmetric difference )"
   ]
  },
  {
   "cell_type": "code",
   "execution_count": 22,
   "id": "62693afe",
   "metadata": {},
   "outputs": [],
   "source": [
    "A = {0,2,4,6,8}\n",
    "B = {1,2,3,4,5}"
   ]
  },
  {
   "cell_type": "code",
   "execution_count": 23,
   "id": "eb54c8e6",
   "metadata": {},
   "outputs": [
    {
     "name": "stdout",
     "output_type": "stream",
     "text": [
      "{0, 1, 2, 3, 4, 5, 6, 8}\n",
      "{0, 1, 2, 3, 4, 5, 6, 8}\n",
      "8\n"
     ]
    }
   ],
   "source": [
    "print(A | B)\n",
    "print(A.union(B))\n",
    "print(len(A.union(B)))"
   ]
  },
  {
   "cell_type": "code",
   "execution_count": 25,
   "id": "acf42621",
   "metadata": {},
   "outputs": [
    {
     "name": "stdout",
     "output_type": "stream",
     "text": [
      "{2, 4}\n",
      "{2, 4}\n",
      "2\n"
     ]
    }
   ],
   "source": [
    "print(A & B)\n",
    "print(A.intersection(B))\n",
    "print(len(A.intersection(B)))"
   ]
  },
  {
   "cell_type": "code",
   "execution_count": 26,
   "id": "3b29cb3a",
   "metadata": {},
   "outputs": [
    {
     "name": "stdout",
     "output_type": "stream",
     "text": [
      "{0, 8, 6}\n",
      "{0, 8, 6}\n",
      "3\n"
     ]
    }
   ],
   "source": [
    "print(A-B)\n",
    "print(A.difference(B))\n",
    "print(len(A.difference(B)))"
   ]
  },
  {
   "cell_type": "code",
   "execution_count": 27,
   "id": "c072950a",
   "metadata": {},
   "outputs": [
    {
     "name": "stdout",
     "output_type": "stream",
     "text": [
      "{0, 1, 3, 5, 6, 8}\n",
      "6\n"
     ]
    }
   ],
   "source": [
    "print(A^B)\n",
    "print(len(A^B)) # ^ = Symmetric difference --> All elements - common elements, 2 and 4 were common in both sets"
   ]
  },
  {
   "cell_type": "markdown",
   "id": "76168237",
   "metadata": {},
   "source": [
    "#### Why do we use sets?"
   ]
  },
  {
   "cell_type": "code",
   "execution_count": null,
   "id": "f97c0c96",
   "metadata": {},
   "outputs": [],
   "source": [
    "# In order to find distinct values in a list or something, you can use sets"
   ]
  },
  {
   "cell_type": "code",
   "execution_count": 40,
   "id": "7ee601b3",
   "metadata": {},
   "outputs": [],
   "source": [
    "A = [5,1,3,4,4,5,6,7]\n",
    "B = [3,3,5,5,1,7,2]"
   ]
  },
  {
   "cell_type": "code",
   "execution_count": 43,
   "id": "b57f4ac5",
   "metadata": {},
   "outputs": [
    {
     "name": "stdout",
     "output_type": "stream",
     "text": [
      "{1, 3, 4, 5, 6, 7}\n",
      "{1, 2, 3, 5, 7}\n"
     ]
    }
   ],
   "source": [
    "set_A = set(A)\n",
    "set_B = set(B)\n",
    "print(set_A)\n",
    "print(set_B)"
   ]
  },
  {
   "cell_type": "code",
   "execution_count": 46,
   "id": "eccdc1d8",
   "metadata": {},
   "outputs": [
    {
     "name": "stdout",
     "output_type": "stream",
     "text": [
      "{1, 3, 5, 7}\n",
      "[1, 3, 5, 7]\n"
     ]
    }
   ],
   "source": [
    "common_elements = set_A & set_B\n",
    "print(common_elements)\n",
    "print(sorted(common_elements))"
   ]
  },
  {
   "cell_type": "code",
   "execution_count": 47,
   "id": "6f271b6e",
   "metadata": {},
   "outputs": [
    {
     "name": "stdout",
     "output_type": "stream",
     "text": [
      "Help on built-in function sorted in module builtins:\n",
      "\n",
      "sorted(iterable, /, *, key=None, reverse=False)\n",
      "    Return a new list containing all items from the iterable in ascending order.\n",
      "    \n",
      "    A custom key function can be supplied to customize the sort order, and the\n",
      "    reverse flag can be set to request the result in descending order.\n",
      "\n"
     ]
    }
   ],
   "source": [
    "help(sorted) "
   ]
  },
  {
   "cell_type": "code",
   "execution_count": null,
   "id": "9adb117f",
   "metadata": {},
   "outputs": [],
   "source": [
    "       "
   ]
  }
 ],
 "metadata": {
  "kernelspec": {
   "display_name": "Python 3 (ipykernel)",
   "language": "python",
   "name": "python3"
  },
  "language_info": {
   "codemirror_mode": {
    "name": "ipython",
    "version": 3
   },
   "file_extension": ".py",
   "mimetype": "text/x-python",
   "name": "python",
   "nbconvert_exporter": "python",
   "pygments_lexer": "ipython3",
   "version": "3.11.5"
  }
 },
 "nbformat": 4,
 "nbformat_minor": 5
}
