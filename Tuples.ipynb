{
 "cells": [
  {
   "cell_type": "code",
   "execution_count": 1,
   "id": "4adb7e72",
   "metadata": {},
   "outputs": [],
   "source": [
    "# This study file was prepared to study and revise Python based on \n",
    "# what I've learnt from Satyajit Patnik, owner of the Data Analytics / Data Science Masters courses.   "
   ]
  },
  {
   "cell_type": "code",
   "execution_count": 2,
   "id": "5754ee04",
   "metadata": {},
   "outputs": [],
   "source": [
    "# Tuples are ordered sequence of mixed data types\n",
    "# Tuples are written in comma seperated elements within parenthesis"
   ]
  },
  {
   "cell_type": "code",
   "execution_count": 3,
   "id": "7e7098a6",
   "metadata": {},
   "outputs": [],
   "source": [
    "t1 = (1,2,3,4)"
   ]
  },
  {
   "cell_type": "code",
   "execution_count": 4,
   "id": "6cb751b5",
   "metadata": {},
   "outputs": [
    {
     "name": "stdout",
     "output_type": "stream",
     "text": [
      "<class 'tuple'>\n",
      "4\n"
     ]
    }
   ],
   "source": [
    "print(type(t1))\n",
    "print(len(t1))"
   ]
  },
  {
   "cell_type": "code",
   "execution_count": 5,
   "id": "4327f4ae",
   "metadata": {},
   "outputs": [],
   "source": [
    "t2 = 1,2,3,4"
   ]
  },
  {
   "cell_type": "code",
   "execution_count": 7,
   "id": "abcb8df5",
   "metadata": {},
   "outputs": [
    {
     "name": "stdout",
     "output_type": "stream",
     "text": [
      "<class 'tuple'>\n",
      "4\n"
     ]
    }
   ],
   "source": [
    "print(type(t2))\n",
    "print(len(t2))"
   ]
  },
  {
   "cell_type": "code",
   "execution_count": 8,
   "id": "fffa7bcc",
   "metadata": {},
   "outputs": [],
   "source": [
    "l1 = [1,2,3,4]"
   ]
  },
  {
   "cell_type": "code",
   "execution_count": 9,
   "id": "62df24ee",
   "metadata": {},
   "outputs": [
    {
     "name": "stdout",
     "output_type": "stream",
     "text": [
      "<class 'list'>\n",
      "4\n"
     ]
    }
   ],
   "source": [
    "print(type(l1))\n",
    "print(len(l1))"
   ]
  },
  {
   "cell_type": "code",
   "execution_count": 10,
   "id": "cbd0d7b9",
   "metadata": {},
   "outputs": [],
   "source": [
    "t3 = (\"hello\",5,5.5)"
   ]
  },
  {
   "cell_type": "code",
   "execution_count": 11,
   "id": "1fe4056c",
   "metadata": {},
   "outputs": [
    {
     "name": "stdout",
     "output_type": "stream",
     "text": [
      "<class 'tuple'>\n",
      "3\n"
     ]
    }
   ],
   "source": [
    "print(type(t3))\n",
    "print(len(t3))"
   ]
  },
  {
   "cell_type": "code",
   "execution_count": 12,
   "id": "5e74684a",
   "metadata": {},
   "outputs": [],
   "source": [
    "t4 = (\"hello\", 5, 5.5, (1,2,3)) #nested tuples"
   ]
  },
  {
   "cell_type": "code",
   "execution_count": 13,
   "id": "0735da71",
   "metadata": {},
   "outputs": [
    {
     "name": "stdout",
     "output_type": "stream",
     "text": [
      "<class 'tuple'>\n",
      "4\n"
     ]
    }
   ],
   "source": [
    "print(type(t4))\n",
    "print(len(t4))"
   ]
  },
  {
   "cell_type": "code",
   "execution_count": 14,
   "id": "3c5c517b",
   "metadata": {},
   "outputs": [],
   "source": [
    "t5 = (\"hello\", 5, 5.5, [1,2,3,4,5,6])"
   ]
  },
  {
   "cell_type": "code",
   "execution_count": 15,
   "id": "44bd3fff",
   "metadata": {},
   "outputs": [
    {
     "name": "stdout",
     "output_type": "stream",
     "text": [
      "<class 'tuple'>\n",
      "4\n"
     ]
    }
   ],
   "source": [
    "print(type(t5))\n",
    "print(len(t5))"
   ]
  },
  {
   "cell_type": "code",
   "execution_count": 16,
   "id": "59b69ab6",
   "metadata": {},
   "outputs": [],
   "source": [
    "# Indexing and Slicing"
   ]
  },
  {
   "cell_type": "code",
   "execution_count": 17,
   "id": "a75ff799",
   "metadata": {},
   "outputs": [
    {
     "data": {
      "text/plain": [
       "('hello', 5, 5.5, [1, 2, 3, 4, 5, 6])"
      ]
     },
     "execution_count": 17,
     "metadata": {},
     "output_type": "execute_result"
    }
   ],
   "source": [
    "t5"
   ]
  },
  {
   "cell_type": "code",
   "execution_count": 18,
   "id": "57e866c3",
   "metadata": {},
   "outputs": [
    {
     "data": {
      "text/plain": [
       "[1, 2, 3, 4, 5, 6]"
      ]
     },
     "execution_count": 18,
     "metadata": {},
     "output_type": "execute_result"
    }
   ],
   "source": [
    "t5[3]"
   ]
  },
  {
   "cell_type": "code",
   "execution_count": 19,
   "id": "7d43a94a",
   "metadata": {},
   "outputs": [
    {
     "data": {
      "text/plain": [
       "list"
      ]
     },
     "execution_count": 19,
     "metadata": {},
     "output_type": "execute_result"
    }
   ],
   "source": [
    "type(t5[3])"
   ]
  },
  {
   "cell_type": "code",
   "execution_count": 20,
   "id": "adffb3aa",
   "metadata": {},
   "outputs": [],
   "source": [
    "var = t5[3]"
   ]
  },
  {
   "cell_type": "code",
   "execution_count": 21,
   "id": "f3a4bd0c",
   "metadata": {},
   "outputs": [
    {
     "name": "stdout",
     "output_type": "stream",
     "text": [
      "[1, 2, 3, 4, 5, 6]\n",
      "<class 'list'>\n",
      "6\n"
     ]
    }
   ],
   "source": [
    "print(var)\n",
    "print(type(var))\n",
    "print(len(var))"
   ]
  },
  {
   "cell_type": "code",
   "execution_count": 22,
   "id": "40018e08",
   "metadata": {},
   "outputs": [
    {
     "data": {
      "text/plain": [
       "[3, 4]"
      ]
     },
     "execution_count": 22,
     "metadata": {},
     "output_type": "execute_result"
    }
   ],
   "source": [
    "var[2:4]"
   ]
  },
  {
   "cell_type": "code",
   "execution_count": 23,
   "id": "05446109",
   "metadata": {},
   "outputs": [],
   "source": [
    "# Tuples can be defined in various ways."
   ]
  },
  {
   "cell_type": "code",
   "execution_count": 28,
   "id": "8581d3fa",
   "metadata": {},
   "outputs": [
    {
     "name": "stdout",
     "output_type": "stream",
     "text": [
      "<class 'tuple'>\n",
      "5\n",
      "(1, 2, 3, 4, 5)\n"
     ]
    }
   ],
   "source": [
    "t1 = (1,2,3,4,5)\n",
    "print(type(t1))\n",
    "print(len(t1))\n",
    "print(t1)"
   ]
  },
  {
   "cell_type": "code",
   "execution_count": 29,
   "id": "1fcfd993",
   "metadata": {},
   "outputs": [
    {
     "name": "stdout",
     "output_type": "stream",
     "text": [
      "<class 'tuple'>\n",
      "<class 'float'>\n",
      "(1.8,)\n",
      "1.8\n"
     ]
    }
   ],
   "source": [
    "t2 = 1.8,\n",
    "t3 = 1.8\n",
    "print(type(t2))\n",
    "print(type(t3))\n",
    "print(t2)\n",
    "print(t3)"
   ]
  },
  {
   "cell_type": "code",
   "execution_count": 30,
   "id": "dbb239cc",
   "metadata": {},
   "outputs": [
    {
     "name": "stdout",
     "output_type": "stream",
     "text": [
      "<class 'tuple'>\n",
      "<class 'int'>\n",
      "(5,)\n",
      "5\n"
     ]
    }
   ],
   "source": [
    "t4 = 5,\n",
    "t5 = 5\n",
    "print(type(t4))\n",
    "print(type(t5))\n",
    "print(t4)\n",
    "print(t5)"
   ]
  },
  {
   "cell_type": "code",
   "execution_count": 31,
   "id": "fe749b00",
   "metadata": {},
   "outputs": [
    {
     "name": "stdout",
     "output_type": "stream",
     "text": [
      "<class 'tuple'>\n",
      "(2,)\n"
     ]
    }
   ],
   "source": [
    "t6 = (2,)\n",
    "print(type(t6))\n",
    "print(t6)"
   ]
  },
  {
   "cell_type": "code",
   "execution_count": 33,
   "id": "6b8954b2",
   "metadata": {},
   "outputs": [
    {
     "name": "stdout",
     "output_type": "stream",
     "text": [
      "3\n",
      "4\n",
      "<class 'int'>\n",
      "<class 'int'>\n"
     ]
    }
   ],
   "source": [
    "t7 = 3\n",
    "t8 = (4)\n",
    "print(t7)\n",
    "print(t8)\n",
    "print(type(t7))\n",
    "print(type(t8))"
   ]
  },
  {
   "cell_type": "code",
   "execution_count": 37,
   "id": "f7d87ca9",
   "metadata": {},
   "outputs": [
    {
     "name": "stdout",
     "output_type": "stream",
     "text": [
      "<class 'tuple'>\n",
      "(2, 3, 4, 5)\n"
     ]
    }
   ],
   "source": [
    "t9 = tuple((2,3,4,5))\n",
    "print(type(t9))\n",
    "print(t9) "
   ]
  },
  {
   "cell_type": "code",
   "execution_count": 38,
   "id": "b628a62d",
   "metadata": {},
   "outputs": [],
   "source": [
    "# Indexing in Tuple"
   ]
  },
  {
   "cell_type": "code",
   "execution_count": 43,
   "id": "f77fb299",
   "metadata": {},
   "outputs": [],
   "source": [
    "t1 = (\"Mumbai\",10,\"Python\",100,\"Delhi\",1000)"
   ]
  },
  {
   "cell_type": "code",
   "execution_count": 46,
   "id": "1ec3945a",
   "metadata": {},
   "outputs": [
    {
     "name": "stdout",
     "output_type": "stream",
     "text": [
      "('Mumbai', 10)\n",
      "('Python', 100)\n",
      "('Delhi', 1000)\n",
      "('Delhi', 1000)\n",
      "('Delhi', 1000)\n",
      "('Mumbai', 10, 'Python')\n",
      "(100, 'Delhi', 1000)\n",
      "(100, 'Delhi', 1000)\n",
      "(100, 'Delhi', 1000)\n"
     ]
    }
   ],
   "source": [
    "print(t1[0:2])\n",
    "print(t1[2:4])\n",
    "print(t1[4:6])\n",
    "print(t1[4:])\n",
    "print(t1[-2:])\n",
    "print(t1[0:3])\n",
    "print(t1[3:6])\n",
    "print(t1[3:])\n",
    "print(t1[-3:])\n",
    "\n",
    "\n",
    "\n"
   ]
  },
  {
   "cell_type": "code",
   "execution_count": 47,
   "id": "ebdcd867",
   "metadata": {},
   "outputs": [
    {
     "data": {
      "text/plain": [
       "6"
      ]
     },
     "execution_count": 47,
     "metadata": {},
     "output_type": "execute_result"
    }
   ],
   "source": [
    "len(t1)"
   ]
  },
  {
   "cell_type": "code",
   "execution_count": 48,
   "id": "ad37176c",
   "metadata": {},
   "outputs": [],
   "source": [
    "# Concatenation in Tuples (Just like the lists)"
   ]
  },
  {
   "cell_type": "code",
   "execution_count": 49,
   "id": "ccdc8f27",
   "metadata": {},
   "outputs": [
    {
     "name": "stdout",
     "output_type": "stream",
     "text": [
      "('Welcome', 'to', \"today's\", 'class', 'on', 'Python')\n"
     ]
    }
   ],
   "source": [
    "tuple1 = (\"Welcome\", \"to\" ,\"today's\")\n",
    "tuple2 = (\"class\",\"on\",\"Python\")\n",
    "tuple3 = tuple1 + tuple2\n",
    "print(tuple3)"
   ]
  },
  {
   "cell_type": "code",
   "execution_count": 50,
   "id": "1c6c0047",
   "metadata": {},
   "outputs": [],
   "source": [
    "# Tuple methods"
   ]
  },
  {
   "cell_type": "code",
   "execution_count": 51,
   "id": "02a6171c",
   "metadata": {},
   "outputs": [],
   "source": [
    "# min, max and sum"
   ]
  },
  {
   "cell_type": "code",
   "execution_count": 53,
   "id": "af46a308",
   "metadata": {},
   "outputs": [
    {
     "name": "stdout",
     "output_type": "stream",
     "text": [
      "1\n",
      "5\n",
      "15\n"
     ]
    }
   ],
   "source": [
    "t1 = (1,2,3,4,5)\n",
    "\n",
    "print(min(t1))\n",
    "print(max(t1))\n",
    "print(sum(t1))\n"
   ]
  },
  {
   "cell_type": "code",
   "execution_count": 54,
   "id": "06cd8d5f",
   "metadata": {},
   "outputs": [],
   "source": [
    "l1 = [2.3,3,8,5,6,4.7]"
   ]
  },
  {
   "cell_type": "code",
   "execution_count": 55,
   "id": "9b59d191",
   "metadata": {},
   "outputs": [
    {
     "name": "stdout",
     "output_type": "stream",
     "text": [
      "2.3\n",
      "8\n",
      "29.0\n"
     ]
    }
   ],
   "source": [
    "print(min(l1))\n",
    "print(max(l1))\n",
    "print(sum(l1))"
   ]
  },
  {
   "cell_type": "code",
   "execution_count": null,
   "id": "f072c509",
   "metadata": {},
   "outputs": [],
   "source": []
  },
  {
   "cell_type": "code",
   "execution_count": null,
   "id": "54e5d0a1",
   "metadata": {},
   "outputs": [],
   "source": []
  },
  {
   "cell_type": "code",
   "execution_count": 56,
   "id": "6a3ed119",
   "metadata": {},
   "outputs": [],
   "source": [
    "tuple1 = (1,2,3,4,\"hello\",\"world\",(1,2,3))"
   ]
  },
  {
   "cell_type": "code",
   "execution_count": 57,
   "id": "4a6830c4",
   "metadata": {},
   "outputs": [
    {
     "name": "stdout",
     "output_type": "stream",
     "text": [
      "(1, 2, 3, 4, 'hello', 'world', (1, 2, 3))\n",
      "<class 'tuple'>\n",
      "7\n"
     ]
    }
   ],
   "source": [
    "print(tuple1)\n",
    "print(type(tuple1))\n",
    "print(len(tuple1))"
   ]
  },
  {
   "cell_type": "code",
   "execution_count": 58,
   "id": "985e1f15",
   "metadata": {},
   "outputs": [
    {
     "data": {
      "text/plain": [
       "2"
      ]
     },
     "execution_count": 58,
     "metadata": {},
     "output_type": "execute_result"
    }
   ],
   "source": [
    "tuple1[6][1]"
   ]
  },
  {
   "cell_type": "code",
   "execution_count": 59,
   "id": "79cd6b5a",
   "metadata": {},
   "outputs": [
    {
     "data": {
      "text/plain": [
       "2"
      ]
     },
     "execution_count": 59,
     "metadata": {},
     "output_type": "execute_result"
    }
   ],
   "source": [
    "tuple1[6][-2]"
   ]
  },
  {
   "cell_type": "code",
   "execution_count": 61,
   "id": "76aa5913",
   "metadata": {},
   "outputs": [
    {
     "data": {
      "text/plain": [
       "2"
      ]
     },
     "execution_count": 61,
     "metadata": {},
     "output_type": "execute_result"
    }
   ],
   "source": [
    "tuple1[-1][1]"
   ]
  },
  {
   "cell_type": "code",
   "execution_count": 62,
   "id": "6c5ef6d0",
   "metadata": {},
   "outputs": [
    {
     "data": {
      "text/plain": [
       "2"
      ]
     },
     "execution_count": 62,
     "metadata": {},
     "output_type": "execute_result"
    }
   ],
   "source": [
    "tuple1[-1][-2]"
   ]
  },
  {
   "cell_type": "code",
   "execution_count": null,
   "id": "1df22b53",
   "metadata": {},
   "outputs": [],
   "source": []
  },
  {
   "cell_type": "code",
   "execution_count": null,
   "id": "dcfdc4b1",
   "metadata": {},
   "outputs": [],
   "source": []
  },
  {
   "cell_type": "code",
   "execution_count": 63,
   "id": "a954b313",
   "metadata": {},
   "outputs": [],
   "source": [
    "#Immutability"
   ]
  },
  {
   "cell_type": "code",
   "execution_count": 64,
   "id": "44362e36",
   "metadata": {},
   "outputs": [
    {
     "data": {
      "text/plain": [
       "'Yağız'"
      ]
     },
     "execution_count": 64,
     "metadata": {},
     "output_type": "execute_result"
    }
   ],
   "source": [
    "t1 = (\"Hello\",\"Yağız\")\n",
    "t1[1]"
   ]
  },
  {
   "cell_type": "code",
   "execution_count": 65,
   "id": "6d0ac474",
   "metadata": {},
   "outputs": [
    {
     "ename": "TypeError",
     "evalue": "'tuple' object does not support item assignment",
     "output_type": "error",
     "traceback": [
      "\u001b[1;31m---------------------------------------------------------------------------\u001b[0m",
      "\u001b[1;31mTypeError\u001b[0m                                 Traceback (most recent call last)",
      "Cell \u001b[1;32mIn[65], line 1\u001b[0m\n\u001b[1;32m----> 1\u001b[0m t1[\u001b[38;5;241m1\u001b[39m] \u001b[38;5;241m=\u001b[39m \u001b[38;5;124m\"\u001b[39m\u001b[38;5;124mDağhan\u001b[39m\u001b[38;5;124m\"\u001b[39m\n",
      "\u001b[1;31mTypeError\u001b[0m: 'tuple' object does not support item assignment"
     ]
    }
   ],
   "source": [
    "t1[1] = \"Dağhan\""
   ]
  },
  {
   "cell_type": "code",
   "execution_count": 66,
   "id": "4329e057",
   "metadata": {},
   "outputs": [],
   "source": [
    "t1 = (\"Hello\",\"Welcome\",5,10,\"world\",\"of\",\"analytics\")"
   ]
  },
  {
   "cell_type": "code",
   "execution_count": 67,
   "id": "201ce0ce",
   "metadata": {},
   "outputs": [],
   "source": [
    "# 5 -> to\n",
    "# 10 -> the"
   ]
  },
  {
   "cell_type": "code",
   "execution_count": 68,
   "id": "cc4c2bf5",
   "metadata": {},
   "outputs": [
    {
     "data": {
      "text/plain": [
       "('Hello', 'Welcome')"
      ]
     },
     "execution_count": 68,
     "metadata": {},
     "output_type": "execute_result"
    }
   ],
   "source": [
    "t2 = t1[0:2]\n",
    "t2"
   ]
  },
  {
   "cell_type": "code",
   "execution_count": 69,
   "id": "41bb8514",
   "metadata": {},
   "outputs": [
    {
     "data": {
      "text/plain": [
       "('world', 'of', 'analytics')"
      ]
     },
     "execution_count": 69,
     "metadata": {},
     "output_type": "execute_result"
    }
   ],
   "source": [
    "t3 = t1[-3:]\n",
    "t3"
   ]
  },
  {
   "cell_type": "code",
   "execution_count": 70,
   "id": "07b89350",
   "metadata": {},
   "outputs": [
    {
     "data": {
      "text/plain": [
       "('Hello', 'Welcome', 'to', 'the', 'world', 'of', 'analytics')"
      ]
     },
     "execution_count": 70,
     "metadata": {},
     "output_type": "execute_result"
    }
   ],
   "source": [
    "new_tuple = t2 + (\"to\",\"the\") + t3\n",
    "new_tuple"
   ]
  },
  {
   "cell_type": "code",
   "execution_count": 71,
   "id": "e89ef209",
   "metadata": {},
   "outputs": [
    {
     "name": "stdout",
     "output_type": "stream",
     "text": [
      "c\n",
      "c\n",
      "c\n",
      "c\n"
     ]
    }
   ],
   "source": [
    "t4 = (\"disco\",12,4.5)\n",
    "print(t4[0][3])\n",
    "print(t4[0][-2])\n",
    "print(t4[-3][3])\n",
    "print(t4[-3][-2])"
   ]
  },
  {
   "cell_type": "code",
   "execution_count": 72,
   "id": "8ffe774a",
   "metadata": {},
   "outputs": [],
   "source": [
    "# Sorting in Tuples"
   ]
  },
  {
   "cell_type": "code",
   "execution_count": 73,
   "id": "11c6e456",
   "metadata": {},
   "outputs": [],
   "source": [
    "t1 = (2,3,1,6,4,9,10,7,12,5)"
   ]
  },
  {
   "cell_type": "code",
   "execution_count": 74,
   "id": "be3af370",
   "metadata": {},
   "outputs": [
    {
     "name": "stdout",
     "output_type": "stream",
     "text": [
      "[1, 2, 3, 4, 5, 6, 7, 9, 10, 12]\n",
      "<class 'list'>\n",
      "10\n"
     ]
    }
   ],
   "source": [
    "l1 = sorted(t1)\n",
    "print(l1)\n",
    "print(type(l1))\n",
    "print(len(l1))"
   ]
  },
  {
   "cell_type": "code",
   "execution_count": 75,
   "id": "b4996fae",
   "metadata": {},
   "outputs": [
    {
     "name": "stdout",
     "output_type": "stream",
     "text": [
      "(1, 2, 3, 4, 5, 6, 7, 9, 10, 12)\n",
      "<class 'tuple'>\n",
      "10\n"
     ]
    }
   ],
   "source": [
    "t2 = tuple(l1)\n",
    "print(t2)\n",
    "print(type(t2))\n",
    "print(len(t2))"
   ]
  },
  {
   "cell_type": "code",
   "execution_count": 76,
   "id": "81e86ee3",
   "metadata": {},
   "outputs": [],
   "source": [
    "# Question Answers"
   ]
  },
  {
   "cell_type": "code",
   "execution_count": 84,
   "id": "adb495e3",
   "metadata": {},
   "outputs": [],
   "source": [
    "t1 = ('2')\n",
    "t11 = ('2',)\n",
    "t2 = 1,2,\n",
    "t3 = ((1,2,3),4,5)\n",
    "#t4 = (Hello,'2','3') Error"
   ]
  },
  {
   "cell_type": "code",
   "execution_count": 86,
   "id": "47d03b74",
   "metadata": {},
   "outputs": [
    {
     "name": "stdout",
     "output_type": "stream",
     "text": [
      "<class 'str'>\n",
      "<class 'tuple'>\n",
      "<class 'tuple'>\n",
      "<class 'tuple'>\n"
     ]
    }
   ],
   "source": [
    "print(type(t1))\n",
    "print(type(t11))\n",
    "print(type(t2))\n",
    "print(type(t3)) "
   ]
  },
  {
   "cell_type": "code",
   "execution_count": null,
   "id": "8260337d",
   "metadata": {},
   "outputs": [],
   "source": []
  }
 ],
 "metadata": {
  "kernelspec": {
   "display_name": "Python 3 (ipykernel)",
   "language": "python",
   "name": "python3"
  },
  "language_info": {
   "codemirror_mode": {
    "name": "ipython",
    "version": 3
   },
   "file_extension": ".py",
   "mimetype": "text/x-python",
   "name": "python",
   "nbconvert_exporter": "python",
   "pygments_lexer": "ipython3",
   "version": "3.11.5"
  }
 },
 "nbformat": 4,
 "nbformat_minor": 5
}
