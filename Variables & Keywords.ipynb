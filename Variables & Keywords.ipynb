{
 "cells": [
  {
   "cell_type": "code",
   "execution_count": null,
   "id": "46d427e0",
   "metadata": {},
   "outputs": [],
   "source": [
    "# This study file was prepared to study and revise Python based on \n",
    "# what I've learnt from Satyajit Patnik, owner of the Data Analytics / Data Science Masters courses. "
   ]
  },
  {
   "cell_type": "code",
   "execution_count": null,
   "id": "e98bb445",
   "metadata": {},
   "outputs": [],
   "source": [
    "# Variable : A temporary storage space where you can keep changing values.\n",
    "# A python variable is a reserved memory location to store values. In other words, a variable in a python program gives data to\n",
    "# computer for processing\n",
    "# to assign values to a variable in Python, we will use the assignment (=) operator\n",
    "# a = 10 , a = \"Welcome to the class\"\n",
    "# No need to declare the datatype of the variables like in other programming languages such as Java, C and so on.\n",
    "\n",
    "# Keywords : Special reserved words which convey a special meaning to interpreter or compiler\n",
    "# It can't be used as a variable, it's not recommended since they have special meanings to interpreter or compiler\n",
    "# Some of the keywords : def,else,if,elif,class,continue,break,finally,from,lambda,except,import,None,return,len,type,in,for,while,do while,True,False,int,float,str,bool,list,input etc. "
   ]
  },
  {
   "cell_type": "code",
   "execution_count": 1,
   "id": "04612b1c",
   "metadata": {},
   "outputs": [
    {
     "data": {
      "text/plain": [
       "32"
      ]
     },
     "execution_count": 1,
     "metadata": {},
     "output_type": "execute_result"
    }
   ],
   "source": [
    "my_age = 32\n",
    "my_age    "
   ]
  },
  {
   "cell_type": "code",
   "execution_count": 2,
   "id": "67d31b5f",
   "metadata": {},
   "outputs": [
    {
     "name": "stdout",
     "output_type": "stream",
     "text": [
      "32\n"
     ]
    }
   ],
   "source": [
    "print(my_age) "
   ]
  },
  {
   "cell_type": "code",
   "execution_count": 3,
   "id": "d133c3f2",
   "metadata": {},
   "outputs": [
    {
     "data": {
      "text/plain": [
       "int"
      ]
     },
     "execution_count": 3,
     "metadata": {},
     "output_type": "execute_result"
    }
   ],
   "source": [
    "type(my_age)"
   ]
  },
  {
   "cell_type": "code",
   "execution_count": 4,
   "id": "8778743f",
   "metadata": {},
   "outputs": [
    {
     "ename": "SyntaxError",
     "evalue": "invalid syntax (3433991624.py, line 1)",
     "output_type": "error",
     "traceback": [
      "\u001b[1;36m  Cell \u001b[1;32mIn[4], line 1\u001b[1;36m\u001b[0m\n\u001b[1;33m    1 , 2, 3 --> integer, int\u001b[0m\n\u001b[1;37m              ^\u001b[0m\n\u001b[1;31mSyntaxError\u001b[0m\u001b[1;31m:\u001b[0m invalid syntax\n"
     ]
    }
   ],
   "source": [
    "1 , 2, 3 --> integer, int\n",
    "1.2, 2.3, 3.4 --> float\n",
    "\"Hello\", \"World\", \"Yağız\" --> String, str\n",
    "True, False --> Boolean, bool"
   ]
  },
  {
   "cell_type": "code",
   "execution_count": 5,
   "id": "141ca361",
   "metadata": {},
   "outputs": [
    {
     "name": "stdout",
     "output_type": "stream",
     "text": [
      "Yağız Esmerligil\n"
     ]
    }
   ],
   "source": [
    "my_name = 'Yağız Esmerligil'\n",
    "print(my_name)"
   ]
  },
  {
   "cell_type": "code",
   "execution_count": 6,
   "id": "5404afea",
   "metadata": {},
   "outputs": [
    {
     "data": {
      "text/plain": [
       "str"
      ]
     },
     "execution_count": 6,
     "metadata": {},
     "output_type": "execute_result"
    }
   ],
   "source": [
    "type(my_name)"
   ]
  },
  {
   "cell_type": "code",
   "execution_count": 7,
   "id": "49e7c134",
   "metadata": {},
   "outputs": [
    {
     "name": "stdout",
     "output_type": "stream",
     "text": [
      "89.4\n"
     ]
    }
   ],
   "source": [
    "score = 89.4\n",
    "print(score)"
   ]
  },
  {
   "cell_type": "code",
   "execution_count": 8,
   "id": "bab4540e",
   "metadata": {},
   "outputs": [
    {
     "data": {
      "text/plain": [
       "float"
      ]
     },
     "execution_count": 8,
     "metadata": {},
     "output_type": "execute_result"
    }
   ],
   "source": [
    "type(score)"
   ]
  },
  {
   "cell_type": "code",
   "execution_count": 9,
   "id": "ba7ad528",
   "metadata": {},
   "outputs": [
    {
     "data": {
      "text/plain": [
       "str"
      ]
     },
     "execution_count": 9,
     "metadata": {},
     "output_type": "execute_result"
    }
   ],
   "source": [
    "var = \"Hello world, welcome to the class\"\n",
    "type(var)"
   ]
  },
  {
   "cell_type": "code",
   "execution_count": 10,
   "id": "282f0108",
   "metadata": {},
   "outputs": [
    {
     "name": "stdout",
     "output_type": "stream",
     "text": [
      "Hello world, welcome to the class\n"
     ]
    }
   ],
   "source": [
    "print(var)"
   ]
  },
  {
   "cell_type": "code",
   "execution_count": 11,
   "id": "d29aa78f",
   "metadata": {},
   "outputs": [
    {
     "data": {
      "text/plain": [
       "int"
      ]
     },
     "execution_count": 11,
     "metadata": {},
     "output_type": "execute_result"
    }
   ],
   "source": [
    "var = 10\n",
    "type(var)"
   ]
  },
  {
   "cell_type": "code",
   "execution_count": 12,
   "id": "2d793d37",
   "metadata": {},
   "outputs": [
    {
     "name": "stdout",
     "output_type": "stream",
     "text": [
      "10\n"
     ]
    }
   ],
   "source": [
    "print(var)"
   ]
  },
  {
   "cell_type": "code",
   "execution_count": 13,
   "id": "f9f2ab1e",
   "metadata": {},
   "outputs": [
    {
     "data": {
      "text/plain": [
       "str"
      ]
     },
     "execution_count": 13,
     "metadata": {},
     "output_type": "execute_result"
    }
   ],
   "source": [
    "string_var = \"Hello world, welcome to the class\"\n",
    "type(string_var)\n"
   ]
  },
  {
   "cell_type": "code",
   "execution_count": 14,
   "id": "a39f7d58",
   "metadata": {},
   "outputs": [
    {
     "name": "stdout",
     "output_type": "stream",
     "text": [
      "Hello world, welcome to the class\n"
     ]
    }
   ],
   "source": [
    "print(string_var)"
   ]
  },
  {
   "cell_type": "code",
   "execution_count": 15,
   "id": "be773b0a",
   "metadata": {},
   "outputs": [
    {
     "name": "stdout",
     "output_type": "stream",
     "text": [
      "10.5\n"
     ]
    }
   ],
   "source": [
    "a = 10.5\n",
    "print(a)"
   ]
  },
  {
   "cell_type": "code",
   "execution_count": 17,
   "id": "f7c21264",
   "metadata": {},
   "outputs": [
    {
     "name": "stdout",
     "output_type": "stream",
     "text": [
      "<class 'float'>\n"
     ]
    }
   ],
   "source": [
    "print(type(a))"
   ]
  },
  {
   "cell_type": "code",
   "execution_count": 18,
   "id": "34ba0399",
   "metadata": {},
   "outputs": [
    {
     "name": "stdout",
     "output_type": "stream",
     "text": [
      "10.5\n"
     ]
    }
   ],
   "source": [
    "a = '10.5'\n",
    "print(a)"
   ]
  },
  {
   "cell_type": "code",
   "execution_count": 19,
   "id": "8ec0247d",
   "metadata": {},
   "outputs": [
    {
     "name": "stdout",
     "output_type": "stream",
     "text": [
      "<class 'str'>\n"
     ]
    }
   ],
   "source": [
    "print(type(a))"
   ]
  },
  {
   "cell_type": "code",
   "execution_count": 20,
   "id": "65dcbc76",
   "metadata": {},
   "outputs": [
    {
     "name": "stdout",
     "output_type": "stream",
     "text": [
      "True\n",
      "<class 'bool'>\n"
     ]
    }
   ],
   "source": [
    "a = True\n",
    "print(a)\n",
    "print(type(a))"
   ]
  },
  {
   "cell_type": "code",
   "execution_count": 21,
   "id": "efe0540a",
   "metadata": {},
   "outputs": [
    {
     "name": "stdout",
     "output_type": "stream",
     "text": [
      "True\n",
      "<class 'str'>\n"
     ]
    }
   ],
   "source": [
    "a = \"True\"\n",
    "print(a)\n",
    "print(type(a))"
   ]
  },
  {
   "cell_type": "code",
   "execution_count": 22,
   "id": "a58bca7a",
   "metadata": {},
   "outputs": [
    {
     "name": "stdout",
     "output_type": "stream",
     "text": [
      "True\n",
      "<class 'bool'>\n"
     ]
    }
   ],
   "source": [
    "bool_var = True\n",
    "print(bool_var)\n",
    "print(type(bool_var))"
   ]
  },
  {
   "cell_type": "code",
   "execution_count": 23,
   "id": "bc3308f4",
   "metadata": {},
   "outputs": [
    {
     "name": "stdout",
     "output_type": "stream",
     "text": [
      "True\n",
      "<class 'str'>\n"
     ]
    }
   ],
   "source": [
    "bool_var = \"True\"\n",
    "print(bool_var)\n",
    "print(type(bool_var))"
   ]
  },
  {
   "cell_type": "code",
   "execution_count": 24,
   "id": "b499eb27",
   "metadata": {},
   "outputs": [
    {
     "name": "stdout",
     "output_type": "stream",
     "text": [
      "10\n"
     ]
    }
   ],
   "source": [
    "a5 = 10\n",
    "print(a5)"
   ]
  },
  {
   "cell_type": "code",
   "execution_count": 25,
   "id": "ed9fdf07",
   "metadata": {},
   "outputs": [
    {
     "ename": "SyntaxError",
     "evalue": "invalid decimal literal (2825997164.py, line 1)",
     "output_type": "error",
     "traceback": [
      "\u001b[1;36m  Cell \u001b[1;32mIn[25], line 1\u001b[1;36m\u001b[0m\n\u001b[1;33m    5a = 10\u001b[0m\n\u001b[1;37m    ^\u001b[0m\n\u001b[1;31mSyntaxError\u001b[0m\u001b[1;31m:\u001b[0m invalid decimal literal\n"
     ]
    }
   ],
   "source": [
    "5a = 10\n",
    "print(5a)\n",
    "# Your variable name can't start with a number,it should always start with a character."
   ]
  },
  {
   "cell_type": "code",
   "execution_count": 26,
   "id": "b3dd7042",
   "metadata": {},
   "outputs": [
    {
     "name": "stdout",
     "output_type": "stream",
     "text": [
      "10\n",
      "15\n"
     ]
    }
   ],
   "source": [
    "# variable names are case sensitive\n",
    "a = 10\n",
    "A = 15\n",
    "print(a)\n",
    "print(A)"
   ]
  },
  {
   "cell_type": "code",
   "execution_count": 27,
   "id": "b478adf0",
   "metadata": {},
   "outputs": [
    {
     "name": "stdout",
     "output_type": "stream",
     "text": [
      "2\n",
      "4\n"
     ]
    }
   ],
   "source": [
    "name = 2\n",
    "Name = 4\n",
    "print(name)\n",
    "print(Name)"
   ]
  },
  {
   "cell_type": "code",
   "execution_count": 28,
   "id": "33fd2546",
   "metadata": {},
   "outputs": [
    {
     "name": "stdout",
     "output_type": "stream",
     "text": [
      "9\n",
      "<class 'int'>\n"
     ]
    }
   ],
   "source": [
    "a = 4\n",
    "b = 5\n",
    "c = a + b\n",
    "print(c)\n",
    "print(type(c))"
   ]
  },
  {
   "cell_type": "code",
   "execution_count": 29,
   "id": "0d973b5c",
   "metadata": {},
   "outputs": [
    {
     "name": "stdout",
     "output_type": "stream",
     "text": [
      "29\n",
      "<class 'int'>\n"
     ]
    }
   ],
   "source": [
    "a = 14\n",
    "b = 15\n",
    "c = a + b\n",
    "print(c)\n",
    "print(type(c))"
   ]
  },
  {
   "cell_type": "code",
   "execution_count": 32,
   "id": "fca562bb",
   "metadata": {},
   "outputs": [],
   "source": [
    "def sum_function(a,b):\n",
    "    c = a + b\n",
    "    print(type(c))\n",
    "    return c"
   ]
  },
  {
   "cell_type": "code",
   "execution_count": 33,
   "id": "79247d4c",
   "metadata": {},
   "outputs": [
    {
     "name": "stdout",
     "output_type": "stream",
     "text": [
      "<class 'int'>\n"
     ]
    },
    {
     "data": {
      "text/plain": [
       "9"
      ]
     },
     "execution_count": 33,
     "metadata": {},
     "output_type": "execute_result"
    }
   ],
   "source": [
    "sum_function(4,5)"
   ]
  },
  {
   "cell_type": "code",
   "execution_count": 34,
   "id": "da1241b2",
   "metadata": {},
   "outputs": [
    {
     "name": "stdout",
     "output_type": "stream",
     "text": [
      "<class 'int'>\n"
     ]
    },
    {
     "data": {
      "text/plain": [
       "29"
      ]
     },
     "execution_count": 34,
     "metadata": {},
     "output_type": "execute_result"
    }
   ],
   "source": [
    "sum_function(14,15)"
   ]
  },
  {
   "cell_type": "code",
   "execution_count": 35,
   "id": "62dcc802",
   "metadata": {},
   "outputs": [
    {
     "ename": "SyntaxError",
     "evalue": "invalid decimal literal (4018362578.py, line 1)",
     "output_type": "error",
     "traceback": [
      "\u001b[1;36m  Cell \u001b[1;32mIn[35], line 1\u001b[1;36m\u001b[0m\n\u001b[1;33m    1name = 5\u001b[0m\n\u001b[1;37m    ^\u001b[0m\n\u001b[1;31mSyntaxError\u001b[0m\u001b[1;31m:\u001b[0m invalid decimal literal\n"
     ]
    }
   ],
   "source": [
    "1name = 5"
   ]
  },
  {
   "cell_type": "code",
   "execution_count": 38,
   "id": "96b64f1e",
   "metadata": {},
   "outputs": [],
   "source": [
    "name = \"Yağız\"\n",
    "surname = \"Esmerligil\"\n",
    "age = 26\n",
    "country = \"Turkey\"\n",
    "salary = 20000.350\n",
    "list = []\n",
    "list.append(name)\n",
    "list.append(surname)\n",
    "list.append(age)\n",
    "list.append(country)\n",
    "list.append(salary)\n"
   ]
  },
  {
   "cell_type": "code",
   "execution_count": 39,
   "id": "4db123d9",
   "metadata": {},
   "outputs": [
    {
     "name": "stdout",
     "output_type": "stream",
     "text": [
      "['Yağız', 'Esmerligil', 26, 'Turkey', 20000.35]\n",
      "<class 'list'>\n"
     ]
    }
   ],
   "source": [
    "print(list)\n",
    "print(type(list))"
   ]
  },
  {
   "cell_type": "code",
   "execution_count": 41,
   "id": "cedda54f",
   "metadata": {},
   "outputs": [
    {
     "name": "stdout",
     "output_type": "stream",
     "text": [
      "Yağız\n",
      "<class 'str'>\n",
      "Esmerligil\n",
      "<class 'str'>\n",
      "26\n",
      "<class 'int'>\n",
      "Turkey\n",
      "<class 'str'>\n",
      "20000.35\n",
      "<class 'float'>\n"
     ]
    }
   ],
   "source": [
    "for val in list:\n",
    "    print(val)\n",
    "    print(type(val))"
   ]
  },
  {
   "cell_type": "code",
   "execution_count": 42,
   "id": "71b3c320",
   "metadata": {},
   "outputs": [
    {
     "name": "stdout",
     "output_type": "stream",
     "text": [
      "5\n"
     ]
    }
   ],
   "source": [
    "len_list = len(list)\n",
    "print(len_list)"
   ]
  },
  {
   "cell_type": "code",
   "execution_count": 43,
   "id": "ca1717cf",
   "metadata": {},
   "outputs": [
    {
     "name": "stdout",
     "output_type": "stream",
     "text": [
      "10\n"
     ]
    },
    {
     "ename": "TypeError",
     "evalue": "'int' object is not callable",
     "output_type": "error",
     "traceback": [
      "\u001b[1;31m---------------------------------------------------------------------------\u001b[0m",
      "\u001b[1;31mTypeError\u001b[0m                                 Traceback (most recent call last)",
      "Cell \u001b[1;32mIn[43], line 3\u001b[0m\n\u001b[0;32m      1\u001b[0m \u001b[38;5;28mtype\u001b[39m \u001b[38;5;241m=\u001b[39m \u001b[38;5;241m10\u001b[39m\n\u001b[0;32m      2\u001b[0m \u001b[38;5;28mprint\u001b[39m(\u001b[38;5;28mtype\u001b[39m)\n\u001b[1;32m----> 3\u001b[0m \u001b[38;5;28mprint\u001b[39m(\u001b[38;5;28mtype\u001b[39m(\u001b[38;5;28mtype\u001b[39m))\n",
      "\u001b[1;31mTypeError\u001b[0m: 'int' object is not callable"
     ]
    }
   ],
   "source": [
    "type = 10\n",
    "print(type)\n",
    "print(type(type))\n",
    "# This type of usage is not recommended"
   ]
  },
  {
   "cell_type": "code",
   "execution_count": null,
   "id": "01a3c6b1",
   "metadata": {},
   "outputs": [],
   "source": [
    "  "
   ]
  }
 ],
 "metadata": {
  "kernelspec": {
   "display_name": "Python 3 (ipykernel)",
   "language": "python",
   "name": "python3"
  },
  "language_info": {
   "codemirror_mode": {
    "name": "ipython",
    "version": 3
   },
   "file_extension": ".py",
   "mimetype": "text/x-python",
   "name": "python",
   "nbconvert_exporter": "python",
   "pygments_lexer": "ipython3",
   "version": "3.11.5"
  }
 },
 "nbformat": 4,
 "nbformat_minor": 5
}
